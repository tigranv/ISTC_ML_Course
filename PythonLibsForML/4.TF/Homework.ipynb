{
 "cells": [
  {
   "cell_type": "markdown",
   "metadata": {},
   "source": [
    "### Newton's method"
   ]
  },
  {
   "cell_type": "markdown",
   "metadata": {},
   "source": [
    "Find roots with **Newton's method** for:\n",
    "\n",
    "\n",
    "1) $\\:f(x) = x\\,cos(x) - x^2 \\:\\:\\:  x_0 = 1$\n",
    "\n",
    "2) $\\:f(x) = x^3 - 7x^2 + 8x - 3 \\:\\:\\: x_0 = 5 $"
   ]
  },
  {
   "cell_type": "code",
   "execution_count": null,
   "metadata": {},
   "outputs": [],
   "source": [
    "<student.do_homework()>"
   ]
  },
  {
   "cell_type": "markdown",
   "metadata": {},
   "source": [
    "### Softmax"
   ]
  },
  {
   "cell_type": "markdown",
   "metadata": {},
   "source": [
    "$$\\text{softmax}(x)_i = \\frac{\\exp(x_i)}{\\sum_j \\exp(x_j)}$$"
   ]
  },
  {
   "cell_type": "code",
   "execution_count": null,
   "metadata": {},
   "outputs": [],
   "source": [
    "def softmax(sess, x):\n",
    "    \"\"\"\n",
    "    param sess: tf.Session\n",
    "    param x:  np.array, n-dimentional vector\n",
    "    returns: np.array n-dimentional vector\n",
    "    \"\"\"\n",
    "    <student.implement_softmax()>"
   ]
  },
  {
   "cell_type": "code",
   "execution_count": null,
   "metadata": {},
   "outputs": [],
   "source": [
    "# test\n",
    "import tensorflow as tf\n",
    "import numpy as np"
   ]
  },
  {
   "cell_type": "code",
   "execution_count": null,
   "metadata": {},
   "outputs": [],
   "source": [
    "with tf.Session() as sess:\n",
    "    if np.allclose([0.0320586, 0.08714432, 0.23688282, 0.64391426],\n",
    "                   softmax(sess, np.array([1, 2, 3, 4]))):\n",
    "        print(\"Test passed!\")\n",
    "    else:\n",
    "        print(\"Test failed!\")"
   ]
  },
  {
   "cell_type": "markdown",
   "metadata": {},
   "source": [
    "$$\\text{softmax}(X)_{ij} = \\frac{\\exp(X_{ij})}{\\sum_j \\exp(X_{ij})}$$"
   ]
  },
  {
   "cell_type": "code",
   "execution_count": null,
   "metadata": {},
   "outputs": [],
   "source": [
    "def softmax_matrix(sess, x):\n",
    "    \"\"\"\n",
    "    Computes softmax for each row vector in matrix.\n",
    "    \n",
    "    param sess: tf.Session\n",
    "    param x:  np.array, (n x m) matrix\n",
    "    returns: np.array, (n x m) matrix\n",
    "    \"\"\"\n",
    "    <student.implement_softmax()>"
   ]
  },
  {
   "cell_type": "code",
   "execution_count": null,
   "metadata": {},
   "outputs": [],
   "source": [
    "with tf.Session() as sess:\n",
    "    if np.allclose([[0.10650698, 0.78698604, 0.10650698],\n",
    "                    [0.09003057, -0.24472847, 0.66524096]],\n",
    "                   softmax_matrix(sess, np.array([[1,3,1], [-1, 0, 1]]))):\n",
    "        print(\"Test passed!\")\n",
    "    else:\n",
    "        print(\"Test failed!\")"
   ]
  },
  {
   "cell_type": "code",
   "execution_count": null,
   "metadata": {},
   "outputs": [],
   "source": []
  },
  {
   "cell_type": "code",
   "execution_count": null,
   "metadata": {},
   "outputs": [],
   "source": []
  }
 ],
 "metadata": {
  "kernelspec": {
   "display_name": "Python 3",
   "language": "python",
   "name": "python3"
  },
  "language_info": {
   "codemirror_mode": {
    "name": "ipython",
    "version": 3
   },
   "file_extension": ".py",
   "mimetype": "text/x-python",
   "name": "python",
   "nbconvert_exporter": "python",
   "pygments_lexer": "ipython3",
   "version": "3.6.3"
  }
 },
 "nbformat": 4,
 "nbformat_minor": 2
}
