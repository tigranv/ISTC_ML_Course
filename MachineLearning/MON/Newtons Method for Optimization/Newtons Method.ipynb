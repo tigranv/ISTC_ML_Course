{
 "cells": [
  {
   "cell_type": "markdown",
   "metadata": {},
   "source": [
    "# Newton's Method for Optimization in Python \n",
    "\n",
    "## Introduction\n",
    "\n",
    "We will implement Newton's Method, a second order optimization algorithm from scratch in python. Given a real valued function $f(x)$, the goal is to find number(s) $c$ such that $f'(c) = 0.$ Suppose we have a function $f: \\mathbb{R} \\to \\mathbb{R}$, the Newton's metod gives us a itterative algorith to find the zero's of f(x). In particular, the itterative formula for finding $x^*$ such that f($x^*$) = 0 is \n",
    "\\begin{equation}\n",
    "x_{t+1} = x_t - \\frac{f(x_t)}{f'(x_t)},\n",
    "\\end{equation}\n",
    "\n",
    "where $t$ is the itteration index. As $t$ gets very large, it turns out that $x_{t+1}$ will get very close to $x_{t}$ and converge towards $x^*$. \n",
    "\n",
    "## Intuition behind Newton's method formula\n",
    "Again let's suppose $f: \\mathbb{R} \\to \\mathbb{R},$ and $f(x^*) = 0.$ We can approximate $f(x)$ at $x^*$ using the taylor series expansion, that is $$f(x^*) \\approx f(x) + f'(x)(x^*-x).$$ Now since $f(x^*) = 0,$ we can rearrage the above equation and get $$x^* \\approx x - \\frac{f(x)}{f'(x)},$$ if $x$ is somewhat close to $x^*$ this suggests the itterative Newton's method can find the zeros of $f(x).$\n",
    "\n",
    "## Newton's method for optimization\n",
    "In machine learning we are often interested in maximizing or minimizing a function $f(x)$. This is equivalent to saying that we want to find the zeros of $f'(x) = 0.$ Simply adjusting the newton's method above, we can itteratively compute the zeros of $f'(x)$ using \n",
    "\\begin{equation}\n",
    "x_{t+1} = x_t - \\frac{f'(x_t)}{f''(x_t)},\n",
    "\\end{equation}\n",
    "where $t$ is the itteration index. Once $x_{t+1}$ converges to $x^*$, then $f'(x^*) = 0.$ So far we have been dealing with a one simple one dimensional function $f: \\mathbb{R} \\to \\mathbb{R}$, however the newton's method can easily be extended to apply to functions $g: \\mathbb{R}^{n} \\to \\mathbb{R}$ by replacing the first $g'(x)$ with a gradient vector, and $g''(x)$ with a hessian matrix. More precisely, the newton's update formula for optimizing a real valued funciton $g$ with a n-dimensional input vector would be\n",
    "\n",
    "$$\n",
    "\\begin{bmatrix}\n",
    "    x_{0}^{t+1} \\\\ \n",
    "    \\vdots \\\\\n",
    "    x_{n}^{t+1}\n",
    "\\end{bmatrix}\n",
    "=\n",
    "\\begin{bmatrix}\n",
    "    x_{0}^{t} \\\\ \n",
    "    \\vdots \\\\\n",
    "    x_{n}^{t}\n",
    "\\end{bmatrix}\n",
    "-\n",
    "\\begin{bmatrix}\n",
    "    \\frac{d^2 g(x_{0})}{dx_{0,t}^{2}} & \\ldots & \\frac{d^2 g(x_{0})}{dx_{0,t}dx_{n,t}} \\\\ \n",
    "    \\vdots & \\ldots & \\vdots \\\\\n",
    "    \\frac{d^2 g(x_{n})}{dx_{n,t}dx_{0,t}} & \\ldots & \\frac{d^2 g(x_{n})}{dx_{n,t}^2}\n",
    "\\end{bmatrix}^{-1}\n",
    "\\begin{bmatrix}\n",
    "    \\frac{dg(x_{0})}{dx_{0,t}} \\\\ \n",
    "    \\vdots \\\\\n",
    "    \\frac{dg(x_{n})}{dx_{n,t}} \\\\ \n",
    "\\end{bmatrix},\n",
    "$$\n",
    "where $t$ is the newton's update itteration. An example with n = 2 and real data will be shown below. \n",
    "\n",
    "\n",
    "## Application of Newton's method to IMDB movie data\n",
    "Now that we have a basic sense of the newton's method, we will use to estimate the parameters in a linear regression framework to model the relationship between IMDB's movies score (rating out of 10) and the movies gross sales (in dollars). We will use a data set from https://www.kaggle.com/deepmatrix/imdb-5000-movie-dataset. The data contains various statistics from IMDB for over 5000 movies. For our purposes we will only be interested in the IMDB rating and gross sales."
   ]
  },
  {
   "cell_type": "code",
   "execution_count": 9,
   "metadata": {
    "collapsed": true
   },
   "outputs": [],
   "source": [
    "# Import the standard packages for doing math operations, data manipulation, and plotting\n",
    "import numpy as np\n",
    "import pandas as pd\n",
    "import matplotlib.pyplot as plt"
   ]
  },
  {
   "cell_type": "code",
   "execution_count": 10,
   "metadata": {},
   "outputs": [
    {
     "data": {
      "text/plain": [
       "array(['color', 'director_name', 'num_critic_for_reviews', 'duration',\n",
       "       'director_facebook_likes', 'actor_3_facebook_likes', 'actor_2_name',\n",
       "       'actor_1_facebook_likes', 'gross', 'genres', 'actor_1_name',\n",
       "       'movie_title', 'num_voted_users', 'cast_total_facebook_likes',\n",
       "       'actor_3_name', 'facenumber_in_poster', 'plot_keywords',\n",
       "       'movie_imdb_link', 'num_user_for_reviews', 'language', 'country',\n",
       "       'content_rating', 'budget', 'title_year', 'actor_2_facebook_likes',\n",
       "       'imdb_score', 'aspect_ratio', 'movie_facebook_likes'], dtype=object)"
      ]
     },
     "execution_count": 10,
     "metadata": {},
     "output_type": "execute_result"
    }
   ],
   "source": [
    "# Load the IMDB data\n",
    "movie_data = pd.read_csv(\"movie_metadata.csv\")\n",
    "\n",
    "# Show all the variables in the data set\n",
    "movie_data.columns.values"
   ]
  },
  {
   "cell_type": "markdown",
   "metadata": {},
   "source": [
    "Let's clean the data set a little bit. We will only keep the US movies since some of the gross revenues for movies from other countries are not reported in dollars. We will also only keep the imdb score and gross revenue variables for our analysis and drop the rest. I also informally convert the movie gross sales revenue in terms of 2017 dollar by assuming a $2.5\\%$ yearly inflation rate. (To formally convert to 2017 dollars we would need to use consumer price index data from the US bureau of labour statistics) Also since we are dealing with real data, we need to take missing values into consideration. "
   ]
  },
  {
   "cell_type": "code",
   "execution_count": 11,
   "metadata": {},
   "outputs": [
    {
     "data": {
      "text/html": [
       "<div>\n",
       "<style>\n",
       "    .dataframe thead tr:only-child th {\n",
       "        text-align: right;\n",
       "    }\n",
       "\n",
       "    .dataframe thead th {\n",
       "        text-align: left;\n",
       "    }\n",
       "\n",
       "    .dataframe tbody tr th {\n",
       "        vertical-align: top;\n",
       "    }\n",
       "</style>\n",
       "<table border=\"1\" class=\"dataframe\">\n",
       "  <thead>\n",
       "    <tr style=\"text-align: right;\">\n",
       "      <th></th>\n",
       "      <th>gross</th>\n",
       "      <th>imdb_score</th>\n",
       "    </tr>\n",
       "  </thead>\n",
       "  <tbody>\n",
       "    <tr>\n",
       "      <th>count</th>\n",
       "      <td>3235.000000</td>\n",
       "      <td>3235.000000</td>\n",
       "    </tr>\n",
       "    <tr>\n",
       "      <th>mean</th>\n",
       "      <td>79.764661</td>\n",
       "      <td>6.385533</td>\n",
       "    </tr>\n",
       "    <tr>\n",
       "      <th>std</th>\n",
       "      <td>109.842143</td>\n",
       "      <td>1.049178</td>\n",
       "    </tr>\n",
       "    <tr>\n",
       "      <th>min</th>\n",
       "      <td>0.001044</td>\n",
       "      <td>1.600000</td>\n",
       "    </tr>\n",
       "    <tr>\n",
       "      <th>25%</th>\n",
       "      <td>14.132349</td>\n",
       "      <td>5.800000</td>\n",
       "    </tr>\n",
       "    <tr>\n",
       "      <th>50%</th>\n",
       "      <td>44.210734</td>\n",
       "      <td>6.500000</td>\n",
       "    </tr>\n",
       "    <tr>\n",
       "      <th>75%</th>\n",
       "      <td>102.207258</td>\n",
       "      <td>7.100000</td>\n",
       "    </tr>\n",
       "    <tr>\n",
       "      <th>max</th>\n",
       "      <td>1363.206376</td>\n",
       "      <td>9.300000</td>\n",
       "    </tr>\n",
       "  </tbody>\n",
       "</table>\n",
       "</div>"
      ],
      "text/plain": [
       "             gross   imdb_score\n",
       "count  3235.000000  3235.000000\n",
       "mean     79.764661     6.385533\n",
       "std     109.842143     1.049178\n",
       "min       0.001044     1.600000\n",
       "25%      14.132349     5.800000\n",
       "50%      44.210734     6.500000\n",
       "75%     102.207258     7.100000\n",
       "max    1363.206376     9.300000"
      ]
     },
     "execution_count": 11,
     "metadata": {},
     "output_type": "execute_result"
    }
   ],
   "source": [
    "# Drop rows with missing gross revenue data (standard practice in regression analysis)\n",
    "movie_data = movie_data.dropna(subset = ['gross'])\n",
    "\n",
    "# Only keep data on movies from the US\n",
    "movie_data = movie_data[movie_data['country'] == \"USA\"]\n",
    "\n",
    "# Assuming a average US inflation rate of 2.5%, we convert gross revenue in terms of 2017 dollars\n",
    "movie_data[['gross']] = (1.025**(2017-movie_data['title_year']))*movie_data['gross']\n",
    "\n",
    "# Only keep the variables of interest, 'imdb_score' and 'gross'\n",
    "movie_data = movie_data[['gross','imdb_score']]\n",
    "\n",
    "# Let's scale the gross revenue to be in millions of dollars so its easier to read\n",
    "movie_data[['gross']] = movie_data[['gross']]/1000000\n",
    "\n",
    "# Summary statistics\n",
    "movie_data.describe()"
   ]
  },
  {
   "cell_type": "markdown",
   "metadata": {},
   "source": [
    "From the above summary statistics, we notice the average IMDB US movie rating is 6.4, and average gross sales revenue is about 80 million."
   ]
  },
  {
   "cell_type": "code",
   "execution_count": 12,
   "metadata": {},
   "outputs": [
    {
     "data": {
      "image/png": "[encoded data removed]",
      "text/plain": [
       "<matplotlib.figure.Figure at 0x1080d4750>"
      ]
     },
     "metadata": {},
     "output_type": "display_data"
    }
   ],
   "source": [
    "# Visualize data\n",
    "plt.scatter(movie_data['imdb_score'], movie_data['gross'])\n",
    "\n",
    "# Chart title\n",
    "plt.title('IMDB Rating and Gross Sales')\n",
    "\n",
    "# y label\n",
    "plt.ylabel('Gross sales revenue ($ millions)')\n",
    "\n",
    "# x label\n",
    "plt.xlabel('IMDB Rating (0 - 10)')\n",
    "\n",
    "plt.show()\n",
    "\n"
   ]
  },
  {
   "cell_type": "markdown",
   "metadata": {},
   "source": [
    "## Linear regression model\n",
    "We want to fit a \"line of best fit\" to the above scatter plot. In particular, we want to model the relationship between IMDB rating and gross movie sales as $$GrossSales_{i} = \\beta_{0} + \\beta_{1}IMDBRating_{i} + \\epsilon_{i},$$ where $\\epsilon_{i}$ is a random error term with mean 0. We would like to estimate values for $\\beta = (\\beta_1, \\beta_2)$ that \"best fits\" the data. To define fitness, we will use the square loss function. That is the sum of square error is $$SSE = \\frac{1}{2}\\sum_{i=1}^{n} (GrossSales_{i} - \\hat{GrossSales_{i}})^2,$$ where $\\hat{GrossSales_{i}}$ is the predicted gross revenue of movie $i$ from our linear model. More precisely, $$\\hat{GrossSales_{i}} = \\hat{\\beta_{0}} + \\hat{\\beta_{1}}IMDBRating_{i}.$$ The basic idea here is that we want to learn the weights (or coeffecients) $\\hat{\\beta} = (\\hat{\\beta_1}, \\hat{\\beta_2})$ so that SSE is small as possible and that will be resulting \"line of best fit\"."
   ]
  },
  {
   "cell_type": "markdown",
   "metadata": {},
   "source": [
    "# Newton's method for linear regression model"
   ]
  },
  {
   "cell_type": "markdown",
   "metadata": {
    "collapsed": true
   },
   "source": [
    "We use Newton's method as our \"learning algorithm\" to learn $\\hat{\\beta} = (\\hat{\\beta_1}, \\hat{\\beta_2})$ so that we can use the parameters to fit a linear relationship to the data. Note that we can rewrite SSE as, $$SSE(\\beta_{1},\\beta_{2}) = \\frac{1}{2}\\sum_{i=1}^{n} (GrossSales_{i} - \\beta_{0} - \\beta_{1}IMDBRating_{i})^2. $$ Since we want to minimize $SSE(\\beta_1,\\beta_2)$, we set $\\frac{dSSE}{d\\beta_0} = \\frac{dSSE}{d\\beta_1} = 0.$ This is where Newton's method kicks in, now we have a function $\\frac{dSSE}{d\\beta}:\\mathbb{R}^2 \\to \\mathbb{R},$ and we are interested in finding $\\hat{\\beta} = (\\hat{\\beta_1}, \\hat{\\beta_2})$ such that $\\frac{dSSE(\\hat{\\beta_1}, \\hat{\\beta_2})}{d\\beta} = 0.$ To apply newton's method, we will need to use a matrix version of the newton's method shown above, that is our update rule will be \n",
    "\n",
    "$$\n",
    "\\begin{bmatrix}\n",
    "    \\beta_{0}^{t+1} \\\\ \n",
    "    \\beta_{1}^{t+1}\n",
    "\\end{bmatrix}\n",
    "=\n",
    "\\begin{bmatrix}\n",
    "    \\beta_{0}^{t} \\\\ \n",
    "    \\beta_{1}^{t}\n",
    "\\end{bmatrix}\n",
    "-\n",
    "\\begin{bmatrix}\n",
    "    \\frac{d^2 SSE}{d\\beta_{0,t}^{2}} & \\frac{d^2 SSE}{d\\beta_{1,t}d\\beta_{0,t}} \\\\ \n",
    "    \\frac{d^2 SSE}{d\\beta_{0,t}d\\beta_{1,t}} & \\frac{d^2 SSE}{d\\beta_{1,t}^{2}}\n",
    "\\end{bmatrix}^{-1}\n",
    "\\begin{bmatrix}\n",
    "    \\frac{dSSE}{d\\beta_{0,t}} \\\\ \n",
    "    \\frac{dSSE}{d\\beta_{1,t}}\n",
    "\\end{bmatrix},\n",
    "$$\n",
    "where $t$ is the newton's method itteration. Using power rule, we can derive that $$\\frac{dSSE}{d\\beta_{0}} = -\\sum_{i=1}^{n}(GrossSales_{i}-\\beta_{0}-\\beta_{1}IMDBRating_{i}), $$ and $$\\frac{dSSE}{d\\beta_{1}} = -\\sum_{i=1}^{n}(GrossSales_{i}-\\beta_{0}-\\beta_{1}IMDBRating_{i})IMDBRating_{i}.$$ Using power and chain rule we can also find $$\\frac{d^2 SSE}{d\\beta_{0}^{2}} = n, \\frac{d^2 SSE}{d\\beta_{0}\\beta_{1}} = \\sum_{i=1}^{n}IMDBRating_{i}$$ and $$\\frac{d^2 SSE}{d\\beta_{1}^{2}} = \\sum_{i=1}^{n}IMDBRating_{i}^{2}.$$\n"
   ]
  },
  {
   "cell_type": "code",
   "execution_count": 13,
   "metadata": {
    "collapsed": true
   },
   "outputs": [],
   "source": [
    "# Data size, this is derivitive with respect to B0^2\n",
    "n = len(movie_data.index)\n",
    "\n",
    "# Sum(IMDB_score), this is derivitive with respect to B0B1 and B1B0\n",
    "sum_imdb = sum(movie_data['imdb_score'])\n",
    "\n",
    "# Sum(IMDB_score^2), this is derivitive with respect to B1^2\n",
    "sum_sq_imdb = sum(np.power(movie_data['imdb_score'],2))\n",
    "\n",
    "# Initialize hessian matrix as it doesn't depend on linear regression parameters\n",
    "H = [[n,sum_imdb],[sum_imdb,sum_sq_imdb]]\n",
    "\n",
    "# Define threshold for convergence, epsilon = 10^-4\n",
    "epsilon = 10 ** -4\n",
    "\n",
    "# Criterion to be updated in newton's method\n",
    "criterion = 10\n",
    "\n",
    "# Initialize parameters\n",
    "new_param = np.array((-50,10))"
   ]
  },
  {
   "cell_type": "code",
   "execution_count": 14,
   "metadata": {
    "collapsed": true
   },
   "outputs": [],
   "source": [
    "# Define Newton's method update rule as a function\n",
    "def newton_update(old_param, hessian, jacobian):\n",
    "    # Matrix version of newton's update\n",
    "    new_param = np.array(np.subtract(old_param,np.dot(np.linalg.inv(hessian),jacobian)))\n",
    "    \n",
    "    return new_param"
   ]
  },
  {
   "cell_type": "code",
   "execution_count": 15,
   "metadata": {},
   "outputs": [],
   "source": [
    "# Gross revenue np vector\n",
    "gross_rev = np.array(movie_data['gross'])\n",
    "\n",
    "# IMDB rating np vector \n",
    "imdb_score = np.array(movie_data['imdb_score'])\n",
    "\n",
    "# Implement Newton's method to find line of best fit (Itterate until convergence)\n",
    "while criterion > epsilon:\n",
    "    \n",
    "    # Reset old parameter (itteration t)\n",
    "    old_param = new_param\n",
    "    \n",
    "    # Compute gradient vector\n",
    "    J_pos0 = -1*(np.nansum(gross_rev)-n*old_param[0]-old_param[1]*sum_imdb)\n",
    "    J_pos1 = -1*(np.nansum(gross_rev*imdb_score)-old_param[0]*sum_imdb-old_param[1]*sum_sq_imdb)\n",
    "    J = np.array([J_pos0,J_pos1])\n",
    "    \n",
    "    # Apply newton's update rule (itteration t+1)\n",
    "    new_param = newton_update(old_param, H, J)\n",
    "    \n",
    "    # Compute criterion function using euclidean distance \n",
    "    criterion = np.linalg.norm(new_param-old_param)\n"
   ]
  },
  {
   "cell_type": "code",
   "execution_count": 16,
   "metadata": {},
   "outputs": [
    {
     "name": "stdout",
     "output_type": "stream",
     "text": [
      "[-113.36228051   30.2444501 ]\n"
     ]
    }
   ],
   "source": [
    "# Let's see the estimated (Beta0, Beta1) parameters from newton's algorithm\n",
    "print new_param"
   ]
  },
  {
   "cell_type": "code",
   "execution_count": 18,
   "metadata": {},
   "outputs": [
    {
     "data": {
      "image/png": "[encoded data removed]",
      "text/plain": [
       "<matplotlib.figure.Figure at 0x107d97d90>"
      ]
     },
     "metadata": {},
     "output_type": "display_data"
    }
   ],
   "source": [
    "# Plot line of best fit to scatter plot above using the estimated parameters\n",
    "plt.plot(imdb_score, new_param[1]*imdb_score + new_param[0], '-k')\n",
    "\n",
    "# Visualize data\n",
    "plt.scatter(imdb_score, gross_rev)\n",
    "\n",
    "# Chart title\n",
    "plt.title('IMDB Rating and Gross Sales')\n",
    "\n",
    "# y label\n",
    "plt.ylabel('Gross sales revenue ($ millions)')\n",
    "\n",
    "# x label\n",
    "plt.xlabel('IMDB Rating (0 - 10)')\n",
    "\n",
    "plt.show()"
   ]
  },
  {
   "cell_type": "markdown",
   "metadata": {},
   "source": [
    "Therefore movies with a 1 higher IMDB rating are associated with having approximately 30 million dollars higher gross sales revenue on average. "
   ]
  }
 ],
 "metadata": {
  "kernelspec": {
   "display_name": "Python 2",
   "language": "python",
   "name": "python2"
  },
  "language_info": {
   "codemirror_mode": {
    "name": "ipython",
    "version": 2
   },
   "file_extension": ".py",
   "mimetype": "text/x-python",
   "name": "python",
   "nbconvert_exporter": "python",
   "pygments_lexer": "ipython2",
   "version": "2.7.12"
  }
 },
 "nbformat": 4,
 "nbformat_minor": 2
}
