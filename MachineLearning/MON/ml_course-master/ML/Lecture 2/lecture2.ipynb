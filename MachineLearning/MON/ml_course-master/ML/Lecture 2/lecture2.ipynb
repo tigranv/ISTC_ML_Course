{
 "cells": [
  {
   "cell_type": "code",
   "execution_count": 1,
   "metadata": {},
   "outputs": [],
   "source": [
    "import numpy as np"
   ]
  },
  {
   "cell_type": "markdown",
   "metadata": {},
   "source": [
    "## bias variance tradoff"
   ]
  },
  {
   "cell_type": "markdown",
   "metadata": {},
   "source": [
    "![title](image3.png)"
   ]
  },
  {
   "cell_type": "markdown",
   "metadata": {},
   "source": [
    "## cros validation"
   ]
  },
  {
   "cell_type": "code",
   "execution_count": 2,
   "metadata": {},
   "outputs": [],
   "source": [
    "k = 5\n",
    "data = np.random.uniform(size=1500)\n",
    "y = np.random.uniform(size=1500)"
   ]
  },
  {
   "cell_type": "code",
   "execution_count": 3,
   "metadata": {},
   "outputs": [],
   "source": [
    "folds = [data[i::5] for i in range(5)]\n",
    "folds_y = [y[i::5] for i in range(5)]"
   ]
  },
  {
   "cell_type": "code",
   "execution_count": 4,
   "metadata": {},
   "outputs": [
    {
     "name": "stdout",
     "output_type": "stream",
     "text": [
      "mean loss 407.829456313\n",
      "mean loss 408.348667035\n",
      "mean loss 409.941670052\n",
      "mean loss 410.661036257\n",
      "mean loss 411.508853025\n",
      "mean loss 412.352178974\n",
      "mean loss 413.076957896\n",
      "mean loss 413.48993337\n",
      "mean loss 413.78471633\n",
      "mean loss 413.746243564\n"
     ]
    }
   ],
   "source": [
    "for d in range(10):\n",
    "    loss = 0\n",
    "    for i in range(5):\n",
    "        x = list(range(5))\n",
    "        x.remove(i)\n",
    "        train = np.array([folds[j] for j in x]).flatten()\n",
    "        test = np.array(folds[i])\n",
    "        test = [[t**k for k in range(d+1)] for t in test]\n",
    "\n",
    "        train_y = np.array([folds_y[j] for j in x]).flatten()\n",
    "        test_y = np.array(folds_y[i])\n",
    "\n",
    "        param = np.polyfit(train, train_y, deg=d)\n",
    "        predicted = [np.array(t).dot(np.array(param[::-1])) for t in test]\n",
    "        loss += sum([(predicted[index] - test_y[index])**2 for index in range(len(predicted))])/len(predicted)\n",
    "    print(\"mean loss\", loss*1000)"
   ]
  },
  {
   "cell_type": "markdown",
   "metadata": {},
   "source": [
    "## homework"
   ]
  },
  {
   "cell_type": "markdown",
   "metadata": {},
   "source": [
    "Implement regularized regression"
   ]
  },
  {
   "cell_type": "markdown",
   "metadata": {},
   "source": [
    "Find best polynomial degree for generated data with cross validation"
   ]
  },
  {
   "cell_type": "markdown",
   "metadata": {},
   "source": [
    "## bonus"
   ]
  },
  {
   "cell_type": "markdown",
   "metadata": {},
   "source": [
    "Plot bias, variance and error"
   ]
  }
 ],
 "metadata": {
  "anaconda-cloud": {},
  "kernelspec": {
   "display_name": "Python 3",
   "language": "python",
   "name": "python3"
  },
  "language_info": {
   "codemirror_mode": {
    "name": "ipython",
    "version": 3
   },
   "file_extension": ".py",
   "mimetype": "text/x-python",
   "name": "python",
   "nbconvert_exporter": "python",
   "pygments_lexer": "ipython3",
   "version": "3.6.3"
  }
 },
 "nbformat": 4,
 "nbformat_minor": 1
}
