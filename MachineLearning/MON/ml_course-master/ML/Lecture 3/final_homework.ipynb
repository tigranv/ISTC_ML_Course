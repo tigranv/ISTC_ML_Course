{
 "cells": [
  {
   "cell_type": "code",
   "execution_count": 1,
   "metadata": {},
   "outputs": [],
   "source": [
    "import numpy as np\n",
    "from numpy.linalg import inv\n",
    "import pandas as pd\n",
    "from sklearn.preprocessing import PolynomialFeatures\n",
    "from sklearn.model_selection import train_test_split"
   ]
  },
  {
   "cell_type": "markdown",
   "metadata": {},
   "source": [
    "### Prepairing the Data"
   ]
  },
  {
   "cell_type": "code",
   "execution_count": 2,
   "metadata": {},
   "outputs": [],
   "source": [
    "train_data = np.load(\"clean_train.npy\")\n",
    "test_data = np.load(\"clean_test.npy\")"
   ]
  },
  {
   "cell_type": "code",
   "execution_count": 3,
   "metadata": {},
   "outputs": [],
   "source": [
    "train_df = pd.DataFrame(list(train_data))\n",
    "test_df = pd.DataFrame(list(test_data))"
   ]
  },
  {
   "cell_type": "code",
   "execution_count": 4,
   "metadata": {},
   "outputs": [
    {
     "data": {
      "text/html": [
       "<div>\n",
       "<style scoped>\n",
       "    .dataframe tbody tr th:only-of-type {\n",
       "        vertical-align: middle;\n",
       "    }\n",
       "\n",
       "    .dataframe tbody tr th {\n",
       "        vertical-align: top;\n",
       "    }\n",
       "\n",
       "    .dataframe thead th {\n",
       "        text-align: right;\n",
       "    }\n",
       "</style>\n",
       "<table border=\"1\" class=\"dataframe\">\n",
       "  <thead>\n",
       "    <tr style=\"text-align: right;\">\n",
       "      <th></th>\n",
       "      <th>A</th>\n",
       "      <th>S</th>\n",
       "      <th>SS</th>\n",
       "      <th>age</th>\n",
       "      <th>country_rank</th>\n",
       "      <th>favourite_beatmapset_count</th>\n",
       "      <th>follower_count</th>\n",
       "      <th>hit_accuracy</th>\n",
       "      <th>level</th>\n",
       "      <th>maximum_combo</th>\n",
       "      <th>play_count</th>\n",
       "      <th>play_time</th>\n",
       "      <th>post_count</th>\n",
       "      <th>pp</th>\n",
       "      <th>ranked_and_approved_beatmapset_count</th>\n",
       "      <th>ranked_score</th>\n",
       "      <th>replays_watched_by_others</th>\n",
       "      <th>total_hits</th>\n",
       "      <th>total_score</th>\n",
       "    </tr>\n",
       "  </thead>\n",
       "  <tbody>\n",
       "    <tr>\n",
       "      <th>count</th>\n",
       "      <td>6976.000000</td>\n",
       "      <td>6976.000000</td>\n",
       "      <td>6976.000000</td>\n",
       "      <td>4878.000000</td>\n",
       "      <td>6945.000000</td>\n",
       "      <td>6976.000000</td>\n",
       "      <td>6976.000000</td>\n",
       "      <td>6976.000000</td>\n",
       "      <td>6976.000000</td>\n",
       "      <td>6976.000000</td>\n",
       "      <td>6976.000000</td>\n",
       "      <td>6976.000000</td>\n",
       "      <td>6976.000000</td>\n",
       "      <td>6976.000000</td>\n",
       "      <td>6976.000000</td>\n",
       "      <td>6.976000e+03</td>\n",
       "      <td>6.976000e+03</td>\n",
       "      <td>6.976000e+03</td>\n",
       "      <td>6.976000e+03</td>\n",
       "    </tr>\n",
       "    <tr>\n",
       "      <th>mean</th>\n",
       "      <td>774.774226</td>\n",
       "      <td>855.727924</td>\n",
       "      <td>124.393779</td>\n",
       "      <td>20.443214</td>\n",
       "      <td>371.202016</td>\n",
       "      <td>21.158257</td>\n",
       "      <td>228.605361</td>\n",
       "      <td>98.389156</td>\n",
       "      <td>97.477208</td>\n",
       "      <td>3228.451405</td>\n",
       "      <td>57030.484088</td>\n",
       "      <td>766.744755</td>\n",
       "      <td>50.010321</td>\n",
       "      <td>6560.831422</td>\n",
       "      <td>0.242546</td>\n",
       "      <td>1.605114e+10</td>\n",
       "      <td>5.853665e+03</td>\n",
       "      <td>1.148344e+07</td>\n",
       "      <td>8.841395e+10</td>\n",
       "    </tr>\n",
       "    <tr>\n",
       "      <th>std</th>\n",
       "      <td>448.361125</td>\n",
       "      <td>712.447531</td>\n",
       "      <td>325.600637</td>\n",
       "      <td>12.458928</td>\n",
       "      <td>1321.261574</td>\n",
       "      <td>26.965613</td>\n",
       "      <td>1406.944825</td>\n",
       "      <td>1.603457</td>\n",
       "      <td>12.415682</td>\n",
       "      <td>1312.364611</td>\n",
       "      <td>34478.559485</td>\n",
       "      <td>433.749903</td>\n",
       "      <td>323.209984</td>\n",
       "      <td>1106.749009</td>\n",
       "      <td>3.392499</td>\n",
       "      <td>1.349912e+10</td>\n",
       "      <td>9.635305e+04</td>\n",
       "      <td>6.676292e+06</td>\n",
       "      <td>7.048663e+10</td>\n",
       "    </tr>\n",
       "    <tr>\n",
       "      <th>min</th>\n",
       "      <td>-1.000000</td>\n",
       "      <td>1.000000</td>\n",
       "      <td>0.000000</td>\n",
       "      <td>0.000000</td>\n",
       "      <td>1.000000</td>\n",
       "      <td>0.000000</td>\n",
       "      <td>0.000000</td>\n",
       "      <td>39.822400</td>\n",
       "      <td>4.000000</td>\n",
       "      <td>11.000000</td>\n",
       "      <td>3.000000</td>\n",
       "      <td>0.068889</td>\n",
       "      <td>0.000000</td>\n",
       "      <td>5447.000000</td>\n",
       "      <td>0.000000</td>\n",
       "      <td>1.662400e+05</td>\n",
       "      <td>0.000000e+00</td>\n",
       "      <td>1.368000e+03</td>\n",
       "      <td>4.623100e+05</td>\n",
       "    </tr>\n",
       "    <tr>\n",
       "      <th>25%</th>\n",
       "      <td>467.000000</td>\n",
       "      <td>449.000000</td>\n",
       "      <td>23.000000</td>\n",
       "      <td>17.000000</td>\n",
       "      <td>48.000000</td>\n",
       "      <td>2.000000</td>\n",
       "      <td>34.000000</td>\n",
       "      <td>98.220150</td>\n",
       "      <td>100.000000</td>\n",
       "      <td>2274.000000</td>\n",
       "      <td>35024.000000</td>\n",
       "      <td>500.540139</td>\n",
       "      <td>0.000000</td>\n",
       "      <td>5763.000000</td>\n",
       "      <td>0.000000</td>\n",
       "      <td>8.052893e+09</td>\n",
       "      <td>2.000000e+01</td>\n",
       "      <td>7.234938e+06</td>\n",
       "      <td>4.556414e+10</td>\n",
       "    </tr>\n",
       "    <tr>\n",
       "      <th>50%</th>\n",
       "      <td>700.000000</td>\n",
       "      <td>672.000000</td>\n",
       "      <td>49.000000</td>\n",
       "      <td>19.000000</td>\n",
       "      <td>154.000000</td>\n",
       "      <td>9.000000</td>\n",
       "      <td>75.000000</td>\n",
       "      <td>98.708800</td>\n",
       "      <td>100.000000</td>\n",
       "      <td>3017.000000</td>\n",
       "      <td>51939.000000</td>\n",
       "      <td>708.905972</td>\n",
       "      <td>2.000000</td>\n",
       "      <td>6228.000000</td>\n",
       "      <td>0.000000</td>\n",
       "      <td>1.286739e+10</td>\n",
       "      <td>7.400000e+01</td>\n",
       "      <td>1.031621e+07</td>\n",
       "      <td>7.100375e+10</td>\n",
       "    </tr>\n",
       "    <tr>\n",
       "      <th>75%</th>\n",
       "      <td>993.000000</td>\n",
       "      <td>1047.000000</td>\n",
       "      <td>113.000000</td>\n",
       "      <td>21.000000</td>\n",
       "      <td>374.000000</td>\n",
       "      <td>31.000000</td>\n",
       "      <td>160.000000</td>\n",
       "      <td>99.042800</td>\n",
       "      <td>100.000000</td>\n",
       "      <td>3936.000000</td>\n",
       "      <td>72886.250000</td>\n",
       "      <td>963.681875</td>\n",
       "      <td>11.000000</td>\n",
       "      <td>6989.000000</td>\n",
       "      <td>0.000000</td>\n",
       "      <td>2.029199e+10</td>\n",
       "      <td>3.622500e+02</td>\n",
       "      <td>1.454376e+07</td>\n",
       "      <td>1.110794e+11</td>\n",
       "    </tr>\n",
       "    <tr>\n",
       "      <th>max</th>\n",
       "      <td>5847.000000</td>\n",
       "      <td>15734.000000</td>\n",
       "      <td>13388.000000</td>\n",
       "      <td>103.000000</td>\n",
       "      <td>44563.000000</td>\n",
       "      <td>100.000000</td>\n",
       "      <td>73342.000000</td>\n",
       "      <td>100.000000</td>\n",
       "      <td>107.000000</td>\n",
       "      <td>15464.000000</td>\n",
       "      <td>353971.000000</td>\n",
       "      <td>5159.530833</td>\n",
       "      <td>16091.000000</td>\n",
       "      <td>14296.000000</td>\n",
       "      <td>220.000000</td>\n",
       "      <td>2.695437e+11</td>\n",
       "      <td>6.472658e+06</td>\n",
       "      <td>5.551982e+07</td>\n",
       "      <td>7.602120e+11</td>\n",
       "    </tr>\n",
       "  </tbody>\n",
       "</table>\n",
       "</div>"
      ],
      "text/plain": [
       "                 A             S            SS          age  country_rank  \\\n",
       "count  6976.000000   6976.000000   6976.000000  4878.000000   6945.000000   \n",
       "mean    774.774226    855.727924    124.393779    20.443214    371.202016   \n",
       "std     448.361125    712.447531    325.600637    12.458928   1321.261574   \n",
       "min      -1.000000      1.000000      0.000000     0.000000      1.000000   \n",
       "25%     467.000000    449.000000     23.000000    17.000000     48.000000   \n",
       "50%     700.000000    672.000000     49.000000    19.000000    154.000000   \n",
       "75%     993.000000   1047.000000    113.000000    21.000000    374.000000   \n",
       "max    5847.000000  15734.000000  13388.000000   103.000000  44563.000000   \n",
       "\n",
       "       favourite_beatmapset_count  follower_count  hit_accuracy        level  \\\n",
       "count                 6976.000000     6976.000000   6976.000000  6976.000000   \n",
       "mean                    21.158257      228.605361     98.389156    97.477208   \n",
       "std                     26.965613     1406.944825      1.603457    12.415682   \n",
       "min                      0.000000        0.000000     39.822400     4.000000   \n",
       "25%                      2.000000       34.000000     98.220150   100.000000   \n",
       "50%                      9.000000       75.000000     98.708800   100.000000   \n",
       "75%                     31.000000      160.000000     99.042800   100.000000   \n",
       "max                    100.000000    73342.000000    100.000000   107.000000   \n",
       "\n",
       "       maximum_combo     play_count    play_time    post_count            pp  \\\n",
       "count    6976.000000    6976.000000  6976.000000   6976.000000   6976.000000   \n",
       "mean     3228.451405   57030.484088   766.744755     50.010321   6560.831422   \n",
       "std      1312.364611   34478.559485   433.749903    323.209984   1106.749009   \n",
       "min        11.000000       3.000000     0.068889      0.000000   5447.000000   \n",
       "25%      2274.000000   35024.000000   500.540139      0.000000   5763.000000   \n",
       "50%      3017.000000   51939.000000   708.905972      2.000000   6228.000000   \n",
       "75%      3936.000000   72886.250000   963.681875     11.000000   6989.000000   \n",
       "max     15464.000000  353971.000000  5159.530833  16091.000000  14296.000000   \n",
       "\n",
       "       ranked_and_approved_beatmapset_count  ranked_score  \\\n",
       "count                           6976.000000  6.976000e+03   \n",
       "mean                               0.242546  1.605114e+10   \n",
       "std                                3.392499  1.349912e+10   \n",
       "min                                0.000000  1.662400e+05   \n",
       "25%                                0.000000  8.052893e+09   \n",
       "50%                                0.000000  1.286739e+10   \n",
       "75%                                0.000000  2.029199e+10   \n",
       "max                              220.000000  2.695437e+11   \n",
       "\n",
       "       replays_watched_by_others    total_hits   total_score  \n",
       "count               6.976000e+03  6.976000e+03  6.976000e+03  \n",
       "mean                5.853665e+03  1.148344e+07  8.841395e+10  \n",
       "std                 9.635305e+04  6.676292e+06  7.048663e+10  \n",
       "min                 0.000000e+00  1.368000e+03  4.623100e+05  \n",
       "25%                 2.000000e+01  7.234938e+06  4.556414e+10  \n",
       "50%                 7.400000e+01  1.031621e+07  7.100375e+10  \n",
       "75%                 3.622500e+02  1.454376e+07  1.110794e+11  \n",
       "max                 6.472658e+06  5.551982e+07  7.602120e+11  "
      ]
     },
     "execution_count": 4,
     "metadata": {},
     "output_type": "execute_result"
    }
   ],
   "source": [
    "train_df.describe()"
   ]
  },
  {
   "cell_type": "code",
   "execution_count": 5,
   "metadata": {},
   "outputs": [],
   "source": [
    "# train_df.isnull().sum()"
   ]
  },
  {
   "cell_type": "code",
   "execution_count": 6,
   "metadata": {},
   "outputs": [],
   "source": [
    "use_list = ['country_rank','play_count','age', 'ranked_score','pp']"
   ]
  },
  {
   "cell_type": "code",
   "execution_count": 7,
   "metadata": {},
   "outputs": [],
   "source": [
    "train_df = pd.DataFrame(train_df, columns=use_list)"
   ]
  },
  {
   "cell_type": "code",
   "execution_count": 8,
   "metadata": {},
   "outputs": [],
   "source": [
    "use_list = ['username','country_rank','play_count', 'age', 'ranked_score']"
   ]
  },
  {
   "cell_type": "code",
   "execution_count": 9,
   "metadata": {},
   "outputs": [],
   "source": [
    "test_df = pd.DataFrame(test_df, columns=use_list)"
   ]
  },
  {
   "cell_type": "code",
   "execution_count": 10,
   "metadata": {},
   "outputs": [
    {
     "data": {
      "text/plain": [
       "username          0\n",
       "country_rank     19\n",
       "play_count        0\n",
       "age             907\n",
       "ranked_score      0\n",
       "dtype: int64"
      ]
     },
     "execution_count": 10,
     "metadata": {},
     "output_type": "execute_result"
    }
   ],
   "source": [
    "test_df.isnull().sum()"
   ]
  },
  {
   "cell_type": "code",
   "execution_count": 11,
   "metadata": {},
   "outputs": [],
   "source": [
    "avg_rank = test_df['country_rank'].mean(axis=0)\n",
    "train_df['country_rank'].replace(np.nan, avg_rank, inplace= True)\n",
    "test_df['country_rank'].replace(np.nan, avg_rank, inplace= True)"
   ]
  },
  {
   "cell_type": "code",
   "execution_count": 12,
   "metadata": {},
   "outputs": [],
   "source": [
    "avg_age = test_df['age'].mean(axis=0)\n",
    "train_df['age'].replace(np.nan, avg_age, inplace= True)\n",
    "test_df['age'].replace(np.nan, avg_age, inplace= True)"
   ]
  },
  {
   "cell_type": "code",
   "execution_count": 13,
   "metadata": {},
   "outputs": [],
   "source": [
    "for column in train_df.columns:\n",
    "    if column != 'pp':\n",
    "        mean = train_df[column].mean()\n",
    "        std = train_df[column].std()\n",
    "        train_df[column] = (train_df[column] - mean) / std\n",
    "        test_df[column] = (test_df[column] - mean) / std"
   ]
  },
  {
   "cell_type": "code",
   "execution_count": 14,
   "metadata": {},
   "outputs": [
    {
     "data": {
      "text/html": [
       "<div>\n",
       "<style scoped>\n",
       "    .dataframe tbody tr th:only-of-type {\n",
       "        vertical-align: middle;\n",
       "    }\n",
       "\n",
       "    .dataframe tbody tr th {\n",
       "        vertical-align: top;\n",
       "    }\n",
       "\n",
       "    .dataframe thead th {\n",
       "        text-align: right;\n",
       "    }\n",
       "</style>\n",
       "<table border=\"1\" class=\"dataframe\">\n",
       "  <thead>\n",
       "    <tr style=\"text-align: right;\">\n",
       "      <th></th>\n",
       "      <th>country_rank</th>\n",
       "      <th>play_count</th>\n",
       "      <th>age</th>\n",
       "      <th>ranked_score</th>\n",
       "      <th>pp</th>\n",
       "    </tr>\n",
       "  </thead>\n",
       "  <tbody>\n",
       "    <tr>\n",
       "      <th>count</th>\n",
       "      <td>6.976000e+03</td>\n",
       "      <td>6.976000e+03</td>\n",
       "      <td>6.976000e+03</td>\n",
       "      <td>6.976000e+03</td>\n",
       "      <td>6976.000000</td>\n",
       "    </tr>\n",
       "    <tr>\n",
       "      <th>mean</th>\n",
       "      <td>3.259370e-17</td>\n",
       "      <td>3.259370e-17</td>\n",
       "      <td>6.620596e-17</td>\n",
       "      <td>-3.259370e-17</td>\n",
       "      <td>6560.831422</td>\n",
       "    </tr>\n",
       "    <tr>\n",
       "      <th>std</th>\n",
       "      <td>1.000000e+00</td>\n",
       "      <td>1.000000e+00</td>\n",
       "      <td>1.000000e+00</td>\n",
       "      <td>1.000000e+00</td>\n",
       "      <td>1106.749009</td>\n",
       "    </tr>\n",
       "    <tr>\n",
       "      <th>min</th>\n",
       "      <td>-2.807218e-01</td>\n",
       "      <td>-1.653998e+00</td>\n",
       "      <td>-1.932538e+00</td>\n",
       "      <td>-1.189038e+00</td>\n",
       "      <td>5447.000000</td>\n",
       "    </tr>\n",
       "    <tr>\n",
       "      <th>25%</th>\n",
       "      <td>-2.450704e-01</td>\n",
       "      <td>-6.382658e-01</td>\n",
       "      <td>-2.063341e-01</td>\n",
       "      <td>-5.925012e-01</td>\n",
       "      <td>5763.000000</td>\n",
       "    </tr>\n",
       "    <tr>\n",
       "      <th>50%</th>\n",
       "      <td>-1.631482e-01</td>\n",
       "      <td>-1.476710e-01</td>\n",
       "      <td>-6.503401e-02</td>\n",
       "      <td>-2.358484e-01</td>\n",
       "      <td>6228.000000</td>\n",
       "    </tr>\n",
       "    <tr>\n",
       "      <th>75%</th>\n",
       "      <td>1.454807e-03</td>\n",
       "      <td>4.598732e-01</td>\n",
       "      <td>-1.453361e-02</td>\n",
       "      <td>3.141577e-01</td>\n",
       "      <td>6989.000000</td>\n",
       "    </tr>\n",
       "    <tr>\n",
       "      <th>max</th>\n",
       "      <td>3.352130e+01</td>\n",
       "      <td>8.612324e+00</td>\n",
       "      <td>7.945185e+00</td>\n",
       "      <td>1.877845e+01</td>\n",
       "      <td>14296.000000</td>\n",
       "    </tr>\n",
       "  </tbody>\n",
       "</table>\n",
       "</div>"
      ],
      "text/plain": [
       "       country_rank    play_count           age  ranked_score            pp\n",
       "count  6.976000e+03  6.976000e+03  6.976000e+03  6.976000e+03   6976.000000\n",
       "mean   3.259370e-17  3.259370e-17  6.620596e-17 -3.259370e-17   6560.831422\n",
       "std    1.000000e+00  1.000000e+00  1.000000e+00  1.000000e+00   1106.749009\n",
       "min   -2.807218e-01 -1.653998e+00 -1.932538e+00 -1.189038e+00   5447.000000\n",
       "25%   -2.450704e-01 -6.382658e-01 -2.063341e-01 -5.925012e-01   5763.000000\n",
       "50%   -1.631482e-01 -1.476710e-01 -6.503401e-02 -2.358484e-01   6228.000000\n",
       "75%    1.454807e-03  4.598732e-01 -1.453361e-02  3.141577e-01   6989.000000\n",
       "max    3.352130e+01  8.612324e+00  7.945185e+00  1.877845e+01  14296.000000"
      ]
     },
     "execution_count": 14,
     "metadata": {},
     "output_type": "execute_result"
    }
   ],
   "source": [
    "train_df.describe()"
   ]
  },
  {
   "cell_type": "code",
   "execution_count": 15,
   "metadata": {},
   "outputs": [],
   "source": [
    "train_df = train_df[train_df['country_rank'] < 3]"
   ]
  },
  {
   "cell_type": "code",
   "execution_count": 16,
   "metadata": {},
   "outputs": [],
   "source": [
    "train_df = train_df[train_df['play_count'] < 3]"
   ]
  },
  {
   "cell_type": "code",
   "execution_count": 17,
   "metadata": {},
   "outputs": [],
   "source": [
    "train_df = train_df[train_df['ranked_score'] < 3]"
   ]
  },
  {
   "cell_type": "code",
   "execution_count": 18,
   "metadata": {},
   "outputs": [],
   "source": [
    "# train_df = train_df[train_df['follower_count'] < 3]"
   ]
  },
  {
   "cell_type": "code",
   "execution_count": 19,
   "metadata": {},
   "outputs": [],
   "source": [
    "labels = train_df.pp\n",
    "l_mean = labels.mean()\n",
    "l_std = labels.std()\n",
    "labels = (labels - l_mean)/l_std"
   ]
  },
  {
   "cell_type": "code",
   "execution_count": 20,
   "metadata": {},
   "outputs": [],
   "source": [
    "train_df.drop(['pp'], axis=1, inplace=True)"
   ]
  },
  {
   "cell_type": "code",
   "execution_count": 21,
   "metadata": {},
   "outputs": [
    {
     "data": {
      "text/html": [
       "<div>\n",
       "<style scoped>\n",
       "    .dataframe tbody tr th:only-of-type {\n",
       "        vertical-align: middle;\n",
       "    }\n",
       "\n",
       "    .dataframe tbody tr th {\n",
       "        vertical-align: top;\n",
       "    }\n",
       "\n",
       "    .dataframe thead th {\n",
       "        text-align: right;\n",
       "    }\n",
       "</style>\n",
       "<table border=\"1\" class=\"dataframe\">\n",
       "  <thead>\n",
       "    <tr style=\"text-align: right;\">\n",
       "      <th></th>\n",
       "      <th>country_rank</th>\n",
       "      <th>play_count</th>\n",
       "      <th>age</th>\n",
       "      <th>ranked_score</th>\n",
       "    </tr>\n",
       "  </thead>\n",
       "  <tbody>\n",
       "    <tr>\n",
       "      <th>count</th>\n",
       "      <td>6746.000000</td>\n",
       "      <td>6746.000000</td>\n",
       "      <td>6746.000000</td>\n",
       "      <td>6746.000000</td>\n",
       "    </tr>\n",
       "    <tr>\n",
       "      <th>mean</th>\n",
       "      <td>-0.061979</td>\n",
       "      <td>-0.056319</td>\n",
       "      <td>-0.004480</td>\n",
       "      <td>-0.077074</td>\n",
       "    </tr>\n",
       "    <tr>\n",
       "      <th>std</th>\n",
       "      <td>0.301157</td>\n",
       "      <td>0.862750</td>\n",
       "      <td>1.004727</td>\n",
       "      <td>0.751470</td>\n",
       "    </tr>\n",
       "    <tr>\n",
       "      <th>min</th>\n",
       "      <td>-0.280722</td>\n",
       "      <td>-1.653998</td>\n",
       "      <td>-1.932538</td>\n",
       "      <td>-1.189019</td>\n",
       "    </tr>\n",
       "    <tr>\n",
       "      <th>25%</th>\n",
       "      <td>-0.244312</td>\n",
       "      <td>-0.638766</td>\n",
       "      <td>-0.206334</td>\n",
       "      <td>-0.592770</td>\n",
       "    </tr>\n",
       "    <tr>\n",
       "      <th>50%</th>\n",
       "      <td>-0.162390</td>\n",
       "      <td>-0.164479</td>\n",
       "      <td>-0.065034</td>\n",
       "      <td>-0.248595</td>\n",
       "    </tr>\n",
       "    <tr>\n",
       "      <th>75%</th>\n",
       "      <td>-0.000821</td>\n",
       "      <td>0.416593</td>\n",
       "      <td>-0.014534</td>\n",
       "      <td>0.267582</td>\n",
       "    </tr>\n",
       "    <tr>\n",
       "      <th>max</th>\n",
       "      <td>2.952931</td>\n",
       "      <td>2.994224</td>\n",
       "      <td>7.945185</td>\n",
       "      <td>2.982285</td>\n",
       "    </tr>\n",
       "  </tbody>\n",
       "</table>\n",
       "</div>"
      ],
      "text/plain": [
       "       country_rank   play_count          age  ranked_score\n",
       "count   6746.000000  6746.000000  6746.000000   6746.000000\n",
       "mean      -0.061979    -0.056319    -0.004480     -0.077074\n",
       "std        0.301157     0.862750     1.004727      0.751470\n",
       "min       -0.280722    -1.653998    -1.932538     -1.189019\n",
       "25%       -0.244312    -0.638766    -0.206334     -0.592770\n",
       "50%       -0.162390    -0.164479    -0.065034     -0.248595\n",
       "75%       -0.000821     0.416593    -0.014534      0.267582\n",
       "max        2.952931     2.994224     7.945185      2.982285"
      ]
     },
     "execution_count": 21,
     "metadata": {},
     "output_type": "execute_result"
    }
   ],
   "source": [
    "train_df.describe()"
   ]
  },
  {
   "cell_type": "markdown",
   "metadata": {},
   "source": [
    "### processing data"
   ]
  },
  {
   "cell_type": "code",
   "execution_count": 22,
   "metadata": {},
   "outputs": [],
   "source": [
    "X = np.array(train_df)"
   ]
  },
  {
   "cell_type": "code",
   "execution_count": 23,
   "metadata": {},
   "outputs": [],
   "source": [
    "y = np.array(labels)"
   ]
  },
  {
   "cell_type": "code",
   "execution_count": 24,
   "metadata": {},
   "outputs": [],
   "source": [
    "test_d = np.array(test_df)"
   ]
  },
  {
   "cell_type": "code",
   "execution_count": 25,
   "metadata": {},
   "outputs": [],
   "source": [
    "# a[:,1:] without username"
   ]
  },
  {
   "cell_type": "code",
   "execution_count": 26,
   "metadata": {},
   "outputs": [
    {
     "data": {
      "text/plain": [
       "((6746, 4), (6746,), (2994, 5))"
      ]
     },
     "execution_count": 26,
     "metadata": {},
     "output_type": "execute_result"
    }
   ],
   "source": [
    "X.shape, y.shape, test_d.shape"
   ]
  },
  {
   "cell_type": "code",
   "execution_count": 27,
   "metadata": {},
   "outputs": [],
   "source": [
    "def estimate_model(X, y,Lambda = 0):\n",
    "    \n",
    "    # X transpose\n",
    "    Xtranspose = np.matrix.transpose(X)\n",
    "    \n",
    "    # Identity matrix (number of parameters is the dimension)\n",
    "    Identity = np.identity(len(X[1,:]))\n",
    "    \n",
    "    # We don't add penalty to intercept\n",
    "    Identity[0,0] = 0\n",
    "    \n",
    "    # Closed form solution is BetaHat = inv(X'X + Lambda*I)*X'y\n",
    "    # Estimate model parameters (if Lambda = 0, we get standard square loss function result)\n",
    "    BetaHat = np.dot(np.linalg.inv(np.add(np.dot(Xtranspose,X),Lambda*Identity)),np.dot(Xtranspose,y))\n",
    "    \n",
    "    return BetaHat"
   ]
  },
  {
   "cell_type": "code",
   "execution_count": 28,
   "metadata": {},
   "outputs": [],
   "source": [
    "folds = [X[i::5] for i in range(5)]\n",
    "folds_y = [y[i::5] for i in range(5)]"
   ]
  },
  {
   "cell_type": "code",
   "execution_count": null,
   "metadata": {},
   "outputs": [],
   "source": []
  },
  {
   "cell_type": "code",
   "execution_count": 29,
   "metadata": {},
   "outputs": [
    {
     "name": "stdout",
     "output_type": "stream",
     "text": [
      "mean loss: 3.9535424776437407 , degre: 1\n",
      "mean loss: 2.9993344960839137 , degre: 2\n",
      "mean loss: 2.8166519985037506 , degre: 3\n",
      "mean loss: 5.5073090490091055 , degre: 4\n",
      "mean loss: 481.76013398861573 , degre: 5\n",
      "mean loss: 126185.71365105268 , degre: 6\n"
     ]
    }
   ],
   "source": [
    "results = {}\n",
    "for d in range(1, 7):\n",
    "    loss = 0\n",
    "    for i in range(5):\n",
    "        train = np.array(folds[i])\n",
    "        test = np.array(folds_y[i])\n",
    "        \n",
    "        x_train, x_test, y_train, y_test = train_test_split(train, test, test_size=0.2)\n",
    "        \n",
    "        poly = PolynomialFeatures(d)\n",
    "        X_train_poly = poly.fit_transform(x_train)\n",
    "        X_test_poly = poly.fit_transform(x_test)\n",
    "        \n",
    "        betas = estimate_model(X_train_poly, y_train)\n",
    "        predicted = [np.array(t).dot(betas) for t in X_test_poly]\n",
    "        loss += sum([(predicted[index] - y_test[index])**2 for index in range(len(predicted))])/len(predicted)\n",
    "    results[d] = loss\n",
    "    print (\"mean loss: {} , degre: {}\".format(loss, d))\n"
   ]
  },
  {
   "cell_type": "code",
   "execution_count": 30,
   "metadata": {},
   "outputs": [],
   "source": [
    "min_degre = min(results, key=results.get) "
   ]
  },
  {
   "cell_type": "markdown",
   "metadata": {},
   "source": [
    "### Final Model Reg"
   ]
  },
  {
   "cell_type": "code",
   "execution_count": 31,
   "metadata": {},
   "outputs": [
    {
     "name": "stdout",
     "output_type": "stream",
     "text": [
      "lambda: 0.0, mean loss: 3.1654955509506553\n",
      "lambda: 0.1, mean loss: 3.164237732124458\n",
      "lambda: 0.2, mean loss: 3.4222273422116793\n",
      "lambda: 0.3, mean loss: 3.2663277249420504\n",
      "lambda: 0.4, mean loss: 3.1215906496093933\n",
      "lambda: 0.5, mean loss: 2.9349090824018864\n",
      "lambda: 0.6, mean loss: 3.252623982575904\n",
      "lambda: 0.7, mean loss: 3.1309915907619827\n",
      "lambda: 0.8, mean loss: 2.882195022842292\n",
      "lambda: 0.9, mean loss: 3.5854535169866137\n"
     ]
    }
   ],
   "source": [
    "results = {}\n",
    "for l in np.arange(0, 1, 0.1):        \n",
    "    mean_tmp = []\n",
    "    loss = 0\n",
    "    for i in range(5):\n",
    "        train = np.array(folds[i])\n",
    "        test = np.array(folds_y[i])\n",
    "\n",
    "        x_train, x_test, y_train, y_test = train_test_split(train, test, test_size=0.2)\n",
    "\n",
    "        poly = PolynomialFeatures(min_degre)\n",
    "        X_train_poly = poly.fit_transform(x_train)\n",
    "        X_test_poly = poly.fit_transform(x_test)\n",
    "\n",
    "        betas = estimate_model(X_train_poly, y_train, l)\n",
    "        predicted = [np.array(t).dot(betas) for t in X_test_poly]\n",
    "        loss += sum([(predicted[index] - y_test[index])**2 for index in range(len(predicted))])/len(predicted)\n",
    "    results[l] = loss\n",
    "    print (\"lambda: {:.1f}, mean loss: {}\".format(l, loss))"
   ]
  },
  {
   "cell_type": "code",
   "execution_count": 32,
   "metadata": {},
   "outputs": [],
   "source": [
    "min_lambda = min(results, key=results.get) "
   ]
  },
  {
   "cell_type": "code",
   "execution_count": 33,
   "metadata": {},
   "outputs": [
    {
     "data": {
      "text/plain": [
       "0.8"
      ]
     },
     "execution_count": 33,
     "metadata": {},
     "output_type": "execute_result"
    }
   ],
   "source": [
    "min_lambda"
   ]
  },
  {
   "cell_type": "code",
   "execution_count": null,
   "metadata": {},
   "outputs": [],
   "source": []
  },
  {
   "cell_type": "code",
   "execution_count": 34,
   "metadata": {},
   "outputs": [],
   "source": [
    "poly = PolynomialFeatures(min_degre)"
   ]
  },
  {
   "cell_type": "code",
   "execution_count": 35,
   "metadata": {},
   "outputs": [],
   "source": [
    "X_poly = poly.fit_transform(X)"
   ]
  },
  {
   "cell_type": "code",
   "execution_count": 36,
   "metadata": {},
   "outputs": [],
   "source": [
    "test_poly = poly.fit_transform(test_d[:,1:]) # without usernames"
   ]
  },
  {
   "cell_type": "code",
   "execution_count": 37,
   "metadata": {},
   "outputs": [],
   "source": [
    "B = estimate_model(X_poly, y, min_lambda)"
   ]
  },
  {
   "cell_type": "code",
   "execution_count": 38,
   "metadata": {},
   "outputs": [],
   "source": [
    "predict = test_poly.dot(B)"
   ]
  },
  {
   "cell_type": "code",
   "execution_count": 39,
   "metadata": {},
   "outputs": [],
   "source": [
    "predict = predict * l_std + l_mean"
   ]
  },
  {
   "cell_type": "code",
   "execution_count": 40,
   "metadata": {},
   "outputs": [],
   "source": [
    "result = dict(zip(test_d[:,0], predict))"
   ]
  },
  {
   "cell_type": "code",
   "execution_count": 41,
   "metadata": {},
   "outputs": [
    {
     "name": "stdout",
     "output_type": "stream",
     "text": [
      "lambda: 0.8, degre: 3\n"
     ]
    }
   ],
   "source": [
    "print(\"lambda: {}, degre: {}\".format(min_lambda, min_degre))"
   ]
  },
  {
   "cell_type": "code",
   "execution_count": 42,
   "metadata": {},
   "outputs": [],
   "source": [
    "import json\n",
    "json.dump(result, open(\"karen_ghandilyan.json\", \"w\"))"
   ]
  },
  {
   "cell_type": "code",
   "execution_count": null,
   "metadata": {},
   "outputs": [],
   "source": []
  }
 ],
 "metadata": {
  "kernelspec": {
   "display_name": "Python 3",
   "language": "python",
   "name": "python3"
  },
  "language_info": {
   "codemirror_mode": {
    "name": "ipython",
    "version": 3
   },
   "file_extension": ".py",
   "mimetype": "text/x-python",
   "name": "python",
   "nbconvert_exporter": "python",
   "pygments_lexer": "ipython3",
   "version": "3.6.5"
  }
 },
 "nbformat": 4,
 "nbformat_minor": 2
}
