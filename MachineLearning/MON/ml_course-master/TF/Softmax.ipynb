{
 "cells": [
  {
   "cell_type": "markdown",
   "metadata": {},
   "source": [
    "### Softmax"
   ]
  },
  {
   "cell_type": "markdown",
   "metadata": {},
   "source": [
    "$$\\text{softmax}(x)_i = \\frac{\\exp(x_i)}{\\sum_j \\exp(x_j)}$$"
   ]
  },
  {
   "cell_type": "code",
   "execution_count": 20,
   "metadata": {
    "collapsed": true
   },
   "outputs": [],
   "source": [
    "def softmax(sess, x):\n",
    "    \"\"\"\n",
    "    param sess: tf.Session\n",
    "    param x:  np.array, n-dimentional vector\n",
    "    returns: np.array n-dimentional vector\n",
    "    \"\"\"\n",
    "    x_exp_sum = sum([math.exp(i) for i in x])\n",
    "    \n",
    "    x_p = tf.placeholder(tf.float32, name=\"x\")\n",
    "    y = tf.exp(x_p) / x_exp_sum\n",
    "    Y = [y.eval({x_p: _x}) for _x in x]\n",
    "    print(Y)\n",
    "    return Y"
   ]
  },
  {
   "cell_type": "code",
   "execution_count": 21,
   "metadata": {
    "collapsed": true
   },
   "outputs": [],
   "source": [
    "# test\n",
    "import tensorflow as tf\n",
    "import numpy as np\n",
    "import math"
   ]
  },
  {
   "cell_type": "markdown",
   "metadata": {},
   "source": [
    "$$\\text{softmax}(X)_{ij} = \\frac{\\exp(X_{ij})}{\\sum_j \\exp(X_{ij})}$$"
   ]
  },
  {
   "cell_type": "code",
   "execution_count": 22,
   "metadata": {
    "scrolled": true
   },
   "outputs": [
    {
     "name": "stdout",
     "output_type": "stream",
     "text": [
      "[0.0320586, 0.08714432, 0.23688282, 0.6439142]\n",
      "Test passed!\n"
     ]
    }
   ],
   "source": [
    "with tf.Session() as sess:\n",
    "    if np.allclose([0.0320586, 0.08714432, 0.23688282, 0.64391426],\n",
    "                   softmax(sess, np.array([1, 2, 3, 4]))):\n",
    "        print(\"Test passed!\")\n",
    "    else:\n",
    "        print(\"Test failed!\")"
   ]
  },
  {
   "cell_type": "code",
   "execution_count": 47,
   "metadata": {},
   "outputs": [],
   "source": [
    "def softmax_matrix(sess, x):\n",
    "    \"\"\"\n",
    "    Computes softmax for each row vector in matrix.\n",
    "    \n",
    "    param sess: tf.Session\n",
    "    param x:  np.array, (n x m) matrix\n",
    "    returns: np.array, (n x m) matrix\n",
    "    \"\"\"\n",
    "    x_exp_sum = np.zeros(x.shape[0])\n",
    "    for i in range(x.shape[0]):\n",
    "        x_exp_sum[i] = sum([math.exp(j) for j in x[i]])  \n",
    "    \n",
    "    x_p = tf.placeholder(tf.float32, name=\"x\")\n",
    "    i_p = tf.placeholder(tf.float32, name=\"i\")\n",
    "    y = tf.exp(x_p) / i_p\n",
    "    \n",
    "    Y = np.zeros(x.shape)\n",
    "    for i in range(x.shape[0]):\n",
    "        for j in range(x.shape[1]):\n",
    "            Y[i][j] = y.eval({x_p: x[i][j], i_p: x_exp_sum[i]})\n",
    "        \n",
    "    print(Y)\n",
    "    return Y"
   ]
  },
  {
   "cell_type": "code",
   "execution_count": 48,
   "metadata": {},
   "outputs": [
    {
     "name": "stdout",
     "output_type": "stream",
     "text": [
      "[[0.10650697 0.78698605 0.10650697]\n",
      " [0.09003058 0.24472848 0.66524094]]\n",
      "Test passed!\n"
     ]
    }
   ],
   "source": [
    "with tf.Session() as sess:\n",
    "    if np.allclose([[0.10650698, 0.78698604, 0.10650698],\n",
    "                    [0.09003057, 0.24472847, 0.66524096]],\n",
    "                   softmax_matrix(sess, np.array([[1,3,1], [-1, 0, 1]]))):\n",
    "        print(\"Test passed!\")\n",
    "    else:\n",
    "        print(\"Test failed!\")"
   ]
  },
  {
   "cell_type": "code",
   "execution_count": null,
   "metadata": {
    "collapsed": true
   },
   "outputs": [],
   "source": []
  },
  {
   "cell_type": "code",
   "execution_count": null,
   "metadata": {
    "collapsed": true
   },
   "outputs": [],
   "source": []
  }
 ],
 "metadata": {
  "kernelspec": {
   "display_name": "Python 3",
   "language": "python",
   "name": "python3"
  },
  "language_info": {
   "codemirror_mode": {
    "name": "ipython",
    "version": 3
   },
   "file_extension": ".py",
   "mimetype": "text/x-python",
   "name": "python",
   "nbconvert_exporter": "python",
   "pygments_lexer": "ipython3",
   "version": "3.6.1"
  }
 },
 "nbformat": 4,
 "nbformat_minor": 2
}
