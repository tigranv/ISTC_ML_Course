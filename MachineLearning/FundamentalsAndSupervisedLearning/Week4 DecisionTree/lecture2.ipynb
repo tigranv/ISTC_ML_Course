{
 "cells": [
  {
   "cell_type": "markdown",
   "metadata": {},
   "source": [
    "# model selection"
   ]
  },
  {
   "cell_type": "markdown",
   "metadata": {},
   "source": [
    "## Bagging\n"
   ]
  },
  {
   "cell_type": "markdown",
   "metadata": {},
   "source": [
    "![title](9.png)"
   ]
  },
  {
   "cell_type": "markdown",
   "metadata": {},
   "source": [
    "![title](10.png)"
   ]
  },
  {
   "cell_type": "markdown",
   "metadata": {},
   "source": [
    "## grid search and random search"
   ]
  },
  {
   "cell_type": "code",
   "execution_count": null,
   "metadata": {
    "collapsed": false
   },
   "outputs": [],
   "source": [
    "import numpy as np\n",
    "\n",
    "from time import time\n",
    "from scipy.stats import randint as sp_randint\n",
    "\n",
    "from sklearn.model_selection import GridSearchCV\n",
    "from sklearn.model_selection import RandomizedSearchCV\n",
    "from sklearn.datasets import load_digits\n",
    "from sklearn.ensemble import RandomForestClassifier\n",
    "\n",
    "# get some data\n",
    "digits = load_digits()\n",
    "X, y = digits.data, digits.target\n",
    "\n",
    "# build a classifier\n",
    "clf = RandomForestClassifier(n_estimators=20)\n",
    "\n",
    "\n",
    "# Utility function to report best scores\n",
    "def report(results, n_top=3):\n",
    "    for i in range(1, n_top + 1):\n",
    "        candidates = np.flatnonzero(results['rank_test_score'] == i)\n",
    "        for candidate in candidates:\n",
    "            print(\"Model with rank: {0}\".format(i))\n",
    "            print(\"Mean validation score: {0:.3f} (std: {1:.3f})\".format(\n",
    "                  results['mean_test_score'][candidate],\n",
    "                  results['std_test_score'][candidate]))\n",
    "            print(\"Parameters: {0}\".format(results['params'][candidate]))\n",
    "            print(\"\")\n",
    "\n",
    "\n",
    "# specify parameters and distributions to sample from\n",
    "param_dist = {\"max_depth\": [3, None],\n",
    "              \"max_features\": sp_randint(1, 11),\n",
    "              \"min_samples_split\": sp_randint(2, 11),\n",
    "              \"min_samples_leaf\": sp_randint(1, 11),\n",
    "              \"bootstrap\": [True, False],\n",
    "              \"criterion\": [\"gini\", \"entropy\"]}\n",
    "\n",
    "# run randomized search\n",
    "n_iter_search = 20\n",
    "random_search = RandomizedSearchCV(clf, param_distributions=param_dist,\n",
    "                                   n_iter=n_iter_search)\n",
    "\n",
    "start = time()\n",
    "random_search.fit(X, y)\n",
    "print(\"RandomizedSearchCV took %.2f seconds for %d candidates\"\n",
    "      \" parameter settings.\" % ((time() - start), n_iter_search))\n",
    "report(random_search.cv_results_)\n",
    "\n",
    "# use a full grid over all parameters\n",
    "param_grid = {\"max_depth\": [3, None],\n",
    "              \"max_features\": [1, 3, 10],\n",
    "              \"min_samples_split\": [2, 3, 10],\n",
    "              \"min_samples_leaf\": [1, 3, 10],\n",
    "              \"bootstrap\": [True, False],\n",
    "              \"criterion\": [\"gini\", \"entropy\"]}\n",
    "\n",
    "# run grid search\n",
    "grid_search = GridSearchCV(clf, param_grid=param_grid)\n",
    "start = time()\n",
    "\n",
    "grid_search.fit(X, y)\n",
    "\n",
    "print(\"GridSearchCV took %.2f seconds for %d candidate parameter settings.\"\n",
    "      % (time() - start, len(grid_search.cv_results_['params'])))\n",
    "report(grid_search.cv_results_)"
   ]
  },
  {
   "cell_type": "markdown",
   "metadata": {},
   "source": [
    "# homework"
   ]
  },
  {
   "cell_type": "code",
   "execution_count": null,
   "metadata": {
    "collapsed": true
   },
   "outputs": [],
   "source": [
    "class RandomForest:\n",
    "    def __init__(self, \n",
    "                 max_depth=4,\n",
    "                 each_tree_data=70,\n",
    "                 tree_count=5,\n",
    "                 criterion=\"gini\"):\n",
    "        self.trees = []\n",
    "        for i in range(tree_count):\n",
    "            self.trees.append(DecisionTree())\n",
    "    \n",
    "    def fit(self, X, y):\n",
    "        for index, tree in enumerate(self.trees):\n",
    "            # todo, use self.each_tree_data            \n",
    "            self.trees[index].fit(X_part, y_part)\n",
    "    \n",
    "    def predict(self, X):\n",
    "        predictions = []\n",
    "        for index, tree in enumerate(self.trees):\n",
    "            predictions.append(self.tree[index].predict(X))\n",
    "        # handle predictions\n",
    "        return y"
   ]
  },
  {
   "cell_type": "code",
   "execution_count": null,
   "metadata": {
    "collapsed": true
   },
   "outputs": [],
   "source": [
    "try:\n",
    "    iris = load_iris()\n",
    "    for pairidx, pair in enumerate([[0, 1], [0, 2], [0, 3],\n",
    "                                    [1, 2], [1, 3], [2, 3]]):\n",
    "        X = iris.data[:, pair]\n",
    "        y = iris.target\n",
    "\n",
    "        clf = RandomForest().fit(X, y)\n",
    "\n",
    "        plt.figure(figsize=(16,9))\n",
    "        plt.subplot()\n",
    "        x_min, x_max = X[:, 0].min() - 1, X[:, 0].max() + 1\n",
    "        y_min, y_max = X[:, 1].min() - 1, X[:, 1].max() + 1\n",
    "        xx, yy = np.meshgrid(np.arange(x_min, x_max, 0.02),\n",
    "                         np.arange(y_min, y_max, 0.02))\n",
    "        plt.tight_layout(h_pad=0.5, w_pad=0.5, pad=2.5)\n",
    "\n",
    "        Z = clf.predict(np.c_[xx.ravel(), yy.ravel()])\n",
    "        Z = Z.reshape(xx.shape)\n",
    "\n",
    "        cs = plt.contourf(xx, yy, Z, cmap=plt.cm.RdYlBu)\n",
    "        plt.xlabel(iris.feature_names[pair[0]])\n",
    "        plt.ylabel(iris.feature_names[pair[1]])\n",
    "\n",
    "        for i, color in zip(range(3), \"ryb\"):\n",
    "            idx = np.where(y == i)\n",
    "            plt.scatter(X[idx, 0], X[idx, 1], c=color, label=iris.target_names[i],\n",
    "                        cmap=plt.cm.RdYlBu, edgecolor='black', s=130)\n",
    "    plt.show()\n",
    "except:\n",
    "    print(\"Hmm, something is wrong :[\")"
   ]
  },
  {
   "cell_type": "markdown",
   "metadata": {},
   "source": [
    "## stacking and blending"
   ]
  },
  {
   "cell_type": "markdown",
   "metadata": {},
   "source": [
    "![title](11.png)"
   ]
  },
  {
   "cell_type": "code",
   "execution_count": null,
   "metadata": {
    "collapsed": true
   },
   "outputs": [],
   "source": [
    "class blend:\n",
    "    def __init__(self, models: list, model_params: list,\n",
    "                 blender_model, blender_param: dict,\n",
    "                 train_percent=80):\n",
    "        self.models = []\n",
    "        for index, model in enumerate(models):\n",
    "            self.models.append(model(**model_params[index]))\n",
    "        self.blender = blender_model(**blender_param)\n",
    "        self.train_percent = train_percent\n",
    "    \n",
    "    def fit(self, X, y):\n",
    "        #X_train, y_train, X_test, y_test use self.train_percent\n",
    "        predictions = []\n",
    "        for index, _ in enumerate(self.models):\n",
    "            self.models[index].fit(X_train, y_train)\n",
    "            predictions.append(self.models[index].predict(X_test))\n",
    "        self.blender_model.fit(predictions, y_test)\n",
    "    \n",
    "    def predict(self, X):\n",
    "        for index, _ in enumerate(self.models):\n",
    "            predictions.append(self.models[index].predict(X))\n",
    "        return self.blender_model.predict(predictions)"
   ]
  },
  {
   "cell_type": "code",
   "execution_count": null,
   "metadata": {
    "collapsed": true
   },
   "outputs": [],
   "source": [
    "class stack:\n",
    "    def __init__(self, folds, \n",
    "                 models: list, model_params: list,\n",
    "                 blender_model, blender_param: dict)\n",
    "        self.blender = blender_model(**blender_param)\n",
    "        self.folds = folds\n",
    "        self.models = models\n",
    "        self.model_params = model_params\n",
    "    \n",
    "    def fit(self, X, y):\n",
    "        # todo folds\n",
    "        all_predictions = []\n",
    "        for fold in folds:\n",
    "            # len(fold) = len(X)*(self.folds-1) / self.folds\n",
    "            # len(out_of_fold) = len(X) / self.folds\n",
    "            predictions = []\n",
    "            models = [self.models[index](**self.model_params[index])\n",
    "                      for index, _ in enumerate(self.models)]\n",
    "            for index, _ in enumerate(models):\n",
    "                models[index].fit(fold)\n",
    "                predictions.append(models[index].predict(out_of_fold))\n",
    "            all_predictions.append(predictions)\n",
    "        # todo, all_predictions shape like y, len(all_predictions) = len(y)\n",
    "        self.blender_model.fit(all_predictions, y)\n",
    "    \n",
    "    def predict(X):\n",
    "        pass           "
   ]
  }
 ],
 "metadata": {
  "anaconda-cloud": {},
  "kernelspec": {
   "display_name": "Python [conda env:anaconda3]",
   "language": "python",
   "name": "conda-env-anaconda3-py"
  },
  "language_info": {
   "codemirror_mode": {
    "name": "ipython",
    "version": 3
   },
   "file_extension": ".py",
   "mimetype": "text/x-python",
   "name": "python",
   "nbconvert_exporter": "python",
   "pygments_lexer": "ipython3",
   "version": "3.5.2"
  }
 },
 "nbformat": 4,
 "nbformat_minor": 1
}
