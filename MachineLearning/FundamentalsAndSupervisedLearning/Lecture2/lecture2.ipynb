{
 "cells": [
  {
   "cell_type": "code",
   "execution_count": 1,
   "metadata": {
    "collapsed": true
   },
   "outputs": [],
   "source": [
    "import numpy as np"
   ]
  },
  {
   "cell_type": "markdown",
   "metadata": {},
   "source": [
    "## bias variance tradoff"
   ]
  },
  {
   "cell_type": "markdown",
   "metadata": {},
   "source": [
    "![title](image3.png)"
   ]
  },
  {
   "cell_type": "markdown",
   "metadata": {},
   "source": [
    "## cros validation"
   ]
  },
  {
   "cell_type": "code",
   "execution_count": 20,
   "metadata": {
    "collapsed": true
   },
   "outputs": [],
   "source": [
    "k = 5\n",
    "data = np.random.uniform(size=1500)\n",
    "y = np.random.uniform(size=1500)"
   ]
  },
  {
   "cell_type": "code",
   "execution_count": 21,
   "metadata": {
    "collapsed": true
   },
   "outputs": [],
   "source": [
    "folds = [data[i::5] for i in range(5)]\n",
    "folds_y = [y[i::5] for i in range(5)]"
   ]
  },
  {
   "cell_type": "code",
   "execution_count": 22,
   "metadata": {
    "collapsed": false
   },
   "outputs": [
    {
     "name": "stdout",
     "output_type": "stream",
     "text": [
      "mean loss 414.607462111\n",
      "mean loss 415.320535763\n",
      "mean loss 415.881755434\n",
      "mean loss 416.036412015\n",
      "mean loss 416.340994297\n",
      "mean loss 417.338123951\n",
      "mean loss 417.717927176\n",
      "mean loss 418.563185663\n",
      "mean loss 418.647314723\n",
      "mean loss 416.966938805\n"
     ]
    }
   ],
   "source": [
    "for d in range(10):\n",
    "    loss = 0\n",
    "    for i in range(5):\n",
    "        x = list(range(5))\n",
    "        x.remove(i)\n",
    "        train = np.array([folds[j] for j in x]).flatten()\n",
    "        test = np.array(folds[i])\n",
    "        test = [[t**k for k in range(d+1)] for t in test]\n",
    "\n",
    "        train_y = np.array([folds_y[j] for j in x]).flatten()\n",
    "        test_y = np.array(folds_y[i])\n",
    "\n",
    "        param = np.polyfit(train, train_y, deg=d)\n",
    "        predicted = [np.array(t).dot(np.array(param[::-1])) for t in test]\n",
    "        loss += sum([(predicted[index] - test_y[index])**2 for index in range(len(predicted))])/len(predicted)\n",
    "    print(\"mean loss\", loss*1000)"
   ]
  },
  {
   "cell_type": "markdown",
   "metadata": {},
   "source": [
    "## homework"
   ]
  },
  {
   "cell_type": "markdown",
   "metadata": {},
   "source": [
    "Implement regularized regression"
   ]
  },
  {
   "cell_type": "markdown",
   "metadata": {},
   "source": [
    "Find best polynomial degree for generated data with cross validation"
   ]
  },
  {
   "cell_type": "markdown",
   "metadata": {},
   "source": [
    "## bonus"
   ]
  },
  {
   "cell_type": "markdown",
   "metadata": {},
   "source": [
    "Plot bias, variance and error"
   ]
  }
 ],
 "metadata": {
  "anaconda-cloud": {},
  "kernelspec": {
   "display_name": "Python [default]",
   "language": "python",
   "name": "python3"
  },
  "language_info": {
   "codemirror_mode": {
    "name": "ipython",
    "version": 3
   },
   "file_extension": ".py",
   "mimetype": "text/x-python",
   "name": "python",
   "nbconvert_exporter": "python",
   "pygments_lexer": "ipython3",
   "version": "3.5.2"
  }
 },
 "nbformat": 4,
 "nbformat_minor": 1
}
