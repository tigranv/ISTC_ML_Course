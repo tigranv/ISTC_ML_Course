{
 "cells": [
  {
   "cell_type": "code",
   "execution_count": 25,
   "metadata": {},
   "outputs": [],
   "source": [
    "import numpy as np\n",
    "import pandas as pd\n",
    "import matplotlib.pyplot as plt\n",
    "import seaborn as sns\n",
    "from scipy import stats\n",
    "%matplotlib inline "
   ]
  },
  {
   "cell_type": "code",
   "execution_count": 26,
   "metadata": {},
   "outputs": [
    {
     "name": "stdout",
     "output_type": "stream",
     "text": [
      "Train data shape: (6976, 28)\n",
      "Test data shape: (2994, 27)\n",
      "(6976,)\n",
      "Full data shape: (9970, 27)\n"
     ]
    },
    {
     "data": {
      "text/html": [
       "<div>\n",
       "<style scoped>\n",
       "    .dataframe tbody tr th:only-of-type {\n",
       "        vertical-align: middle;\n",
       "    }\n",
       "\n",
       "    .dataframe tbody tr th {\n",
       "        vertical-align: top;\n",
       "    }\n",
       "\n",
       "    .dataframe thead th {\n",
       "        text-align: right;\n",
       "    }\n",
       "</style>\n",
       "<table border=\"1\" class=\"dataframe\">\n",
       "  <thead>\n",
       "    <tr style=\"text-align: right;\">\n",
       "      <th></th>\n",
       "      <th>A</th>\n",
       "      <th>S</th>\n",
       "      <th>SS</th>\n",
       "      <th>age</th>\n",
       "      <th>country</th>\n",
       "      <th>country_rank</th>\n",
       "      <th>favourite_beatmapset_count</th>\n",
       "      <th>follower_count</th>\n",
       "      <th>hit_accuracy</th>\n",
       "      <th>is_active</th>\n",
       "      <th>...</th>\n",
       "      <th>playstyle</th>\n",
       "      <th>post_count</th>\n",
       "      <th>previous_usernames</th>\n",
       "      <th>ranked_and_approved_beatmapset_count</th>\n",
       "      <th>ranked_score</th>\n",
       "      <th>replays_watched_by_others</th>\n",
       "      <th>replays_watched_counts</th>\n",
       "      <th>total_hits</th>\n",
       "      <th>total_score</th>\n",
       "      <th>username</th>\n",
       "    </tr>\n",
       "  </thead>\n",
       "  <tbody>\n",
       "    <tr>\n",
       "      <th>0</th>\n",
       "      <td>651.0</td>\n",
       "      <td>803.0</td>\n",
       "      <td>28.0</td>\n",
       "      <td>16.0</td>\n",
       "      <td>Chile</td>\n",
       "      <td>1.0</td>\n",
       "      <td>60</td>\n",
       "      <td>9204</td>\n",
       "      <td>98.3008</td>\n",
       "      <td>True</td>\n",
       "      <td>...</td>\n",
       "      <td>[keyboard, tablet]</td>\n",
       "      <td>9</td>\n",
       "      <td>[TrollFk]</td>\n",
       "      <td>0</td>\n",
       "      <td>35956687428</td>\n",
       "      <td>188557</td>\n",
       "      <td>[{'count': 2, 'start_date': '2015-05-01'}, {'c...</td>\n",
       "      <td>28378396</td>\n",
       "      <td>367849125665</td>\n",
       "      <td>Mathi</td>\n",
       "    </tr>\n",
       "    <tr>\n",
       "      <th>1</th>\n",
       "      <td>1034.0</td>\n",
       "      <td>405.0</td>\n",
       "      <td>189.0</td>\n",
       "      <td>19.0</td>\n",
       "      <td>Poland</td>\n",
       "      <td>1.0</td>\n",
       "      <td>14</td>\n",
       "      <td>48041</td>\n",
       "      <td>98.9178</td>\n",
       "      <td>True</td>\n",
       "      <td>...</td>\n",
       "      <td>[keyboard, tablet]</td>\n",
       "      <td>15</td>\n",
       "      <td>[]</td>\n",
       "      <td>0</td>\n",
       "      <td>46649498415</td>\n",
       "      <td>1720746</td>\n",
       "      <td>[{'count': 19, 'start_date': '2013-11-01'}, {'...</td>\n",
       "      <td>42410479</td>\n",
       "      <td>467840602465</td>\n",
       "      <td>Rafis</td>\n",
       "    </tr>\n",
       "    <tr>\n",
       "      <th>2</th>\n",
       "      <td>839.0</td>\n",
       "      <td>787.0</td>\n",
       "      <td>52.0</td>\n",
       "      <td>14.0</td>\n",
       "      <td>United States</td>\n",
       "      <td>1.0</td>\n",
       "      <td>10</td>\n",
       "      <td>17495</td>\n",
       "      <td>98.4025</td>\n",
       "      <td>True</td>\n",
       "      <td>...</td>\n",
       "      <td>[touch]</td>\n",
       "      <td>10</td>\n",
       "      <td>[Vaxei]</td>\n",
       "      <td>0</td>\n",
       "      <td>29827153244</td>\n",
       "      <td>464031</td>\n",
       "      <td>[{'count': 1, 'start_date': '2014-11-01'}, {'c...</td>\n",
       "      <td>22063826</td>\n",
       "      <td>216798962074</td>\n",
       "      <td>Donkey Kong</td>\n",
       "    </tr>\n",
       "    <tr>\n",
       "      <th>3</th>\n",
       "      <td>1171.0</td>\n",
       "      <td>490.0</td>\n",
       "      <td>27.0</td>\n",
       "      <td>NaN</td>\n",
       "      <td>Lithuania</td>\n",
       "      <td>1.0</td>\n",
       "      <td>61</td>\n",
       "      <td>5413</td>\n",
       "      <td>99.0310</td>\n",
       "      <td>True</td>\n",
       "      <td>...</td>\n",
       "      <td>[mouse, keyboard]</td>\n",
       "      <td>17</td>\n",
       "      <td>[Azuren, Cainon]</td>\n",
       "      <td>0</td>\n",
       "      <td>15928388241</td>\n",
       "      <td>93667</td>\n",
       "      <td>[{'count': 4, 'start_date': '2015-05-01'}, {'c...</td>\n",
       "      <td>15468426</td>\n",
       "      <td>108398366502</td>\n",
       "      <td>Azerite</td>\n",
       "    </tr>\n",
       "    <tr>\n",
       "      <th>4</th>\n",
       "      <td>912.0</td>\n",
       "      <td>3450.0</td>\n",
       "      <td>234.0</td>\n",
       "      <td>22.0</td>\n",
       "      <td>China</td>\n",
       "      <td>1.0</td>\n",
       "      <td>51</td>\n",
       "      <td>5702</td>\n",
       "      <td>97.5871</td>\n",
       "      <td>True</td>\n",
       "      <td>...</td>\n",
       "      <td>[keyboard, tablet]</td>\n",
       "      <td>94</td>\n",
       "      <td>[kamiyo-sama, Kamiyo-sama, Tokichii]</td>\n",
       "      <td>0</td>\n",
       "      <td>53430781951</td>\n",
       "      <td>42061</td>\n",
       "      <td>[{'count': 22, 'start_date': '2012-01-01'}, {'...</td>\n",
       "      <td>30409606</td>\n",
       "      <td>327137749103</td>\n",
       "      <td>Totoki</td>\n",
       "    </tr>\n",
       "  </tbody>\n",
       "</table>\n",
       "<p>5 rows × 27 columns</p>\n",
       "</div>"
      ],
      "text/plain": [
       "        A       S     SS   age        country  country_rank  \\\n",
       "0   651.0   803.0   28.0  16.0          Chile           1.0   \n",
       "1  1034.0   405.0  189.0  19.0         Poland           1.0   \n",
       "2   839.0   787.0   52.0  14.0  United States           1.0   \n",
       "3  1171.0   490.0   27.0   NaN      Lithuania           1.0   \n",
       "4   912.0  3450.0  234.0  22.0          China           1.0   \n",
       "\n",
       "   favourite_beatmapset_count  follower_count  hit_accuracy  is_active  \\\n",
       "0                          60            9204       98.3008       True   \n",
       "1                          14           48041       98.9178       True   \n",
       "2                          10           17495       98.4025       True   \n",
       "3                          61            5413       99.0310       True   \n",
       "4                          51            5702       97.5871       True   \n",
       "\n",
       "      ...                playstyle post_count  \\\n",
       "0     ...       [keyboard, tablet]          9   \n",
       "1     ...       [keyboard, tablet]         15   \n",
       "2     ...                  [touch]         10   \n",
       "3     ...        [mouse, keyboard]         17   \n",
       "4     ...       [keyboard, tablet]         94   \n",
       "\n",
       "                     previous_usernames  ranked_and_approved_beatmapset_count  \\\n",
       "0                             [TrollFk]                                     0   \n",
       "1                                    []                                     0   \n",
       "2                               [Vaxei]                                     0   \n",
       "3                      [Azuren, Cainon]                                     0   \n",
       "4  [kamiyo-sama, Kamiyo-sama, Tokichii]                                     0   \n",
       "\n",
       "  ranked_score  replays_watched_by_others  \\\n",
       "0  35956687428                     188557   \n",
       "1  46649498415                    1720746   \n",
       "2  29827153244                     464031   \n",
       "3  15928388241                      93667   \n",
       "4  53430781951                      42061   \n",
       "\n",
       "                              replays_watched_counts total_hits   total_score  \\\n",
       "0  [{'count': 2, 'start_date': '2015-05-01'}, {'c...   28378396  367849125665   \n",
       "1  [{'count': 19, 'start_date': '2013-11-01'}, {'...   42410479  467840602465   \n",
       "2  [{'count': 1, 'start_date': '2014-11-01'}, {'c...   22063826  216798962074   \n",
       "3  [{'count': 4, 'start_date': '2015-05-01'}, {'c...   15468426  108398366502   \n",
       "4  [{'count': 22, 'start_date': '2012-01-01'}, {'...   30409606  327137749103   \n",
       "\n",
       "      username  \n",
       "0        Mathi  \n",
       "1        Rafis  \n",
       "2  Donkey Kong  \n",
       "3      Azerite  \n",
       "4       Totoki  \n",
       "\n",
       "[5 rows x 27 columns]"
      ]
     },
     "execution_count": 26,
     "metadata": {},
     "output_type": "execute_result"
    }
   ],
   "source": [
    "data_train = np.load(\"clean_train.npy\")\n",
    "data_test = np.load(\"clean_test.npy\")\n",
    "\n",
    "df_train = pd.DataFrame(list(data_train))\n",
    "df_test = pd.DataFrame(list(data_test))\n",
    "\n",
    "print(\"Train data shape:\", df_train.shape)\n",
    "print(\"Test data shape:\", df_test.shape)\n",
    "train_number = df_train.shape[0] # to re-cut sets\n",
    "\n",
    "target = df_train.pp\n",
    "test_usernames = df_test.username \n",
    "print(target.shape)\n",
    "\n",
    "# Lets concat test and train for data analizing and preprocessing\n",
    "df = pd.concat([df_train.drop(['pp'], axis=1, inplace=False), df_test])\n",
    "print(\"Full data shape:\", df.shape)\n",
    "df.head()\n",
    "# df_test.head()"
   ]
  },
  {
   "cell_type": "code",
   "execution_count": 27,
   "metadata": {},
   "outputs": [],
   "source": [
    "# df.describe()"
   ]
  },
  {
   "cell_type": "markdown",
   "metadata": {},
   "source": [
    "### deleting obviously unimportant fields"
   ]
  },
  {
   "cell_type": "code",
   "execution_count": 28,
   "metadata": {
    "scrolled": true
   },
   "outputs": [],
   "source": [
    "df = df.drop(['username', 'country', 'monthly_playcounts', 'previous_usernames', 'replays_watched_counts', \"join_date\"  ], axis=1)\n",
    "# df.head()"
   ]
  },
  {
   "cell_type": "markdown",
   "metadata": {},
   "source": [
    "### Checking missing data (True field means we have missing data)"
   ]
  },
  {
   "cell_type": "code",
   "execution_count": 29,
   "metadata": {},
   "outputs": [],
   "source": [
    "\n",
    "missing_data = df.isnull()\n",
    "missing_data_test = df_test.isnull()\n",
    "\n",
    "# for column in missing_data.columns.values.tolist():\n",
    "#     print(column)\n",
    "#     print (missing_data[column].value_counts())\n",
    "#     print(\"\")\n",
    "    \n",
    "# #"
   ]
  },
  {
   "cell_type": "markdown",
   "metadata": {},
   "source": [
    "So we missing **\"Playstyle\" : 499**, **\"age\" : 3005** and **\"country_rank\" : 50** lets replace first one with word \"Missing\"  and last two with their means. Also we will convert \"playstyle\" array to a string"
   ]
  },
  {
   "cell_type": "code",
   "execution_count": 30,
   "metadata": {},
   "outputs": [],
   "source": [
    "df[\"playstyle\"].replace(np.nan, \"Missing\", inplace = True)\n",
    "\n",
    "avg_age=df['age'].mean(axis=0)\n",
    "df['age'].replace(np.nan, avg_age, inplace= True)\n",
    "\n",
    "avg_rank=df['country_rank'].mean(axis=0)\n",
    "df['country_rank'].replace(np.nan, avg_rank, inplace= True)\n",
    "\n",
    "df[\"playstyle\"] = df.playstyle.apply(lambda x: \"-\".join(x))\n",
    "\n"
   ]
  },
  {
   "cell_type": "code",
   "execution_count": 31,
   "metadata": {},
   "outputs": [],
   "source": [
    "# df.head()"
   ]
  },
  {
   "cell_type": "markdown",
   "metadata": {},
   "source": [
    "### Now lets check data types of our features, and see is there **Categorical variables**"
   ]
  },
  {
   "cell_type": "code",
   "execution_count": 32,
   "metadata": {},
   "outputs": [],
   "source": [
    "# df.dtypes"
   ]
  },
  {
   "cell_type": "markdown",
   "metadata": {},
   "source": [
    "We have 3 categorical values, **\"Is_active\"**, **\"is_supporter\"**, and **\"playstyle\"**\n",
    "Let's look at the relationship between them and \"pp\" "
   ]
  },
  {
   "cell_type": "code",
   "execution_count": 33,
   "metadata": {},
   "outputs": [],
   "source": [
    "# fig = plt.figure(figsize=(16,9)) # create figure\n",
    "\n",
    "# ax0 = fig.add_subplot(2, 2, 1)\n",
    "# ax1 = fig.add_subplot(222) \n",
    "# ax2 = fig.add_subplot(223) \n",
    "\n",
    "# # (remember! we need to take only training part of our data)\n",
    "# sns.boxplot(x=df.playstyle[:train_number], y=target, ax=ax0)\n",
    "# sns.boxplot(x=df.is_active[:train_number], y=target,  ax=ax1)\n",
    "# sns.boxplot(x=df.is_supporter[:train_number], y=target, ax=ax2)\n"
   ]
  },
  {
   "cell_type": "markdown",
   "metadata": {},
   "source": [
    "The distributions of **\"pp\"** between **\"Is_active\", \"is_supporter\", \"playstyle\"** have a significant overlap, and so they would not be a good predictors, lets drop them"
   ]
  },
  {
   "cell_type": "code",
   "execution_count": 34,
   "metadata": {},
   "outputs": [],
   "source": [
    "# drop categoricals, no info \n",
    "df.drop(\"playstyle\", axis = 1, inplace=True)\n",
    "df.drop(\"is_supporter\", axis = 1, inplace=True)\n",
    "df.drop(\"is_active\", axis = 1, inplace=True)\n",
    "# df.head()"
   ]
  },
  {
   "cell_type": "markdown",
   "metadata": {},
   "source": [
    "### Normalization, simply deviding all freutures by their max value"
   ]
  },
  {
   "cell_type": "code",
   "execution_count": 35,
   "metadata": {},
   "outputs": [
    {
     "name": "stdout",
     "output_type": "stream",
     "text": [
      "0.0\n"
     ]
    },
    {
     "data": {
      "text/html": [
       "<div>\n",
       "<style scoped>\n",
       "    .dataframe tbody tr th:only-of-type {\n",
       "        vertical-align: middle;\n",
       "    }\n",
       "\n",
       "    .dataframe tbody tr th {\n",
       "        vertical-align: top;\n",
       "    }\n",
       "\n",
       "    .dataframe thead th {\n",
       "        text-align: right;\n",
       "    }\n",
       "</style>\n",
       "<table border=\"1\" class=\"dataframe\">\n",
       "  <thead>\n",
       "    <tr style=\"text-align: right;\">\n",
       "      <th></th>\n",
       "      <th>A</th>\n",
       "      <th>S</th>\n",
       "      <th>SS</th>\n",
       "      <th>age</th>\n",
       "      <th>country_rank</th>\n",
       "      <th>favourite_beatmapset_count</th>\n",
       "      <th>follower_count</th>\n",
       "      <th>hit_accuracy</th>\n",
       "      <th>level</th>\n",
       "      <th>maximum_combo</th>\n",
       "      <th>play_count</th>\n",
       "      <th>play_time</th>\n",
       "      <th>post_count</th>\n",
       "      <th>ranked_and_approved_beatmapset_count</th>\n",
       "      <th>ranked_score</th>\n",
       "      <th>replays_watched_by_others</th>\n",
       "      <th>total_hits</th>\n",
       "      <th>total_score</th>\n",
       "    </tr>\n",
       "  </thead>\n",
       "  <tbody>\n",
       "    <tr>\n",
       "      <th>0</th>\n",
       "      <td>0.111491</td>\n",
       "      <td>0.051036</td>\n",
       "      <td>0.003059</td>\n",
       "      <td>0.155340</td>\n",
       "      <td>0.0</td>\n",
       "      <td>0.60</td>\n",
       "      <td>0.096412</td>\n",
       "      <td>0.971764</td>\n",
       "      <td>0.961165</td>\n",
       "      <td>0.328092</td>\n",
       "      <td>0.359355</td>\n",
       "      <td>0.328630</td>\n",
       "      <td>0.000559</td>\n",
       "      <td>0.0</td>\n",
       "      <td>0.133398</td>\n",
       "      <td>0.029131</td>\n",
       "      <td>0.511128</td>\n",
       "      <td>0.479170</td>\n",
       "    </tr>\n",
       "    <tr>\n",
       "      <th>1</th>\n",
       "      <td>0.176984</td>\n",
       "      <td>0.025740</td>\n",
       "      <td>0.015074</td>\n",
       "      <td>0.184466</td>\n",
       "      <td>0.0</td>\n",
       "      <td>0.14</td>\n",
       "      <td>0.503232</td>\n",
       "      <td>0.982017</td>\n",
       "      <td>0.970874</td>\n",
       "      <td>0.328415</td>\n",
       "      <td>0.672123</td>\n",
       "      <td>0.516909</td>\n",
       "      <td>0.000932</td>\n",
       "      <td>0.0</td>\n",
       "      <td>0.173068</td>\n",
       "      <td>0.265848</td>\n",
       "      <td>0.763874</td>\n",
       "      <td>0.609422</td>\n",
       "    </tr>\n",
       "    <tr>\n",
       "      <th>2</th>\n",
       "      <td>0.143639</td>\n",
       "      <td>0.050019</td>\n",
       "      <td>0.004850</td>\n",
       "      <td>0.135922</td>\n",
       "      <td>0.0</td>\n",
       "      <td>0.10</td>\n",
       "      <td>0.183261</td>\n",
       "      <td>0.973454</td>\n",
       "      <td>0.941748</td>\n",
       "      <td>0.377791</td>\n",
       "      <td>0.342833</td>\n",
       "      <td>0.280508</td>\n",
       "      <td>0.000621</td>\n",
       "      <td>0.0</td>\n",
       "      <td>0.110657</td>\n",
       "      <td>0.071691</td>\n",
       "      <td>0.397390</td>\n",
       "      <td>0.282408</td>\n",
       "    </tr>\n",
       "    <tr>\n",
       "      <th>3</th>\n",
       "      <td>0.200410</td>\n",
       "      <td>0.031143</td>\n",
       "      <td>0.002985</td>\n",
       "      <td>0.195657</td>\n",
       "      <td>0.0</td>\n",
       "      <td>0.61</td>\n",
       "      <td>0.056701</td>\n",
       "      <td>0.983898</td>\n",
       "      <td>0.932039</td>\n",
       "      <td>0.154145</td>\n",
       "      <td>0.201934</td>\n",
       "      <td>0.180555</td>\n",
       "      <td>0.001056</td>\n",
       "      <td>0.0</td>\n",
       "      <td>0.059093</td>\n",
       "      <td>0.014471</td>\n",
       "      <td>0.278593</td>\n",
       "      <td>0.141202</td>\n",
       "    </tr>\n",
       "    <tr>\n",
       "      <th>4</th>\n",
       "      <td>0.156122</td>\n",
       "      <td>0.219270</td>\n",
       "      <td>0.018431</td>\n",
       "      <td>0.213592</td>\n",
       "      <td>0.0</td>\n",
       "      <td>0.51</td>\n",
       "      <td>0.059729</td>\n",
       "      <td>0.959904</td>\n",
       "      <td>0.961165</td>\n",
       "      <td>0.272051</td>\n",
       "      <td>0.347356</td>\n",
       "      <td>0.338947</td>\n",
       "      <td>0.005842</td>\n",
       "      <td>0.0</td>\n",
       "      <td>0.198226</td>\n",
       "      <td>0.006498</td>\n",
       "      <td>0.547714</td>\n",
       "      <td>0.426138</td>\n",
       "    </tr>\n",
       "  </tbody>\n",
       "</table>\n",
       "</div>"
      ],
      "text/plain": [
       "          A         S        SS       age  country_rank  \\\n",
       "0  0.111491  0.051036  0.003059  0.155340           0.0   \n",
       "1  0.176984  0.025740  0.015074  0.184466           0.0   \n",
       "2  0.143639  0.050019  0.004850  0.135922           0.0   \n",
       "3  0.200410  0.031143  0.002985  0.195657           0.0   \n",
       "4  0.156122  0.219270  0.018431  0.213592           0.0   \n",
       "\n",
       "   favourite_beatmapset_count  follower_count  hit_accuracy     level  \\\n",
       "0                        0.60        0.096412      0.971764  0.961165   \n",
       "1                        0.14        0.503232      0.982017  0.970874   \n",
       "2                        0.10        0.183261      0.973454  0.941748   \n",
       "3                        0.61        0.056701      0.983898  0.932039   \n",
       "4                        0.51        0.059729      0.959904  0.961165   \n",
       "\n",
       "   maximum_combo  play_count  play_time  post_count  \\\n",
       "0       0.328092    0.359355   0.328630    0.000559   \n",
       "1       0.328415    0.672123   0.516909    0.000932   \n",
       "2       0.377791    0.342833   0.280508    0.000621   \n",
       "3       0.154145    0.201934   0.180555    0.001056   \n",
       "4       0.272051    0.347356   0.338947    0.005842   \n",
       "\n",
       "   ranked_and_approved_beatmapset_count  ranked_score  \\\n",
       "0                                   0.0      0.133398   \n",
       "1                                   0.0      0.173068   \n",
       "2                                   0.0      0.110657   \n",
       "3                                   0.0      0.059093   \n",
       "4                                   0.0      0.198226   \n",
       "\n",
       "   replays_watched_by_others  total_hits  total_score  \n",
       "0                   0.029131    0.511128     0.479170  \n",
       "1                   0.265848    0.763874     0.609422  \n",
       "2                   0.071691    0.397390     0.282408  \n",
       "3                   0.014471    0.278593     0.141202  \n",
       "4                   0.006498    0.547714     0.426138  "
      ]
     },
     "execution_count": 35,
     "metadata": {},
     "output_type": "execute_result"
    }
   ],
   "source": [
    "# df['A'] = df['A']/df['A'].max()\n",
    "# df['S'] = df['S']/df['S'].max()\n",
    "# df['SS'] = df['SS']/df['SS'].max()\n",
    "# df['age'] = df['age']/df['age'].max()\n",
    "# df['favourite_beatmapset_count'] = df['favourite_beatmapset_count']/df['favourite_beatmapset_count'].max()\n",
    "# df['follower_count'] = df['follower_count']/df['follower_count'].max()\n",
    "# df['hit_accuracy'] = df['hit_accuracy']/df['hit_accuracy'].max()\n",
    "# df['play_count'] = df['play_count']/df['play_count'].max()\n",
    "# df['play_time'] = df['play_time']/ df['play_time'].max()\n",
    "# df['post_count'] = df['post_count']/df['post_count'].max()\n",
    "# df['ranked_score'] = df['ranked_score']/df['ranked_score'].max()\n",
    "# df['replays_watched_by_others'] = df['replays_watched_by_others']/df['replays_watched_by_others'].max()\n",
    "# df['total_hits'] = df['total_hits']/df['total_hits'].max()\n",
    "# df['total_score'] = df['total_score']/df['total_score'].max()\n",
    "# df['level'] = df['level']/df['level'].max()\n",
    "# df['maximum_combo'] = df['maximum_combo']/df['maximum_combo'].max()\n",
    "# df['country_rank'] = df['country_rank']/df['country_rank'].max()\n",
    "# df['ranked_and_approved_beatmapset_count'] = df['ranked_and_approved_beatmapset_count']/df['ranked_and_approved_beatmapset_count'].max()\n",
    "\n",
    "from sklearn import preprocessing\n",
    "\n",
    "x = df.values #returns a numpy array\n",
    "min_max_scaler = preprocessing.MinMaxScaler()\n",
    "x_scaled = min_max_scaler.fit_transform(x)\n",
    "df = pd.DataFrame(x_scaled, columns=list(df.columns.values))\n",
    "print(min(df.ranked_score))\n",
    "df.head()\n"
   ]
  },
  {
   "cell_type": "markdown",
   "metadata": {},
   "source": [
    "### we can calculate the correlation between variables (befor plotting i will remove outliers)"
   ]
  },
  {
   "cell_type": "code",
   "execution_count": 36,
   "metadata": {},
   "outputs": [
    {
     "name": "stdout",
     "output_type": "stream",
     "text": [
      "(6976, 19)\n",
      "(5968, 19)\n"
     ]
    },
    {
     "data": {
      "text/plain": [
       "<matplotlib.axes._subplots.AxesSubplot at 0x217de5a2cc0>"
      ]
     },
     "execution_count": 36,
     "metadata": {},
     "output_type": "execute_result"
    },
    {
     "data": {
      "image/png": "[encoded data removed]",
      "text/plain": [
       "<matplotlib.figure.Figure at 0x217ecc05a58>"
      ]
     },
     "metadata": {},
     "output_type": "display_data"
    }
   ],
   "source": [
    "training_data = pd.concat([df[:train_number], target], axis=1)\n",
    "\n",
    "no_outliers = training_data.copy(deep=True)[(np.abs(stats.zscore(training_data)) < 3).all(axis=1)]\n",
    "\n",
    "print(training_data.shape)\n",
    "print(no_outliers.shape)\n",
    "# features = ['A', 'S', 'SS', 'age', 'country_rank','favourite_beatmapset_count', 'follower_count', 'hit_accuracy', 'level', 'maximum_combo', 'play_count', 'play_time', 'post_count', 'ranked_and_approved_beatmapset_count', 'ranked_score', 'replays_watched_by_others', 'total_hits', 'total_score' ]\n",
    "\n",
    "\n",
    "\n",
    "\n",
    "\n",
    "corr = no_outliers.corr()\n",
    "fig, ax = plt.subplots(figsize=(25,10)) \n",
    "sns.heatmap(corr, xticklabels=corr.columns.values, annot=True, yticklabels=corr.columns.values, ax=ax)"
   ]
  },
  {
   "cell_type": "markdown",
   "metadata": {},
   "source": [
    "In order to start understanding the (linear) relationship between an individual variable and the **pp**. We can do this by using \"regplot\", which plots the scatterplot plus the fitted regression line for the data"
   ]
  },
  {
   "cell_type": "code",
   "execution_count": 37,
   "metadata": {},
   "outputs": [],
   "source": [
    "\n",
    "# fig = plt.figure(figsize=(20, 40)) # create figure\n",
    "\n",
    "# ax1 = fig.add_subplot(631)\n",
    "# ax2 = fig.add_subplot(632) \n",
    "# ax3 = fig.add_subplot(633)\n",
    "# ax4 = fig.add_subplot(634)\n",
    "# ax5 = fig.add_subplot(635)\n",
    "# ax6 = fig.add_subplot(636)\n",
    "# ax7 = fig.add_subplot(637)\n",
    "# ax8 = fig.add_subplot(638)\n",
    "# ax9 = fig.add_subplot(639)\n",
    "# ax10 = fig.add_subplot(6,3,10)\n",
    "# ax11 = fig.add_subplot(6,3,11)\n",
    "# ax12 = fig.add_subplot(6,3,12)\n",
    "# ax13 = fig.add_subplot(6,3,13)\n",
    "# ax14 = fig.add_subplot(6,3,14)\n",
    "# ax15 = fig.add_subplot(6,3,15)\n",
    "# ax16 = fig.add_subplot(6,3,16)\n",
    "# ax17 = fig.add_subplot(6,3,17)\n",
    "# ax18 = fig.add_subplot(6,3,18)\n",
    "\n",
    "# # ax18.set_xlim(0, 1)\n",
    "# # ax3.set_xlim(0, 1)\n",
    "# # sns.pairplot(no_outliers, vars=[\"country_rank\", \"pp\"])\n",
    "\n",
    "# sns.regplot(x=\"ranked_and_approved_beatmapset_count\", y=\"pp\", data=no_outliers, ax=ax1, fit_reg=True)\n",
    "# sns.regplot(x=\"total_score\", y=\"pp\", data=no_outliers, ax=ax2, fit_reg=True)\n",
    "# sns.regplot(x=\"country_rank\", y=\"pp\", data=no_outliers, ax=ax3, fit_reg=True)\n",
    "# sns.regplot(x=\"A\", y=\"pp\", data=no_outliers, ax=ax4, fit_reg=True)\n",
    "# sns.regplot(x=\"S\", y=\"pp\", data=no_outliers, ax=ax5, fit_reg=True)\n",
    "# sns.regplot(x=\"SS\", y=\"pp\", data=no_outliers, ax=ax6, fit_reg=True)\n",
    "# sns.regplot(x=\"age\", y=\"pp\", data=no_outliers, ax=ax7, fit_reg=True)\n",
    "# sns.regplot(x=\"favourite_beatmapset_count\", y=\"pp\", data=no_outliers, ax=ax8, fit_reg=True)\n",
    "# sns.regplot(x=\"follower_count\", y=\"pp\", data=no_outliers, ax=ax9, fit_reg=True)\n",
    "# sns.regplot(x=\"hit_accuracy\", y=\"pp\", data=no_outliers, ax=ax10, fit_reg=True)\n",
    "# sns.regplot(x=\"level\", y=\"pp\", data=no_outliers, ax=ax11, fit_reg=True)\n",
    "# sns.regplot(x=\"maximum_combo\", y=\"pp\", data=no_outliers, ax=ax12, fit_reg=True)\n",
    "# sns.regplot(x=\"play_count\", y=\"pp\", data=no_outliers, ax=ax13, fit_reg=True)\n",
    "# sns.regplot(x=\"play_time\", y=\"pp\", data=no_outliers, ax=ax14, fit_reg=True)\n",
    "# sns.regplot(x=\"post_count\", y=\"pp\", data=no_outliers, ax=ax15, fit_reg=True)\n",
    "# sns.regplot(x=\"ranked_score\", y=\"pp\", data=no_outliers, ax=ax16, fit_reg=True)\n",
    "# sns.regplot(x=\"replays_watched_by_others\", y=\"pp\", data=no_outliers, ax=ax17, fit_reg=True)\n",
    "# sns.regplot(x=\"total_hits\", y=\"pp\", data=no_outliers, ax=ax18, fit_reg=True)"
   ]
  },
  {
   "cell_type": "markdown",
   "metadata": {},
   "source": [
    "Not linear))))"
   ]
  },
  {
   "cell_type": "code",
   "execution_count": 38,
   "metadata": {},
   "outputs": [],
   "source": [
    "\n",
    "# fig = plt.figure(figsize=(20, 40)) # create figure\n",
    "\n",
    "# ax1 = fig.add_subplot(631)\n",
    "# ax2 = fig.add_subplot(632) \n",
    "# ax3 = fig.add_subplot(633)\n",
    "# ax4 = fig.add_subplot(634)\n",
    "# ax5 = fig.add_subplot(635)\n",
    "# ax6 = fig.add_subplot(636)\n",
    "# ax7 = fig.add_subplot(637)\n",
    "# ax8 = fig.add_subplot(638)\n",
    "# ax9 = fig.add_subplot(639)\n",
    "# ax10 = fig.add_subplot(6,3,10)\n",
    "# ax11 = fig.add_subplot(6,3,11)\n",
    "# ax12 = fig.add_subplot(6,3,12)\n",
    "# ax13 = fig.add_subplot(6,3,13)\n",
    "# ax14 = fig.add_subplot(6,3,14)\n",
    "# ax15 = fig.add_subplot(6,3,15)\n",
    "# ax16 = fig.add_subplot(6,3,16)\n",
    "# ax17 = fig.add_subplot(6,3,17)\n",
    "# ax18 = fig.add_subplot(6,3,18)\n",
    "\n",
    "# sns.distplot(no_outliers.ranked_and_approved_beatmapset_count, ax=ax1)\n",
    "# sns.distplot(no_outliers.total_score, ax=ax2)\n",
    "# sns.distplot(no_outliers.country_rank, ax=ax3)\n",
    "# sns.distplot(no_outliers.A, ax=ax4)\n",
    "# sns.distplot(no_outliers.S, ax=ax5)\n",
    "# sns.distplot(no_outliers.SS, ax=ax6)\n",
    "# sns.distplot(no_outliers.age, ax=ax7)\n",
    "# sns.distplot(no_outliers.favourite_beatmapset_count, ax=ax8)\n",
    "# sns.distplot(no_outliers.follower_count, ax=ax9)\n",
    "# sns.distplot(no_outliers.hit_accuracy, ax=ax10)\n",
    "# sns.distplot(no_outliers.level, ax=ax11)\n",
    "# sns.distplot(no_outliers.maximum_combo, ax=ax12)\n",
    "# sns.distplot(no_outliers.play_count, ax=ax13)\n",
    "# sns.distplot(no_outliers.play_time, ax=ax14)\n",
    "# sns.distplot(no_outliers.post_count, ax=ax15)\n",
    "# sns.distplot(no_outliers.ranked_score, ax=ax16)\n",
    "# sns.distplot(no_outliers.replays_watched_by_others, ax=ax17)\n",
    "# sns.distplot(no_outliers.total_hits, ax=ax18)"
   ]
  },
  {
   "cell_type": "markdown",
   "metadata": {},
   "source": [
    "### Trying to find one super feature"
   ]
  },
  {
   "cell_type": "code",
   "execution_count": 39,
   "metadata": {},
   "outputs": [],
   "source": [
    "# sns.pairplot(no_outliers, vars=[\"country_rank\", \"replays_watched_by_others\"])"
   ]
  },
  {
   "cell_type": "code",
   "execution_count": 163,
   "metadata": {},
   "outputs": [
    {
     "data": {
      "text/plain": [
       "<matplotlib.axes._subplots.AxesSubplot at 0x217e8a060b8>"
      ]
     },
     "execution_count": 163,
     "metadata": {},
     "output_type": "execute_result"
    },
    {
     "data": {
      "image/png": "[encoded data removed]",
      "text/plain": [
       "<matplotlib.figure.Figure at 0x217e96bc5f8>"
      ]
     },
     "metadata": {},
     "output_type": "display_data"
    }
   ],
   "source": [
    "no_outliers[\"New_one\"] = np.log(no_outliers.country_rank*no_outliers.ranked_score+0.1)\n",
    "\n",
    "sns.regplot(x=\"New_one\", y=\"pp\", data=no_outliers, fit_reg=False)"
   ]
  },
  {
   "cell_type": "markdown",
   "metadata": {},
   "source": [
    "In case of droping data"
   ]
  },
  {
   "cell_type": "code",
   "execution_count": 50,
   "metadata": {},
   "outputs": [],
   "source": [
    "# df.drop(\"ranked_and_approved_beatmapset_count\", axis = 1, inplace=True)\n",
    "# df.drop(\"hit_accuracy\", axis = 1, inplace=True)\n",
    "# # df.drop(\"SS\", axis = 1, inplace=True)\n",
    "# # df.drop(\"A\", axis = 1, inplace=True)\n",
    "# df.drop(\"S\", axis = 1, inplace=True)\n",
    "# # df.drop(\"age\", axis = 1, inplace=True)\n",
    "# # df.drop(\"favourite_beatmapset_count\", axis = 1, inplace=True)\n",
    "# df.drop(\"level\", axis = 1, inplace=True)\n",
    "# # df.drop(\"post_count\", axis = 1, inplace=True)\n",
    "# df.drop(\"total_hits\", axis = 1, inplace=True)\n",
    "# # df.drop(\"replays_watched_by_others\", axis = 1, inplace=True)\n",
    "# df.drop(\"play_count\", axis = 1, inplace=True)\n",
    "\n",
    "# print(df.shape)\n",
    "# df.head()"
   ]
  },
  {
   "cell_type": "code",
   "execution_count": 180,
   "metadata": {},
   "outputs": [
    {
     "name": "stdout",
     "output_type": "stream",
     "text": [
      "(6976, 3)\n",
      "magic_feature       0.000281\n",
      "ranked_score        0.059549\n",
      "pp               6560.831422\n",
      "dtype: float64\n",
      "(6644, 3)\n"
     ]
    },
    {
     "data": {
      "text/html": [
       "<div>\n",
       "<style scoped>\n",
       "    .dataframe tbody tr th:only-of-type {\n",
       "        vertical-align: middle;\n",
       "    }\n",
       "\n",
       "    .dataframe tbody tr th {\n",
       "        vertical-align: top;\n",
       "    }\n",
       "\n",
       "    .dataframe thead th {\n",
       "        text-align: right;\n",
       "    }\n",
       "</style>\n",
       "<table border=\"1\" class=\"dataframe\">\n",
       "  <thead>\n",
       "    <tr style=\"text-align: right;\">\n",
       "      <th></th>\n",
       "      <th>magic_feature</th>\n",
       "      <th>ranked_score</th>\n",
       "      <th>pp</th>\n",
       "    </tr>\n",
       "  </thead>\n",
       "  <tbody>\n",
       "    <tr>\n",
       "      <th>129</th>\n",
       "      <td>0.000019</td>\n",
       "      <td>0.118902</td>\n",
       "      <td>9880</td>\n",
       "    </tr>\n",
       "    <tr>\n",
       "      <th>130</th>\n",
       "      <td>0.000125</td>\n",
       "      <td>0.191963</td>\n",
       "      <td>9873</td>\n",
       "    </tr>\n",
       "    <tr>\n",
       "      <th>131</th>\n",
       "      <td>0.000063</td>\n",
       "      <td>0.157043</td>\n",
       "      <td>9860</td>\n",
       "    </tr>\n",
       "    <tr>\n",
       "      <th>133</th>\n",
       "      <td>0.000013</td>\n",
       "      <td>0.116492</td>\n",
       "      <td>9852</td>\n",
       "    </tr>\n",
       "    <tr>\n",
       "      <th>134</th>\n",
       "      <td>0.000022</td>\n",
       "      <td>0.123865</td>\n",
       "      <td>9845</td>\n",
       "    </tr>\n",
       "  </tbody>\n",
       "</table>\n",
       "</div>"
      ],
      "text/plain": [
       "     magic_feature  ranked_score    pp\n",
       "129       0.000019      0.118902  9880\n",
       "130       0.000125      0.191963  9873\n",
       "131       0.000063      0.157043  9860\n",
       "133       0.000013      0.116492  9852\n",
       "134       0.000022      0.123865  9845"
      ]
     },
     "execution_count": 180,
     "metadata": {},
     "output_type": "execute_result"
    }
   ],
   "source": [
    "df[\"magic_feature\"] = (df.country_rank*df.ranked_score)\n",
    "df1 = df[['magic_feature', 'ranked_score' ]]\n",
    "# df1 = df[['country_rank',  'ranked_score']]\n",
    "training_data = pd.concat([df1[:train_number], target], axis=1)\n",
    "\n",
    "print(training_data.shape)\n",
    "training_no_outliers = training_data[(np.abs(stats.zscore(training_data)) <= 3).all(axis=1)]\n",
    "# training_no_outliers = training_data[np.abs(training_data-training_data.mean())<=(training_data.std())]\n",
    "print(training_data.mean())\n",
    "print(training_no_outliers.shape)\n",
    "training_no_outliers.head()"
   ]
  },
  {
   "cell_type": "code",
   "execution_count": 181,
   "metadata": {},
   "outputs": [
    {
     "name": "stdout",
     "output_type": "stream",
     "text": [
      "(6644,)\n",
      "(6644, 2)\n"
     ]
    }
   ],
   "source": [
    "target_no_outliers = training_no_outliers['pp']\n",
    "training_no_outliers = training_no_outliers.drop([\"pp\"], axis = 1)\n",
    "print(target_no_outliers.shape)\n",
    "print(training_no_outliers.shape)"
   ]
  },
  {
   "cell_type": "markdown",
   "metadata": {},
   "source": [
    "### Finally the train, test sets and target are"
   ]
  },
  {
   "cell_type": "code",
   "execution_count": 182,
   "metadata": {},
   "outputs": [],
   "source": [
    "y = np.array(target_no_outliers)\n",
    "X = np.array(training_no_outliers)\n",
    "X_t = np.array(df1[train_number:])\n",
    "usernames = np.array(test_usernames)"
   ]
  },
  {
   "cell_type": "code",
   "execution_count": 183,
   "metadata": {},
   "outputs": [
    {
     "name": "stdout",
     "output_type": "stream",
     "text": [
      "(6644,)\n",
      "(6644, 2)\n",
      "(2994, 2)\n"
     ]
    }
   ],
   "source": [
    "print(y.shape)\n",
    "print(X.shape)\n",
    "print(X_t.shape)"
   ]
  },
  {
   "cell_type": "markdown",
   "metadata": {},
   "source": [
    "# Model creation"
   ]
  },
  {
   "cell_type": "markdown",
   "metadata": {},
   "source": [
    "### My models"
   ]
  },
  {
   "cell_type": "code",
   "execution_count": 184,
   "metadata": {},
   "outputs": [],
   "source": [
    "from numpy.linalg import inv\n",
    "from sklearn.model_selection import KFold\n",
    "from sklearn.preprocessing import PolynomialFeatures\n",
    "from sklearn.model_selection import train_test_split\n",
    "\n",
    "def RMSE(X, Y, b):\n",
    "    predict = X.dot(b)\n",
    "    for i in range(len(predict)):\n",
    "        if predict[i] < 0:\n",
    "            predict[i] = 6560 \n",
    "\n",
    "    return np.mean((predict - Y) ** 2) ** (0.5)\n",
    "\n",
    "def fit_linear_regression(X, Y, Lambda=0):\n",
    "\n",
    "    # Identity matrix (number of parameters is the dimension)\n",
    "    Identity = np.identity(len(X[1,:]))   \n",
    "    # We don't add penalty to intercept\n",
    "    Identity[0,0] = 0\n",
    "    \n",
    "    return inv(X.transpose().dot(X) + Lambda*Identity).dot(X.transpose()).dot(Y)"
   ]
  },
  {
   "cell_type": "markdown",
   "metadata": {},
   "source": [
    "### Linear"
   ]
  },
  {
   "cell_type": "code",
   "execution_count": 185,
   "metadata": {},
   "outputs": [
    {
     "name": "stdout",
     "output_type": "stream",
     "text": [
      "Cross Validation error: 761.2203548003972\n"
     ]
    }
   ],
   "source": [
    "kf = KFold(n_splits=5, shuffle=True)\n",
    "kf.get_n_splits(X)\n",
    "means=[]\n",
    "\n",
    "for train_index, test_index in kf.split(X):\n",
    "    X_train, X_test = X[train_index], X[test_index]\n",
    "    y_train, y_test = y[train_index], y[test_index]\n",
    "    poly = PolynomialFeatures(1)\n",
    "    X_train = poly.fit_transform(X_train)\n",
    "    X_test = poly.fit_transform(X_test)\n",
    "    beta = fit_linear_regression(X_train, y_train)\n",
    "    mean_err = RMSE(X_test, y_test, beta)\n",
    "    means.append(mean_err)\n",
    "print(\"Cross Validation error:\", np.mean(means))"
   ]
  },
  {
   "cell_type": "markdown",
   "metadata": {},
   "source": [
    "### Polynomial"
   ]
  },
  {
   "cell_type": "code",
   "execution_count": 186,
   "metadata": {},
   "outputs": [
    {
     "name": "stdout",
     "output_type": "stream",
     "text": [
      "RMSE for polynome degree : 1 is: 760.7103852380785\n",
      "RMSE for polynome degree : 2 is: 733.7158194606197\n",
      "RMSE for polynome degree : 3 is: 724.6245731883579\n"
     ]
    }
   ],
   "source": [
    "kf = KFold(n_splits=5, shuffle=True)\n",
    "kf.get_n_splits(X)\n",
    "\n",
    "for d in np.arange(1, 4):    \n",
    "    means_poly = []\n",
    "    for train_index, test_index in kf.split(X):\n",
    "        X_train, X_test = X[train_index], X[test_index]\n",
    "        y_train, y_test = y[train_index], y[test_index]\n",
    "        poly = PolynomialFeatures(d)\n",
    "        X_train_poly = poly.fit_transform(X_train)\n",
    "        X_test_poly = poly.fit_transform(X_test)\n",
    "        beta = fit_linear_regression(X_train_poly, y_train)\n",
    "        mean_err = RMSE(X_test_poly, y_test, beta)\n",
    "        means_poly.append(mean_err)\n",
    "    print(\"RMSE for polynome degree :\", d, \"is:\", np.mean(means_poly))\n"
   ]
  },
  {
   "cell_type": "markdown",
   "metadata": {},
   "source": [
    "### Polynimial with Regularization"
   ]
  },
  {
   "cell_type": "code",
   "execution_count": 187,
   "metadata": {},
   "outputs": [
    {
     "name": "stdout",
     "output_type": "stream",
     "text": [
      "RMSE for polinom degree: 1 and lambda: 0 is :  760.9644972658333\n",
      "RMSE for polinom degree: 2 and lambda: 0 is :  733.3314060363583\n",
      "RMSE for polinom degree: 3 and lambda: 0 is :  723.5689872335281\n"
     ]
    }
   ],
   "source": [
    "kf = KFold(n_splits=5, shuffle=True)\n",
    "kf.get_n_splits(X)\n",
    "\n",
    "for d in range(1, 4):  \n",
    "    for a in np.arange(0, 10, 1):        \n",
    "        mean_tmp = []\n",
    "        for train_index, test_index in kf.split(X):\n",
    "            X_train, X_test = X[train_index], X[test_index]\n",
    "            y_train, y_test = y[train_index], y[test_index]\n",
    "            poly = PolynomialFeatures(d, interaction_only=False)\n",
    "            X_train_poly = poly.fit_transform(X_train)\n",
    "            X_test_poly = poly.fit_transform(X_test)\n",
    "            beta = fit_linear_regression(X_train_poly, y_train, a)\n",
    "            mean_err = RMSE(X_test_poly, y_test, beta)\n",
    "            mean_tmp.append(mean_err)\n",
    "        if np.mean(mean_tmp) < 850:\n",
    "            print(\"RMSE for polinom degree:\", d, \"and lambda:\", a, \"is : \", np.mean(mean_tmp))\n",
    "            \n",
    "\n",
    "        "
   ]
  },
  {
   "cell_type": "code",
   "execution_count": 188,
   "metadata": {},
   "outputs": [
    {
     "name": "stdout",
     "output_type": "stream",
     "text": [
      "RMSE for polinom degree: 3 and lambda: 0.0 is :  723.3492105227438\n",
      "RMSE for polinom degree: 3 and lambda: 0.1 is :  850.5549384018581\n",
      "RMSE for polinom degree: 3 and lambda: 0.2 is :  850.8445093573616\n",
      "RMSE for polinom degree: 3 and lambda: 0.30000000000000004 is :  851.2522658164398\n",
      "RMSE for polinom degree: 3 and lambda: 0.4 is :  851.4211199007207\n",
      "RMSE for polinom degree: 3 and lambda: 0.5 is :  851.5116221183378\n",
      "RMSE for polinom degree: 3 and lambda: 0.6000000000000001 is :  851.2577378853259\n",
      "RMSE for polinom degree: 3 and lambda: 0.7000000000000001 is :  851.5822780444381\n",
      "RMSE for polinom degree: 3 and lambda: 0.8 is :  851.880287469757\n",
      "RMSE for polinom degree: 3 and lambda: 0.9 is :  852.1158065194202\n"
     ]
    }
   ],
   "source": [
    "kf = KFold(n_splits=5, shuffle=True)\n",
    "kf.get_n_splits(X)\n",
    "\n",
    "\n",
    "\n",
    "for a in np.arange(0, 1, 0.1):        \n",
    "        mean_tmp = []\n",
    "        for train_index, test_index in kf.split(X):\n",
    "            X_train, X_test = X[train_index], X[test_index]\n",
    "            y_train, y_test = y[train_index], y[test_index]\n",
    "            poly = PolynomialFeatures(3)\n",
    "            X_train_poly = poly.fit_transform(X_train)\n",
    "            X_test_poly = poly.fit_transform(X_test)\n",
    "            beta = fit_linear_regression(X_train_poly, y_train, a)\n",
    "            mean_err = RMSE(X_test_poly, y_test, beta)\n",
    "            mean_tmp.append(mean_err)\n",
    "        print(\"RMSE for polinom degree:\", 3, \"and lambda:\", a, \"is : \", np.mean(mean_tmp))"
   ]
  },
  {
   "cell_type": "markdown",
   "metadata": {},
   "source": [
    "#### The best model is for polinom degree: 3 and lambda: 1"
   ]
  },
  {
   "cell_type": "markdown",
   "metadata": {},
   "source": [
    "## With Sklearn regression models"
   ]
  },
  {
   "cell_type": "code",
   "execution_count": 189,
   "metadata": {},
   "outputs": [],
   "source": [
    "from sklearn import linear_model\n",
    "from sklearn.model_selection import KFold\n",
    "from sklearn.preprocessing import PolynomialFeatures"
   ]
  },
  {
   "cell_type": "markdown",
   "metadata": {},
   "source": [
    "### Linear"
   ]
  },
  {
   "cell_type": "code",
   "execution_count": 190,
   "metadata": {},
   "outputs": [],
   "source": [
    "# kf = KFold(n_splits=5, shuffle=True)\n",
    "# kf.get_n_splits(X)\n",
    "# means=[]\n",
    "\n",
    "# for train_index, test_index in kf.split(X):\n",
    "#     X_train, X_test = X[train_index], X[test_index]\n",
    "#     y_train, y_test = y[train_index], y[test_index]\n",
    "#     reg = linear_model.LinearRegression()\n",
    "#     reg = reg.fit(X_train, y_train)\n",
    "#     predict = reg.predict(X_test)\n",
    "#     mean_err = np.mean((predict - y_test) ** 2) ** 0.5\n",
    "#     means.append(mean_err)\n",
    "# print(\"Cross Validation error:\", np.mean(means))"
   ]
  },
  {
   "cell_type": "markdown",
   "metadata": {},
   "source": [
    "### Polynomial"
   ]
  },
  {
   "cell_type": "code",
   "execution_count": 191,
   "metadata": {},
   "outputs": [],
   "source": [
    "# kf = KFold(n_splits=5, shuffle=True)\n",
    "# kf.get_n_splits(X)\n",
    "\n",
    "# for d in range(1, 4):    \n",
    "#     means_poly = []\n",
    "#     for train_index, test_index in kf.split(X):\n",
    "#         X_train, X_test = X[train_index], X[test_index]\n",
    "#         y_train, y_test = y[train_index], y[test_index]\n",
    "#         poly = PolynomialFeatures(d)\n",
    "#         X_train_poly = poly.fit_transform(X_train)\n",
    "#         X_test_poly = poly.fit_transform(X_test)\n",
    "#         reg = linear_model.LinearRegression()\n",
    "#         reg = reg.fit(X_train_poly, y_train)\n",
    "#         predict = reg.predict(X_test_poly)\n",
    "#         means_poly.append(np.mean((predict - y_test) ** 2) ** (0.5))\n",
    "#     print(\"RMSE for polynome degree :\", d, \"is:\", np.mean(means_poly))"
   ]
  },
  {
   "cell_type": "markdown",
   "metadata": {},
   "source": [
    "### Polynimial with Regularization"
   ]
  },
  {
   "cell_type": "code",
   "execution_count": 192,
   "metadata": {},
   "outputs": [],
   "source": [
    "# kf = KFold(n_splits=5, shuffle=True)\n",
    "# kf.get_n_splits(X)\n",
    "\n",
    "# for d in range(1, 4):  \n",
    "#     for a in range(0, 5, 1):\n",
    "        \n",
    "#         mean_tmp = 0\n",
    "#         for train_index, test_index in kf.split(X):\n",
    "#             X_train, X_test = X[train_index], X[test_index]\n",
    "#             y_train, y_test = y[train_index], y[test_index]\n",
    "#             poly = PolynomialFeatures(d)\n",
    "#             X_train_poly = poly.fit_transform(X_train)\n",
    "#             X_test_poly = poly.fit_transform(X_test)\n",
    "#             reg = linear_model.Ridge(alpha = a)\n",
    "#             reg = reg.fit(X_train_poly, y_train)\n",
    "#             predict = reg.predict(X_test_poly)\n",
    "#             mean_tmp+= np.mean((predict - y_test) ** 2) ** (0.5)\n",
    "#         print(\"RMSE for polinom degree:\", d, \"and lambda:\", a, \"is : \", mean_tmp/5 )\n",
    "        "
   ]
  },
  {
   "cell_type": "markdown",
   "metadata": {},
   "source": [
    "### Prediction for real test set "
   ]
  },
  {
   "cell_type": "code",
   "execution_count": 193,
   "metadata": {},
   "outputs": [
    {
     "name": "stdout",
     "output_type": "stream",
     "text": [
      "(2994, 2)\n",
      "(2994,)\n"
     ]
    }
   ],
   "source": [
    "print(X_t.shape)\n",
    "print(usernames.shape)"
   ]
  },
  {
   "cell_type": "code",
   "execution_count": 194,
   "metadata": {},
   "outputs": [
    {
     "name": "stdout",
     "output_type": "stream",
     "text": [
      "(10,)\n",
      "(6644, 10)\n",
      "(2994,)\n"
     ]
    }
   ],
   "source": [
    "poly = PolynomialFeatures(3, interaction_only=False)\n",
    "X_poly = poly.fit_transform(X)\n",
    "X_t_poly = poly.fit_transform(X_t)\n",
    "\n",
    "beta = fit_linear_regression(X_poly, y, 0)\n",
    "print(beta.shape)\n",
    "print(X_poly.shape)\n",
    "predictions = X_t_poly.dot(beta)\n",
    "print(predictions.shape)"
   ]
  },
  {
   "cell_type": "code",
   "execution_count": 195,
   "metadata": {},
   "outputs": [
    {
     "name": "stdout",
     "output_type": "stream",
     "text": [
      "Cookiezi 8289.959837290211\n",
      "17\n",
      "41\n",
      "196\n",
      "283\n",
      "1053\n",
      "1440\n",
      "1737\n",
      "1840\n",
      "1881\n",
      "2086\n",
      "2211\n",
      "2299\n",
      "2423\n",
      "2437\n",
      "2447\n",
      "2458\n",
      "2644\n",
      "2702\n",
      "2714\n",
      "2811\n",
      "2817\n",
      "2863\n",
      "2904\n",
      "2939\n",
      "2950\n",
      "6487.604547928069\n"
     ]
    },
    {
     "data": {
      "text/html": [
       "<div>\n",
       "<style scoped>\n",
       "    .dataframe tbody tr th:only-of-type {\n",
       "        vertical-align: middle;\n",
       "    }\n",
       "\n",
       "    .dataframe tbody tr th {\n",
       "        vertical-align: top;\n",
       "    }\n",
       "\n",
       "    .dataframe thead th {\n",
       "        text-align: right;\n",
       "    }\n",
       "</style>\n",
       "<table border=\"1\" class=\"dataframe\">\n",
       "  <thead>\n",
       "    <tr style=\"text-align: right;\">\n",
       "      <th></th>\n",
       "      <th>0</th>\n",
       "      <th>0</th>\n",
       "    </tr>\n",
       "  </thead>\n",
       "  <tbody>\n",
       "    <tr>\n",
       "      <th>0</th>\n",
       "      <td>Cookiezi</td>\n",
       "      <td>8289.959837</td>\n",
       "    </tr>\n",
       "    <tr>\n",
       "      <th>1</th>\n",
       "      <td>filsdelama</td>\n",
       "      <td>8573.745316</td>\n",
       "    </tr>\n",
       "    <tr>\n",
       "      <th>2</th>\n",
       "      <td>firebat92</td>\n",
       "      <td>8620.322337</td>\n",
       "    </tr>\n",
       "    <tr>\n",
       "      <th>3</th>\n",
       "      <td>idke</td>\n",
       "      <td>8367.549704</td>\n",
       "    </tr>\n",
       "    <tr>\n",
       "      <th>4</th>\n",
       "      <td>Abyssal</td>\n",
       "      <td>7770.649867</td>\n",
       "    </tr>\n",
       "    <tr>\n",
       "      <th>5</th>\n",
       "      <td>hvick225</td>\n",
       "      <td>8656.552276</td>\n",
       "    </tr>\n",
       "    <tr>\n",
       "      <th>6</th>\n",
       "      <td>Freddie Benson</td>\n",
       "      <td>7070.253909</td>\n",
       "    </tr>\n",
       "    <tr>\n",
       "      <th>7</th>\n",
       "      <td>Dumii</td>\n",
       "      <td>8472.048714</td>\n",
       "    </tr>\n",
       "    <tr>\n",
       "      <th>8</th>\n",
       "      <td>fieryrage</td>\n",
       "      <td>8517.574735</td>\n",
       "    </tr>\n",
       "    <tr>\n",
       "      <th>9</th>\n",
       "      <td>Piggey</td>\n",
       "      <td>8640.981485</td>\n",
       "    </tr>\n",
       "    <tr>\n",
       "      <th>10</th>\n",
       "      <td>DanyL</td>\n",
       "      <td>7683.418223</td>\n",
       "    </tr>\n",
       "    <tr>\n",
       "      <th>11</th>\n",
       "      <td>MoeYandere</td>\n",
       "      <td>8171.723017</td>\n",
       "    </tr>\n",
       "    <tr>\n",
       "      <th>12</th>\n",
       "      <td>Monko2k</td>\n",
       "      <td>8458.100585</td>\n",
       "    </tr>\n",
       "    <tr>\n",
       "      <th>13</th>\n",
       "      <td>Kip</td>\n",
       "      <td>7063.214678</td>\n",
       "    </tr>\n",
       "    <tr>\n",
       "      <th>14</th>\n",
       "      <td>-Hebel-</td>\n",
       "      <td>7956.392226</td>\n",
       "    </tr>\n",
       "    <tr>\n",
       "      <th>15</th>\n",
       "      <td>ThePooN</td>\n",
       "      <td>8528.167410</td>\n",
       "    </tr>\n",
       "    <tr>\n",
       "      <th>16</th>\n",
       "      <td>Arnold24x24</td>\n",
       "      <td>7996.958100</td>\n",
       "    </tr>\n",
       "    <tr>\n",
       "      <th>17</th>\n",
       "      <td>Wilchq</td>\n",
       "      <td>6560.000000</td>\n",
       "    </tr>\n",
       "    <tr>\n",
       "      <th>18</th>\n",
       "      <td>Musty</td>\n",
       "      <td>8512.736717</td>\n",
       "    </tr>\n",
       "    <tr>\n",
       "      <th>19</th>\n",
       "      <td>Adamqs</td>\n",
       "      <td>8408.196302</td>\n",
       "    </tr>\n",
       "  </tbody>\n",
       "</table>\n",
       "</div>"
      ],
      "text/plain": [
       "                 0            0\n",
       "0         Cookiezi  8289.959837\n",
       "1       filsdelama  8573.745316\n",
       "2        firebat92  8620.322337\n",
       "3             idke  8367.549704\n",
       "4          Abyssal  7770.649867\n",
       "5         hvick225  8656.552276\n",
       "6   Freddie Benson  7070.253909\n",
       "7            Dumii  8472.048714\n",
       "8        fieryrage  8517.574735\n",
       "9           Piggey  8640.981485\n",
       "10           DanyL  7683.418223\n",
       "11      MoeYandere  8171.723017\n",
       "12         Monko2k  8458.100585\n",
       "13             Kip  7063.214678\n",
       "14         -Hebel-  7956.392226\n",
       "15         ThePooN  8528.167410\n",
       "16     Arnold24x24  7996.958100\n",
       "17          Wilchq  6560.000000\n",
       "18           Musty  8512.736717\n",
       "19          Adamqs  8408.196302"
      ]
     },
     "execution_count": 195,
     "metadata": {},
     "output_type": "execute_result"
    }
   ],
   "source": [
    "import json\n",
    "print(usernames[0], predictions[0])\n",
    "\n",
    "for i in range(len(predictions)):\n",
    "    if predictions[i] < 0:\n",
    "        print(i)\n",
    "        predictions[i] = 6560\n",
    "        \n",
    "my_dict = dict(zip(usernames, predictions))\n",
    "print(np.mean(predictions))\n",
    "json.dump(my_dict, open(\"tigran_vardanyan.json\", \"w\"))\n",
    "\n",
    "result_df = pd.concat([pd.DataFrame(list(usernames)), pd.DataFrame(list(predictions))], axis=1)\n",
    "result_df.to_csv(\"Tigran_Vardanyan_predictions.csv\")\n",
    "result_df.head(20)"
   ]
  },
  {
   "cell_type": "code",
   "execution_count": null,
   "metadata": {},
   "outputs": [],
   "source": []
  },
  {
   "cell_type": "code",
   "execution_count": null,
   "metadata": {},
   "outputs": [],
   "source": []
  },
  {
   "cell_type": "code",
   "execution_count": null,
   "metadata": {},
   "outputs": [],
   "source": []
  },
  {
   "cell_type": "code",
   "execution_count": null,
   "metadata": {},
   "outputs": [],
   "source": []
  }
 ],
 "metadata": {
  "kernelspec": {
   "display_name": "Python 3",
   "language": "python",
   "name": "python3"
  },
  "language_info": {
   "codemirror_mode": {
    "name": "ipython",
    "version": 3
   },
   "file_extension": ".py",
   "mimetype": "text/x-python",
   "name": "python",
   "nbconvert_exporter": "python",
   "pygments_lexer": "ipython3",
   "version": "3.6.4"
  }
 },
 "nbformat": 4,
 "nbformat_minor": 2
}
