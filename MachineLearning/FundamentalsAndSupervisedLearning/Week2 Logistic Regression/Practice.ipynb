{
 "cells": [
  {
   "cell_type": "code",
   "execution_count": 67,
   "metadata": {},
   "outputs": [],
   "source": [
    "import numpy as np\n",
    "import matplotlib.pyplot as plt\n",
    "from sklearn.model_selection import train_test_split\n",
    "%matplotlib notebook"
   ]
  },
  {
   "cell_type": "code",
   "execution_count": 85,
   "metadata": {},
   "outputs": [
    {
     "name": "stdout",
     "output_type": "stream",
     "text": [
      "[0 1 1 ... 0 1 0]\n"
     ]
    }
   ],
   "source": [
    "data = np.load(\"train_data.npy\")\n",
    "labels = np.load(\"train_labels.npy\")\n",
    "test_data = np.load(\"test_data.npy\")\n",
    "labels = labels.astype(int)\n",
    "\n",
    "print(labels)"
   ]
  },
  {
   "cell_type": "code",
   "execution_count": 69,
   "metadata": {},
   "outputs": [
    {
     "name": "stdout",
     "output_type": "stream",
     "text": [
      "4665\n",
      "28\n",
      "28\n"
     ]
    }
   ],
   "source": [
    "test_count, test_width, test_height =  test_data.shape\n",
    "print(test_count)\n",
    "print(test_width)\n",
    "print(test_height)"
   ]
  },
  {
   "cell_type": "code",
   "execution_count": 70,
   "metadata": {},
   "outputs": [
    {
     "data": {
      "text/plain": [
       "(4665, 784)"
      ]
     },
     "execution_count": 70,
     "metadata": {},
     "output_type": "execute_result"
    }
   ],
   "source": [
    "test_data = test_data.flatten().reshape(test_count, test_width * test_height)\n",
    "test_data.shape"
   ]
  },
  {
   "cell_type": "code",
   "execution_count": 71,
   "metadata": {},
   "outputs": [
    {
     "name": "stdout",
     "output_type": "stream",
     "text": [
      "255\n"
     ]
    }
   ],
   "source": [
    "print(test_data.max())\n",
    "test_data = test_data/test_data.max()"
   ]
  },
  {
   "cell_type": "code",
   "execution_count": 74,
   "metadata": {},
   "outputs": [],
   "source": [
    "data_count, width, height =  data.shape\n",
    "train_data = data.flatten().reshape(data_count, width * height)\n",
    "train_data = train_data / train_data.max()\n",
    "labels[labels == 0] = -1"
   ]
  },
  {
   "cell_type": "code",
   "execution_count": 75,
   "metadata": {},
   "outputs": [],
   "source": [
    "x_train, x_test, y_train, y_test = train_test_split(train_data, labels, test_size=0.25, random_state=0)\n"
   ]
  },
  {
   "cell_type": "code",
   "execution_count": 76,
   "metadata": {},
   "outputs": [],
   "source": [
    "def sigmoid(x, b):\n",
    "    \"\"\"\n",
    "    :param x: 1D-array, features vector for one sample\n",
    "    :param b: 1D-array, betas of the model\n",
    "    :return: sigmoid (logistic) of (x, b)\n",
    "    \"\"\"\n",
    "    return 1 / (1 + np.exp(-x.dot(b)))\n",
    "\n",
    "def grad(y, x, b):\n",
    "    \"\"\"\n",
    "    Gradient of log-loss for one sample\n",
    "    :param y: label of the sample (1 or -1)\n",
    "    :param x: 1D-array, features vector for the sample\n",
    "    :param b: 1D-array, betas of the model\n",
    "    \"\"\"\n",
    "    return y*x*(np.exp(-y * x.dot(b))/(1 + np.exp(-y * x.dot(b))))\n",
    "\n",
    "def loss(X, Y, b):\n",
    "        h = sigmoid(X, b)\n",
    "        return (-Y * np.log(h) - (1 - Y) * np.log(1 - h)).mean()\n",
    "    \n",
    "def train(Y, X, steps=10, lr=0.00001):\n",
    "    \"\"\"\n",
    "    Get optimal betas\n",
    "    :param Y: 1D-array, labels of all data like [1,1,-1,1,-1,-1,1,...]\n",
    "    :param X: 2D-array of shape (features number, samples number), i.e. vector of all feature vectors\n",
    "    :return: 1D-array of size of features number, bettas\n",
    "    \"\"\"\n",
    "    b = np.zeros(X.shape[1])\n",
    "    for s in range(steps):\n",
    "        for i in range(len(X)):\n",
    "            x = X[i]\n",
    "            y = Y[i]\n",
    "            gradient = grad(y, x, b)\n",
    "            b += lr * gradient\n",
    "        if s%10 == 1:\n",
    "            print(\"step: {}, loss: {}\".format(s, loss(X, Y, b)))\n",
    "    return b"
   ]
  },
  {
   "cell_type": "code",
   "execution_count": 77,
   "metadata": {},
   "outputs": [
    {
     "name": "stdout",
     "output_type": "stream",
     "text": [
      "step: 1, loss: 0.03939119392230121\n",
      "step: 11, loss: -0.9061153688849363\n",
      "step: 21, loss: -1.2611732969884761\n",
      "step: 31, loss: -1.4845819116225014\n",
      "step: 41, loss: -1.648355964398791\n",
      "step: 51, loss: -1.777877985513204\n",
      "step: 61, loss: -1.885096886591323\n",
      "step: 71, loss: -1.9766068783622435\n",
      "step: 81, loss: -2.05643898498929\n",
      "step: 91, loss: -2.1272407337685344\n"
     ]
    }
   ],
   "source": [
    "betas = train(y_train, x_train, steps=100)"
   ]
  },
  {
   "cell_type": "code",
   "execution_count": 80,
   "metadata": {},
   "outputs": [],
   "source": [
    "predictions  = sigmoid(x_test, betas)"
   ]
  },
  {
   "cell_type": "code",
   "execution_count": 82,
   "metadata": {},
   "outputs": [],
   "source": [
    "predictions[predictions >= 0.5] = 1\n",
    "predictions[predictions < 0.5] = -1"
   ]
  },
  {
   "cell_type": "code",
   "execution_count": 83,
   "metadata": {},
   "outputs": [
    {
     "data": {
      "text/plain": [
       "99.85000000000001"
      ]
     },
     "execution_count": 83,
     "metadata": {},
     "output_type": "execute_result"
    }
   ],
   "source": [
    "(predictions == y_test).mean() * 100"
   ]
  },
  {
   "cell_type": "code",
   "execution_count": null,
   "metadata": {},
   "outputs": [],
   "source": []
  },
  {
   "cell_type": "code",
   "execution_count": null,
   "metadata": {},
   "outputs": [],
   "source": []
  },
  {
   "cell_type": "code",
   "execution_count": 84,
   "metadata": {},
   "outputs": [
    {
     "name": "stdout",
     "output_type": "stream",
     "text": [
      "Accuracy from scratch: 0.9985\n",
      "Accuracy from sk-learn: 0.998\n"
     ]
    }
   ],
   "source": [
    "from sklearn.linear_model import LogisticRegression\n",
    "lr = LogisticRegression()\n",
    "lr.fit(x_train, y_train)\n",
    "\n",
    "print ('Accuracy from scratch: {0}'.format((predictions == y_test).sum().astype(float) / len(predictions)))\n",
    "print ('Accuracy from sk-learn: {0}'.format(lr.score(x_test, y_test)))\n",
    "pred = lr.predict(test_data)\n",
    "pred[pred == -1] = 0\n"
   ]
  },
  {
   "cell_type": "code",
   "execution_count": null,
   "metadata": {},
   "outputs": [],
   "source": []
  }
 ],
 "metadata": {
  "kernelspec": {
   "display_name": "Python 3",
   "language": "python",
   "name": "python3"
  },
  "language_info": {
   "codemirror_mode": {
    "name": "ipython",
    "version": 3
   },
   "file_extension": ".py",
   "mimetype": "text/x-python",
   "name": "python",
   "nbconvert_exporter": "python",
   "pygments_lexer": "ipython3",
   "version": "3.6.4"
  }
 },
 "nbformat": 4,
 "nbformat_minor": 2
}
