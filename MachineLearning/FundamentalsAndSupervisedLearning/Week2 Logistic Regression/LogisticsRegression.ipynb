{
 "cells": [
  {
   "cell_type": "markdown",
   "metadata": {},
   "source": [
    "## Notation"
   ]
  },
  {
   "cell_type": "markdown",
   "metadata": {},
   "source": [
    "The problem structure is the classic classification problem. Our data set $\\mathcal{D}$ is composed of $N$ samples. Each sample is a tuple containing a feature vector and a label. For any sample $n$ the feature vector is a $d+1$ dimensional column vector denoted by ${\\bf x}_n$ with $d$ real-valued components known as features. Samples are represented in homogeneous form with the first component equal to $1$: $x_0=1$. Vectors are bold-faced. The associated label is denoted $y_n$ and can take on only two values: $+1$ or $-1$.\n",
    "\n",
    "$$\n",
    "\\mathcal{D} = \\lbrace ({\\bf x}_1, y_1), ({\\bf x}_2, y_2), ..., ({\\bf x}_N, y_N) \\rbrace \\\\\n",
    "{\\bf x}_n = \\begin{bmatrix} 1 & x_1 & ... & x_d \\end{bmatrix}^T \n",
    "$$"
   ]
  },
  {
   "cell_type": "markdown",
   "metadata": {},
   "source": [
    "# Derivation"
   ]
  },
  {
   "cell_type": "markdown",
   "metadata": {},
   "source": [
    "Despite the name logistic *regression* this is actually a probabilistic classification model. It is also a linear model which can be subjected to nonlinear transforms."
   ]
  },
  {
   "cell_type": "markdown",
   "metadata": {},
   "source": [
    "All linear models make use of a \"signal\" $s$ which is a linear combination of the input vector ${\\bf x}$ components weighed by the corresponding components in a weight vector ${\\bf w}$.\n",
    "\n",
    "$$\n",
    "{\\bf w} = \\begin{bmatrix} w_0 & w_1 & ... & w_d \\end{bmatrix}^T \\\\\n",
    "s = w_0 + w_1 x_1 + \\;...\\; + w_d x_d = \\sum_{i=0}^d w_i x_i = {\\bf w} \\cdot {\\bf x} = {\\bf w}^T {\\bf x}\n",
    "$$\n",
    "\n",
    "Note that the homogeneous representation (with the $1$ at the first component) allows us to include a constant offset using a more compact vector-only notation (instead of ${\\bf w}^T {\\bf x}+b$)."
   ]
  },
  {
   "cell_type": "markdown",
   "metadata": {},
   "source": [
    "The [logistic function](http://en.wikipedia.org/wiki/Logistic_function) is\n",
    "\n",
    "$$\n",
    "sigmoid(s) = \\theta(s) = \\frac{e^s}{1+e^s} = \\frac{1}{1+e^{-s}}\n",
    "$$\n",
    "\n",
    "There are many other formulas that can achieve a soft threshold such as the hyperbolic tangent, but this function results in some nice simplification."
   ]
  },
  {
   "cell_type": "markdown",
   "metadata": {},
   "source": [
    "To determine the likelihood we assume the data was generated with our hypothesis $h$:\n",
    "\n",
    "$$\n",
    "P(y\\mid{\\bf x})=\\begin{cases}\n",
    "h({\\bf x}) & \\text{for }y=+1 \\\\\n",
    "1-h({\\bf x}) & \\text{for }y=-1\n",
    "\\end{cases} \\\\\n",
    "$$\n",
    "\n",
    "where $h({\\bf x})=\\theta({\\bf w}^T {\\bf x})$."
   ]
  },
  {
   "cell_type": "markdown",
   "metadata": {},
   "source": [
    "We don't want to deal with cases so we take advantage of a nice property of the logistic function: $\\theta(-s)=1-\\theta(s)$.\n",
    "\n",
    "$$\n",
    "\\text{if } y = +1 \\text{ then } h({\\bf x}) = \\theta({\\bf w}^T {\\bf x}) = \\theta(y \\; {\\bf w}^T {\\bf x}) \\\\\n",
    "\\text{if } y = -1 \\text{ then } 1 - h({\\bf x}) = 1 - \\theta({\\bf w}^T {\\bf x}) = \\theta(- {\\bf w}^T {\\bf x}) = \\theta(y \\; {\\bf w}^T {\\bf x}) \\\\\n",
    "$$"
   ]
  },
  {
   "cell_type": "markdown",
   "metadata": {},
   "source": [
    "Using this simplification,\n",
    "\n",
    "$$\n",
    "P(y\\mid{\\bf x})=\\theta(y\\; {\\bf w}^T {\\bf x})\n",
    "$$"
   ]
  },
  {
   "cell_type": "markdown",
   "metadata": {},
   "source": [
    "The likelihood is defined for a data set $\\mathcal{D}$ with $N$ samples given a hypothesis (denoted arbitrarily $g$ here):\n",
    "\n",
    "$$\n",
    "L(\\mathcal{D} \\mid g) =\n",
    "\\prod_{n=1}^{N} P(y_n \\mid {\\bf x}_n) =\n",
    "\\prod_{n=1}^{N} \\theta(y_n \\; {\\bf w}_g^T {\\bf x}_n)\n",
    "$$"
   ]
  },
  {
   "cell_type": "markdown",
   "metadata": {},
   "source": [
    "Now finding a good hypothesis is a matter of finding a hypothesis parameterization ${\\bf w}$ that maximizes the likelihood.\n",
    "\n",
    "$$\n",
    "{\\bf w}_h =\n",
    "\\underset{{\\bf w}}{\\operatorname{argmax}} \\; L(\\mathcal{D} \\mid h) = \n",
    "\\underset{{\\bf w}}{\\operatorname{argmax}} \\; \\theta(y_n \\; {\\bf w}^T {\\bf x}_n)\n",
    "$$"
   ]
  },
  {
   "cell_type": "markdown",
   "metadata": {},
   "source": [
    "Maximizing the likelihood is equivalent to maximizing the log of the function since the natural logarithm is a monotonically increasing function:\n",
    "\n",
    "$$\n",
    "\\underset{{\\bf w}}{\\operatorname{argmax}} \\; \\ln \\left( \\prod_{n=1}^{N} \\theta(y_n \\; {\\bf w}^T {\\bf x}_n) \\right)\n",
    "$$"
   ]
  },
  {
   "cell_type": "markdown",
   "metadata": {},
   "source": [
    "We can maximize the above proportional to a constant as well so we'll tack on a $\\frac{1}{N}$:\n",
    "\n",
    "$$\n",
    "\\underset{{\\bf w}}{\\operatorname{argmax}} \\; \\frac{1}{N} \\ln \\left( \\prod_{n=1}^{N} \\theta(y_n \\; {\\bf w}^T {\\bf x}_n) \\right)\n",
    "$$"
   ]
  },
  {
   "cell_type": "markdown",
   "metadata": {},
   "source": [
    "Now maximizing that is the same as minimizing its negative:\n",
    "\n",
    "$$\n",
    "\\underset{{\\bf w}}{\\operatorname{argmin}} \\left[ -\\frac{1}{N} \\ln \\left( \\prod_{n=1}^{N} \\theta(y_n \\; {\\bf w}^T {\\bf x}_n) \\right) \\right]\n",
    "$$"
   ]
  },
  {
   "cell_type": "markdown",
   "metadata": {},
   "source": [
    "If we move the negative into the log and the log into the product we turn the product into a sum of logs:\n",
    "\n",
    "$$\n",
    "\\underset{{\\bf w}}{\\operatorname{argmin}} \\;\\frac{1}{N} \\sum_{n=1}^{N} \\ln \\left( \\frac{1}{\\theta(y_n \\; {\\bf w}^T {\\bf x}_n)} \\right)\n",
    "$$"
   ]
  },
  {
   "cell_type": "markdown",
   "metadata": {},
   "source": [
    "Expanding the logistic function,\n",
    "\n",
    "$$\n",
    "\\underset{{\\bf w}}{\\operatorname{argmin}} \\;\\frac{1}{N} \\sum_{n=1}^{N} \\ln \\left( 1 + e^{y_n \\; {\\bf w}^T {\\bf x}_n} \\right)\n",
    "$$"
   ]
  },
  {
   "cell_type": "markdown",
   "metadata": {},
   "source": [
    "Now we have a much nicer form for the error measure known as the \"cross-entropy\" error.\n",
    "\n",
    "$$\n",
    "E_\\text{in}({\\bf w}) = \\frac{1}{N} \\sum_{n=1}^{N} \\ln \\left( 1+e^{-y_n \\; {\\bf w}^T {\\bf x}_n} \\right)\n",
    "$$"
   ]
  },
  {
   "cell_type": "markdown",
   "metadata": {},
   "source": [
    "This is nice because it can be interpreted as the average point error where the point error function is\n",
    "\n",
    "$$\n",
    "e(h({\\bf x}_n), y_n) = \\ln \\left( 1+e^{-y_n \\; {\\bf w}^T {\\bf x}_n} \\right) \\\\\n",
    "E_\\text{in}({\\bf w}) = \\frac{1}{N} \\sum_{n=1}^{N} e(h({\\bf x}_n), y_n)\n",
    "$$"
   ]
  },
  {
   "cell_type": "markdown",
   "metadata": {},
   "source": [
    "So to learn a hypothesis we'll want to perform the following optimization:\n",
    "\n",
    "$$\n",
    "{\\bf w}_h =\n",
    "\\underset{{\\bf w}}{\\operatorname{argmin}} \\; E_\\text{in}({\\bf w}) =\n",
    "\\underset{{\\bf w}}{\\operatorname{argmin}} \\;\\frac{1}{N} \\sum_{n=1}^{N} \\ln \\left( 1 + e^{y_n \\; {\\bf w}^T {\\bf x}_n} \\right)\n",
    "$$"
   ]
  },
  {
   "cell_type": "markdown",
   "metadata": {},
   "source": [
    "## Learning Algorithm"
   ]
  },
  {
   "cell_type": "markdown",
   "metadata": {},
   "source": [
    "The learning algorithm is how we search the set of possible hypotheses (hypothesis space $\\mathcal{H}$) for the best parameterization (in this case the weight vector ${\\bf w}$). This search is an optimization problem looking for the hypothesis that optimizes an error measure."
   ]
  },
  {
   "cell_type": "markdown",
   "metadata": {},
   "source": [
    "There is no nice, closed-form solution like with [least-squares linear regression](http://en.wikipedia.org/wiki/Moore%E2%80%93Penrose_pseudoinverse) so we will use [gradient descent](http://en.wikipedia.org/wiki/Gradient_descent) instead. Specifically we will use batch gradient descent which calculates the gradient from all data points in the data set."
   ]
  },
  {
   "cell_type": "markdown",
   "metadata": {},
   "source": [
    "Luckily, our \"cross-entropy\" error measure is [convex](http://en.wikipedia.org/wiki/Convex_optimization) so there is only one minimum. Thus the minimum we arrive at is the global minimum."
   ]
  },
  {
   "cell_type": "markdown",
   "metadata": {},
   "source": [
    "Gradient descent is a general method and requires twice differentiability for [smoothness](http://en.wikipedia.org/wiki/Smooth_function). It updates the parameters using a first-order approximation of the error surface.\n",
    "\n",
    "$$\n",
    "{\\bf w}_{i+1} = {\\bf w}_i + \\nabla E_\\text{in}({\\bf w}_i)\n",
    "$$"
   ]
  },
  {
   "cell_type": "markdown",
   "metadata": {},
   "source": [
    "To learn we're going to minimize the following error measure using batch gradient descent.\n",
    "\n",
    "$$\n",
    "e(h({\\bf x}_n), y_n) = \\ln \\left( 1+e^{-y_n \\; {\\bf w}^T {\\bf x}_n} \\right) \\\\\n",
    "E_\\text{in}({\\bf w}) = \\frac{1}{N} \\sum_{n=1}^{N} e(h({\\bf x}_n), y_n) = \\frac{1}{N} \\sum_{n=1}^{N} \\ln \\left( 1+e^{-y_n \\; {\\bf w}^T {\\bf x}_n} \\right)\n",
    "$$"
   ]
  },
  {
   "cell_type": "markdown",
   "metadata": {},
   "source": [
    "We'll need to the derivative of the point loss function and possibly some abuse of notation.\n",
    "\n",
    "$$\n",
    "\\frac{d}{d{\\bf w}} e(h({\\bf x}_n), y_n)\n",
    "= \\frac{-y_n \\; {\\bf x}_n \\; e^{-y_n {\\bf w}^T {\\bf x}_n}}{1 + e^{-y_n {\\bf w}^T {\\bf x}_n}}\n",
    "= -\\frac{y_n \\; {\\bf x}_n}{1 + e^{y_n {\\bf w}^T {\\bf x}_n}}\n",
    "$$"
   ]
  },
  {
   "cell_type": "markdown",
   "metadata": {},
   "source": [
    "With the point loss derivative we can determine the gradient of the in-sample error:\n",
    "\n",
    "$$\n",
    "\\begin{align}\n",
    "\\nabla E_\\text{in}({\\bf w})\n",
    "&= \\frac{d}{d{\\bf w}} \\left[ \\frac{1}{N} \\sum_{n=1}^N e(h({\\bf x}_n), y_n) \\right] \\\\\n",
    "&= \\frac{1}{N} \\sum_{n=1}^N \\frac{d}{d{\\bf w}} e(h({\\bf x}_n), y_n) \\\\\n",
    "&= \\frac{1}{N} \\sum_{n=1}^N \\left( - \\frac{y_n \\; {\\bf x}_n}{1 + e^{y_n {\\bf w}^T {\\bf x}_n}} \\right) \\\\\n",
    "&= - \\frac{1}{N} \\sum_{n=1}^N \\frac{y_n \\; {\\bf x}_n}{1 + e^{y_n {\\bf w}^T {\\bf x}_n}} \\\\\n",
    "\\end{align}\n",
    "$$"
   ]
  },
  {
   "cell_type": "markdown",
   "metadata": {},
   "source": [
    "Our weight update rule per batch gradient descent becomes\n",
    "\n",
    "$$\n",
    "\\begin{align}\n",
    "{\\bf w}_{i+1} &= {\\bf w}_i - \\eta \\; \\nabla E_\\text{in}({\\bf w}_i) \\\\\n",
    "&= {\\bf w}_i - \\eta \\; \\left( - \\frac{1}{N} \\sum_{n=1}^N \\frac{y_n \\; {\\bf x}_n}{1 + e^{y_n {\\bf w}_i^T {\\bf x}_n}} \\right) \\\\\n",
    "&= {\\bf w}_i + \\eta \\; \\left( \\frac{1}{N} \\sum_{n=1}^N \\frac{y_n \\; {\\bf x}_n}{1 + e^{y_n {\\bf w}_i^T {\\bf x}_n}} \\right) \\\\\n",
    "\\end{align}\n",
    "$$\n",
    "\n",
    "where $\\eta$ is our learning rate."
   ]
  }
 ],
 "metadata": {
  "anaconda-cloud": {},
  "kernelspec": {
   "display_name": "Python [default]",
   "language": "python",
   "name": "python3"
  },
  "language_info": {
   "codemirror_mode": {
    "name": "ipython",
    "version": 3
   },
   "file_extension": ".py",
   "mimetype": "text/x-python",
   "name": "python",
   "nbconvert_exporter": "python",
   "pygments_lexer": "ipython3",
   "version": "3.5.2"
  }
 },
 "nbformat": 4,
 "nbformat_minor": 2
}
