{
 "cells": [
  {
   "cell_type": "markdown",
   "metadata": {},
   "source": [
    "# Fundamentals of Learning\n"
   ]
  },
  {
   "cell_type": "markdown",
   "metadata": {},
   "source": [
    "## Supervised methods"
   ]
  },
  {
   "cell_type": "raw",
   "metadata": {},
   "source": [
    "Regression\n",
    "Classification\n",
    "Ranking, Density Estimation"
   ]
  },
  {
   "cell_type": "markdown",
   "metadata": {},
   "source": [
    "## Unsupervised methods"
   ]
  },
  {
   "cell_type": "raw",
   "metadata": {},
   "source": [
    "Clustering\n",
    "Dimensionality Reduction\n",
    "Density Estimation"
   ]
  },
  {
   "cell_type": "markdown",
   "metadata": {},
   "source": [
    "## Training and Testing for supervised learning"
   ]
  },
  {
   "cell_type": "raw",
   "metadata": {},
   "source": [
    "in-sample and out-of-sample\n",
    "train set, test set, validation set\n",
    "model, parameters\n",
    "loss function, test error\n",
    "overfitting, underfitting, model complexity"
   ]
  },
  {
   "cell_type": "markdown",
   "metadata": {},
   "source": [
    "![title](image1.png)"
   ]
  },
  {
   "cell_type": "markdown",
   "metadata": {},
   "source": [
    "# Linear Regression"
   ]
  },
  {
   "cell_type": "markdown",
   "metadata": {},
   "source": [
    "## simple form"
   ]
  },
  {
   "cell_type": "markdown",
   "metadata": {},
   "source": [
    "\\begin{align}\n",
    "y = a + b x \n",
    "\\end{align}\n",
    "\n",
    "\\begin{align}\n",
    "Loss = \\sum (y - a - b x)^ 2\n",
    "\\end{align}"
   ]
  },
  {
   "cell_type": "markdown",
   "metadata": {},
   "source": [
    "## matrix form"
   ]
  },
  {
   "cell_type": "markdown",
   "metadata": {},
   "source": [
    "\\begin{align}\n",
    "Y  = X \\beta + e\n",
    "\\end{align}\n"
   ]
  },
  {
   "cell_type": "markdown",
   "metadata": {},
   "source": [
    "![title](image2.png)"
   ]
  },
  {
   "cell_type": "markdown",
   "metadata": {},
   "source": [
    "\\begin{align}\n",
    "Loss  = (Y - X \\beta) ^ 2\n",
    "\\end{align}\n"
   ]
  },
  {
   "cell_type": "markdown",
   "metadata": {},
   "source": [
    "### solution of matrix form"
   ]
  },
  {
   "cell_type": "markdown",
   "metadata": {},
   "source": [
    "\\begin{align}\n",
    "\\beta = (X^T X) ^{-1} X^T Y\n",
    "\\end{align}"
   ]
  },
  {
   "cell_type": "markdown",
   "metadata": {},
   "source": [
    "# Homework"
   ]
  },
  {
   "cell_type": "code",
   "execution_count": 129,
   "metadata": {},
   "outputs": [],
   "source": [
    "import matplotlib.pyplot as plt\n",
    "import random\n",
    "import numpy as np\n",
    "from numpy.linalg import inv"
   ]
  },
  {
   "cell_type": "code",
   "execution_count": 332,
   "metadata": {},
   "outputs": [],
   "source": [
    "def fit_linear_regression(X, Y):\n",
    "    \"\"\"\n",
    "    :param X: A numpy matrix, where each row is a data element (X)\n",
    "    :param Y: A list of responses for each of the rows (y)\n",
    "    :return: An array of parameters\n",
    "    \"\"\" \n",
    "    X = np.hstack((np.ones((len(Y), 1)), X))\n",
    "    return inv(X.transpose().dot(X)).dot(X.transpose()).dot(Y)\n",
    "\n",
    "\n",
    "def fit_polynomial_regression(data_list, response_list, degree=2):\n",
    "    \"\"\"\n",
    "    :param data_list: An array_like with data elements\n",
    "    :param response_list: A list of responses for each of the rows (y)\n",
    "    :param degree: degree of polynomial to use\n",
    "    :return: An array of parameters\n",
    "    \"\"\"\n",
    "    X_poly = np.hstack((np.ones((len(response_list), 1)), X, np.power(data_list, 2)))\n",
    "    #X_poly = np.concatenate((X, np.power(data_list[:, 1:], 2)), axis=1)        \n",
    "    return inv(X_poly.transpose().dot(X_poly)).dot(X_poly.transpose()).dot(response_list), X_poly\n",
    "\n",
    "\n",
    "def mean_square_loss(X, Y, b):\n",
    "    \"\"\"\n",
    "    :param X: A numpy matrix, where each row is a data element (X)\n",
    "    :param Y: A list of responses for each of the rows (y)\n",
    "    :param b: An array of parameters\n",
    "    :return: mean square loss is square loss per data point\n",
    "    \"\"\"\n",
    "    X = np.hstack((np.ones((len(Y), 1)), X))\n",
    "    return np.sum((X.dot(b) - Y)**2)/(2*len(Y))\n",
    "\n",
    "\n",
    "def plot_test_err_vs_train_err(train_X, train_Y, test_X, test_Y):\n",
    "    \"\"\"\n",
    "    :param train_X: A numpy matrix, where each row is a data element\n",
    "    :param train_Y: A list of responses for each of the rows\n",
    "    :param test_X: test set for data matrix\n",
    "    :param test_Y: test set of responses for each of the rows from test_X\n",
    "    should plot mean suqare loss on train and test sets versus polynomial degree\n",
    "    \"\"\"\n",
    "    pass\n",
    "\n",
    "\n",
    "def generate_data(num_features, noise):\n",
    "\n",
    "    from sklearn.datasets import make_regression\n",
    "    # generate regression dataset\n",
    "    x, y = make_regression(n_samples=100, n_features=num_features, noise=noise,  bias=8.)\n",
    "    #x[:, 0] = 1\n",
    "    return np.array(x), np.array(y)\n",
    "    "
   ]
  },
  {
   "cell_type": "code",
   "execution_count": 333,
   "metadata": {},
   "outputs": [],
   "source": [
    "X, Y = generate_data(2, 0.1)"
   ]
  },
  {
   "cell_type": "code",
   "execution_count": 334,
   "metadata": {},
   "outputs": [
    {
     "data": {
      "text/plain": [
       "array([ 7.98943775, 61.93042421, 45.72644698])"
      ]
     },
     "execution_count": 334,
     "metadata": {},
     "output_type": "execute_result"
    }
   ],
   "source": [
    "beta = fit_linear_regression(X, Y)\n",
    "beta"
   ]
  },
  {
   "cell_type": "code",
   "execution_count": 335,
   "metadata": {},
   "outputs": [
    {
     "name": "stdout",
     "output_type": "stream",
     "text": [
      "[7.98306915e+00 6.19298654e+01 4.57281081e+01 2.50793338e-03\n",
      " 3.35557167e-03]\n",
      "[[ 1.         -0.1178689   0.3560311   0.01389308  0.12675814]]\n"
     ]
    }
   ],
   "source": [
    "beta_poly, X_poly = fit_polynomial_regression(X, Y)\n",
    "print(beta_poly)\n",
    "print(X_poly[:1,])"
   ]
  },
  {
   "cell_type": "code",
   "execution_count": 336,
   "metadata": {},
   "outputs": [
    {
     "data": {
      "text/plain": [
       "0.004497022511044279"
      ]
     },
     "execution_count": 336,
     "metadata": {},
     "output_type": "execute_result"
    }
   ],
   "source": [
    "mean_square_loss(X, Y, beta)"
   ]
  },
  {
   "cell_type": "code",
   "execution_count": 338,
   "metadata": {},
   "outputs": [
    {
     "data": {
      "text/plain": [
       "0.004468517110717893"
      ]
     },
     "execution_count": 338,
     "metadata": {},
     "output_type": "execute_result"
    }
   ],
   "source": [
    "mean_square_loss(X_poly[:, 1:], Y, beta_poly)"
   ]
  },
  {
   "cell_type": "code",
   "execution_count": 343,
   "metadata": {},
   "outputs": [
    {
     "name": "stdout",
     "output_type": "stream",
     "text": [
      "7.989437745604728 [61.93042421 45.72644698]\n",
      "7.983069151845831 [6.19298654e+01 4.57281081e+01 2.50793338e-03 3.35557167e-03]\n"
     ]
    }
   ],
   "source": [
    "from sklearn.linear_model import LinearRegression\n",
    "from sklearn.metrics import mean_squared_error\n",
    "reg = LinearRegression()\n",
    "# Fitting training data\n",
    "reg = reg.fit(X, Y)\n",
    "print(reg.intercept_, reg.coef_)\n",
    "Poly_reg = LinearRegression()\n",
    "# Fitting training data\n",
    "Poly_reg = Poly_reg.fit(X_poly[:, 1:], Y)\n",
    "print(Poly_reg.intercept_, Poly_reg.coef_)\n",
    "\n"
   ]
  },
  {
   "cell_type": "code",
   "execution_count": null,
   "metadata": {},
   "outputs": [],
   "source": []
  },
  {
   "cell_type": "code",
   "execution_count": null,
   "metadata": {},
   "outputs": [],
   "source": []
  }
 ],
 "metadata": {
  "kernelspec": {
   "display_name": "Python 3",
   "language": "python",
   "name": "python3"
  },
  "language_info": {
   "codemirror_mode": {
    "name": "ipython",
    "version": 3
   },
   "file_extension": ".py",
   "mimetype": "text/x-python",
   "name": "python",
   "nbconvert_exporter": "python",
   "pygments_lexer": "ipython3",
   "version": "3.5.5"
  }
 },
 "nbformat": 4,
 "nbformat_minor": 2
}
