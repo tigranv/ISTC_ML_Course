{
 "cells": [
  {
   "cell_type": "code",
   "execution_count": 1,
   "metadata": {},
   "outputs": [
    {
     "name": "stderr",
     "output_type": "stream",
     "text": [
      "C:\\Users\\Tigran PC\\Anaconda3\\lib\\site-packages\\h5py\\__init__.py:36: FutureWarning: Conversion of the second argument of issubdtype from `float` to `np.floating` is deprecated. In future, it will be treated as `np.float64 == np.dtype(float).type`.\n",
      "  from ._conv import register_converters as _register_converters\n"
     ]
    }
   ],
   "source": [
    "import tensorflow as tf\n",
    "import numpy as np\n",
    "import time\n",
    "\n",
    "config = tf.ConfigProto()\n",
    "config.gpu_options.allow_growth = True\n",
    "config.gpu_options.per_process_gpu_memory_fraction = 0.5"
   ]
  },
  {
   "cell_type": "code",
   "execution_count": 2,
   "metadata": {},
   "outputs": [],
   "source": [
    "m, n, k = 10000, 3000, 10000"
   ]
  },
  {
   "cell_type": "markdown",
   "metadata": {},
   "source": [
    "### Numpy"
   ]
  },
  {
   "cell_type": "code",
   "execution_count": null,
   "metadata": {},
   "outputs": [],
   "source": [
    "A = np.random.random((m, n))\n",
    "B = np.random.random((n, k))\n",
    "\n",
    "C = np.zeros((m, k))\n",
    "\n",
    "t0 = time.time()\n",
    "np.dot(A, B, out=C)\n",
    "t1 = time.time()\n",
    "print(\"Operation took %f seconds\" % (t1 - t0))"
   ]
  },
  {
   "cell_type": "markdown",
   "metadata": {},
   "source": [
    "### TensorFlow CPU"
   ]
  },
  {
   "cell_type": "code",
   "execution_count": 4,
   "metadata": {
    "scrolled": true
   },
   "outputs": [
    {
     "name": "stdout",
     "output_type": "stream",
     "text": [
      "Operation took 3.358628 seconds\n"
     ]
    }
   ],
   "source": [
    "with tf.device('/cpu:0'):\n",
    "    A_cpu = tf.Variable(tf.random_uniform((m, n)))\n",
    "    B_cpu = tf.Variable(tf.random_uniform((n, k)))\n",
    "    \n",
    "    with tf.Session() as sess:\n",
    "        sess.run([A_cpu.initializer, B_cpu.initializer])\n",
    "        C_cpu = tf.matmul(A_cpu, B_cpu)\n",
    "\n",
    "        t0 = time.time()\n",
    "        sess.run(C_cpu)\n",
    "        t1 = time.time()\n",
    "        print(\"Operation took %f seconds\" % (t1 - t0))"
   ]
  },
  {
   "cell_type": "markdown",
   "metadata": {},
   "source": [
    "### TensorFlow GPU"
   ]
  },
  {
   "cell_type": "code",
   "execution_count": 5,
   "metadata": {
    "scrolled": true
   },
   "outputs": [
    {
     "name": "stdout",
     "output_type": "stream",
     "text": [
      "Operation took 0.887670 seconds\n"
     ]
    }
   ],
   "source": [
    "with tf.device('/GPU'):\n",
    "    A_gpu = tf.Variable(tf.random_uniform((m, n)))\n",
    "    B_gpu = tf.Variable(tf.random_uniform((n, k)))\n",
    "    \n",
    "    with tf.Session() as sess:\n",
    "        sess.run([A_gpu.initializer, B_gpu.initializer])\n",
    "        C_gpu = tf.matmul(A_gpu, B_gpu)\n",
    "\n",
    "        t0 = time.time()\n",
    "        r = sess.run(C_gpu)\n",
    "        t1 = time.time()\n",
    "        print(\"Operation took %f seconds\" % (t1 - t0))"
   ]
  },
  {
   "cell_type": "code",
   "execution_count": null,
   "metadata": {},
   "outputs": [],
   "source": []
  }
 ],
 "metadata": {
  "kernelspec": {
   "display_name": "Python 3",
   "language": "python",
   "name": "python3"
  },
  "language_info": {
   "codemirror_mode": {
    "name": "ipython",
    "version": 3
   },
   "file_extension": ".py",
   "mimetype": "text/x-python",
   "name": "python",
   "nbconvert_exporter": "python",
   "pygments_lexer": "ipython3",
   "version": "3.6.4"
  }
 },
 "nbformat": 4,
 "nbformat_minor": 2
}
