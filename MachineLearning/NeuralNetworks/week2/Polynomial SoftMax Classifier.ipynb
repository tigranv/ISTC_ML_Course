{
 "cells": [
  {
   "cell_type": "code",
   "execution_count": null,
   "metadata": {},
   "outputs": [],
   "source": [
    "from matplotlib import pyplot as plt\n",
    "import numpy as np\n",
    "import time\n",
    "from IPython.display import clear_output\n",
    "\n",
    "import itertools\n",
    "\n",
    "import tensorflow as tf"
   ]
  },
  {
   "cell_type": "code",
   "execution_count": null,
   "metadata": {},
   "outputs": [],
   "source": [
    "N = 100 # number of points per class\n",
    "D = 2 # dimensionality\n",
    "p = 4 # polynomial degree\n",
    "K = 3 # number of classes\n",
    "X = np.zeros((N*K,D)) # data matrix (each row = single example)\n",
    "y = np.zeros(N*K, dtype='uint8') # class labels\n",
    "for j in range(K):\n",
    "    ix = range(N*j,N*(j+1))\n",
    "    r = np.linspace(0.0,1,N) # radius\n",
    "    t = np.linspace(j*4,(j+1)*4,N) + np.random.randn(N)*0.2 # theta\n",
    "    X[ix] = np.c_[r*np.sin(t), r*np.cos(t)]\n",
    "    y[ix] = j\n",
    "X[:, 0] += 1\n",
    "X[:, 1] += 2\n",
    "# lets visualize the data:\n",
    "plt.figure(figsize=(10,8))\n",
    "plt.scatter(X[:, 0], X[:, 1], c=y, s=40, cmap=plt.cm.Spectral, edgecolors=\"black\")\n",
    "ax = plt.gca()\n",
    "ax.set_aspect(\"equal\")\n",
    "plt.show()"
   ]
  },
  {
   "cell_type": "code",
   "execution_count": null,
   "metadata": {},
   "outputs": [],
   "source": [
    "def featurize(x, p=1):\n",
    "    return np.product(np.power(x, list(x for x in itertools.product(range(p+1), repeat=2) if sum(x) <=p)), axis=-1)"
   ]
  },
  {
   "cell_type": "code",
   "execution_count": null,
   "metadata": {},
   "outputs": [],
   "source": [
    "def plot(h=0.02):\n",
    "    x_min, x_max = X[:, 0].min() - 0.5, X[:, 0].max() + 0.5\n",
    "    y_min, y_max = X[:, 1].min() - 0.5, X[:, 1].max() + 0.5\n",
    "    xx, yy = np.meshgrid(np.arange(x_min, x_max, h),\n",
    "                 np.arange(y_min, y_max, h))\n",
    "    \n",
    "    \n",
    "    Z = sess.run(t_prediction, feed_dict={t_x: \n",
    "        [featurize(x, p) for x in np.column_stack([xx.ravel(), yy.ravel()])]})\n",
    "    Z = Z.reshape(xx.shape)\n",
    "\n",
    "    plt.figure(figsize=(10,8))\n",
    "    plt.contourf(xx, yy, Z, cmap=plt.cm.Spectral, alpha=0.8)\n",
    "    plt.scatter(X[:, 0], X[:, 1], c=y, s=40, cmap=plt.cm.Spectral, edgecolors=\"black\")\n",
    "    plt.xlim(xx.min(), xx.max())\n",
    "    plt.ylim(yy.min(), yy.max())\n",
    "    plt.gca().set_aspect(\"equal\")\n",
    "    plt.show()"
   ]
  },
  {
   "cell_type": "code",
   "execution_count": null,
   "metadata": {},
   "outputs": [],
   "source": [
    "X_big = np.stack([featurize(x, p) for x in X])"
   ]
  },
  {
   "cell_type": "markdown",
   "metadata": {},
   "source": [
    "### Polynomial SoftMax Classifier"
   ]
  },
  {
   "cell_type": "code",
   "execution_count": null,
   "metadata": {},
   "outputs": [],
   "source": [
    "reg = 1e-3 # regularization strength\n",
    "\n",
    "# Encapsulating all ops into scopes, making Tensorboard's Graph\n",
    "# Visualization more convenient\n",
    "with tf.name_scope(\"Model\"):\n",
    "    t_x = tf.placeholder(tf.float32, shape=[None, X_big.shape[1]])\n",
    "    t_y = tf.placeholder(tf.int32, shape=[None])\n",
    "    W = tf.Variable(tf.random_normal([X_big.shape[1], K]))\n",
    "    t_scores = tf.matmul(t_x, W)\n",
    "    t_prediction = tf.argmax(t_scores, axis=-1, output_type=tf.int32)\n",
    "\n",
    "with tf.name_scope(\"Loss\"):\n",
    "    t_loss_entropy = tf.nn.sparse_softmax_cross_entropy_with_logits(labels=t_y, logits=t_scores)\n",
    "    t_loss_reg = tf.reduce_sum(W * W) * reg\n",
    "    t_loss = tf.reduce_mean(t_loss_entropy + t_loss_reg)\n",
    "\n",
    "with tf.name_scope(\"Optimizer\"):\n",
    "    optimizer = tf.train.AdamOptimizer()\n",
    "    \n",
    "    t_grads = tf.gradients(t_loss, tf.trainable_variables())\n",
    "    grads_and_vars = list(zip(t_grads, tf.trainable_variables()))\n",
    "    train_op = optimizer.apply_gradients(grads_and_vars)\n",
    "    \n",
    "\n",
    "with tf.name_scope(\"Accuracy\"):\n",
    "    t_acc = tf.reduce_mean(tf.cast(tf.equal(t_prediction, t_y), tf.float32))\n",
    "    "
   ]
  },
  {
   "cell_type": "code",
   "execution_count": null,
   "metadata": {},
   "outputs": [],
   "source": [
    "# Create a summary to monitor cost tensor\n",
    "tf.summary.scalar(\"loss\", t_loss)\n",
    "# Create a summary to monitor accuracy tensor\n",
    "tf.summary.scalar(\"accuracy\", t_acc)\n",
    "# Create summaries to visualize weights\n",
    "for var in tf.trainable_variables():\n",
    "    tf.summary.histogram(var.name, var)\n",
    "# Summarize all gradients\n",
    "for grad, var in grads_and_vars:\n",
    "    tf.summary.histogram(var.name + '/gradient', grad)\n",
    "    \n",
    "# Merge all summaries into a single op\n",
    "merged_summary_op = tf.summary.merge_all()"
   ]
  },
  {
   "cell_type": "code",
   "execution_count": null,
   "metadata": {},
   "outputs": [],
   "source": [
    "# op to write logs to Tensorboard\n",
    "summary_writer = tf.summary.FileWriter(logdir=\"/tmp/tf_logs/\",\n",
    "                                        graph=tf.get_default_graph())"
   ]
  },
  {
   "cell_type": "code",
   "execution_count": null,
   "metadata": {},
   "outputs": [],
   "source": [
    "if \"sess\" in dir():\n",
    "    sess.close()\n",
    "sess = tf.Session()\n",
    "sess.run(tf.global_variables_initializer())\n",
    "iteration = 0"
   ]
  },
  {
   "cell_type": "code",
   "execution_count": null,
   "metadata": {},
   "outputs": [],
   "source": [
    "for i in range(100000):\n",
    "    loss, acc, _, summary = sess.run([t_loss, t_acc, train_op, merged_summary_op], \n",
    "                                     feed_dict={t_x:X_big, t_y:y})\n",
    "    iteration += 1\n",
    "    summary_writer.add_summary(summary, iteration)\n",
    "\n",
    "    time.sleep(0.0000001)\n",
    "    \n",
    "    if i % 2000 == 0:\n",
    "        clear_output(wait=True)\n",
    "        plot(h=0.05)\n",
    "        print(\"iteration %d:\\tloss %f\\tacc %f\" % (i, loss, acc))\n"
   ]
  },
  {
   "cell_type": "code",
   "execution_count": null,
   "metadata": {},
   "outputs": [],
   "source": [
    "# evaluate training set accuracy\n",
    "print('training accuracy: %.2f%%' % (100*sess.run(t_acc, feed_dict={t_x:X_big, t_y:y})))"
   ]
  },
  {
   "cell_type": "markdown",
   "metadata": {},
   "source": [
    "Run the command line:\n",
    "\n",
    "`tensorboard --logdir=/tmp/tf_logs`"
   ]
  }
 ],
 "metadata": {
  "kernelspec": {
   "display_name": "Python 3",
   "language": "python",
   "name": "python3"
  },
  "language_info": {
   "codemirror_mode": {
    "name": "ipython",
    "version": 3
   },
   "file_extension": ".py",
   "mimetype": "text/x-python",
   "name": "python",
   "nbconvert_exporter": "python",
   "pygments_lexer": "ipython3",
   "version": "3.6.3"
  }
 },
 "nbformat": 4,
 "nbformat_minor": 2
}
