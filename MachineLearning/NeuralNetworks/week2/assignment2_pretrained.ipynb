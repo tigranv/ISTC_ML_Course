{
 "cells": [
  {
   "cell_type": "markdown",
   "metadata": {},
   "source": [
    "# Using pre-trained NN"
   ]
  },
  {
   "cell_type": "code",
   "execution_count": null,
   "metadata": {},
   "outputs": [],
   "source": [
    "import numpy as np\n",
    "import tensorflow as tf\n",
    "import keras\n",
    "from matplotlib import pyplot as plt\n",
    "from imageio import imread\n",
    "import pickle"
   ]
  },
  {
   "cell_type": "markdown",
   "metadata": {},
   "source": [
    "# Model Zoo\n",
    "* https://github.com/keras-team/keras/tree/master/keras/applications\n",
    "* More models within the community\n",
    "* Pick model, copy init, download weights\n",
    "* Here we proceed with vgg16"
   ]
  },
  {
   "cell_type": "code",
   "execution_count": null,
   "metadata": {},
   "outputs": [],
   "source": [
    "# download vgg16 weights\n",
    "!wget https://github.com/fchollet/deep-learning-models/releases/download/v0.1/vgg16_weights_tf_dim_ordering_tf_kernels.h5"
   ]
  },
  {
   "cell_type": "markdown",
   "metadata": {},
   "source": [
    "#### Very Deep Convolutional Networks for Large-Scale Visual Recognition\n",
    "VGG at Oxford: http://www.robots.ox.ac.uk/~vgg/research/very_deep/\n",
    "<br>\n",
    "### [layer configuration](https://gist.githubusercontent.com/ksimonyan/211839e770f7b538e2d8/raw/0067c9b32f60362c74f4c445a080beed06b07eb3/VGG_ILSVRC_16_layers_deploy.prototxt)\n",
    "Build a model based on **layer configuration** below"
   ]
  },
  {
   "cell_type": "code",
   "execution_count": 2,
   "metadata": {},
   "outputs": [],
   "source": [
    "from keras.layers import Input\n",
    "from keras.layers import Conv2D\n",
    "from keras.layers import MaxPool2D\n",
    "from keras.layers import Activation\n",
    "from keras.layers import Dense\n",
    "from keras.layers import Dropout\n",
    "from keras.layers import Flatten # You may need this :)\n",
    "\n",
    "\n",
    "img_input = Input(shape=(224, 224, 3), name=\"input\")\n",
    "x = Conv2D(64, 3, padding=\"same\", name=\"conv1_1\")(img_input)\n",
    "\n",
    "....\n",
    "<!!add layers as in configuration file!!>\n",
    "....\n",
    "\n",
    "x = Activation(\"softmax\", name=\"prob\")(x)\n",
    "\n",
    "model = keras.Model(img_input, x)"
   ]
  },
  {
   "cell_type": "markdown",
   "metadata": {},
   "source": [
    "You have to implement two functions in the cell below.\n",
    "\n",
    "Preprocess function should take the image with shape (w, h, 3) and transform it into a tensor with shape (1, 224, 224, 3). Without this transformation, vgg16 won't be able to digest input image. \n",
    "Additionally, your preprocessing function have to rearrange channels RGB -> BGR and subtract mean values from every channel."
   ]
  },
  {
   "cell_type": "code",
   "execution_count": null,
   "metadata": {},
   "outputs": [],
   "source": [
    "MEAN_VALUES = np.array([104, 117, 123])\n",
    "IMAGE_W = 224\n",
    "\n",
    "def preprocess(img):\n",
    "    img = <convert RGB to BGR>\n",
    "    for i in range(3):\n",
    "        img = <substract mean>\n",
    "        \n",
    "    # convert from [w,h,3 to 1,w,h,3]\n",
    "    return img[None]\n",
    "\n",
    "def deprocess(img):\n",
    "    img = img.reshape(img.shape[1:])\n",
    "    for i in range(3):\n",
    "        img[:,:, i] += MEAN_VALUES[i]\n",
    "    return img[:, :, :: -1].astype(np.uint8)\n",
    "\n",
    "img = (np.random.rand(IMAGE_W, IMAGE_W, 3) * 256).astype(np.uint8)\n",
    "\n",
    "print(np.linalg.norm(deprocess(preprocess(img)) - img))"
   ]
  },
  {
   "cell_type": "markdown",
   "metadata": {},
   "source": [
    "If your implementation is correct, the number above will be small, because deprocess function is the inverse of preprocess function"
   ]
  },
  {
   "cell_type": "markdown",
   "metadata": {},
   "source": [
    "### Deploy the network"
   ]
  },
  {
   "cell_type": "code",
   "execution_count": 7,
   "metadata": {},
   "outputs": [],
   "source": [
    "# load vgg16 weights\n",
    "import h5py\n",
    "with h5py.File(\"vgg16_weights_tf_dim_ordering_tf_kernels.h5\", \"r\") as f:\n",
    "    vgg16_weights = {k1: {k2:v2.value for k2, v2 in v1.items()} \n",
    "                     for k1, v1 in f.items() if len(v1)>0}"
   ]
  },
  {
   "cell_type": "code",
   "execution_count": 8,
   "metadata": {
    "scrolled": true
   },
   "outputs": [
    {
     "data": {
      "text/plain": [
       "[[(3, 3, 3, 64), (64,)],\n",
       " [(3, 3, 64, 64), (64,)],\n",
       " [(3, 3, 64, 128), (128,)],\n",
       " [(3, 3, 128, 128), (128,)],\n",
       " [(3, 3, 128, 256), (256,)],\n",
       " [(3, 3, 256, 256), (256,)],\n",
       " [(3, 3, 256, 256), (256,)],\n",
       " [(3, 3, 256, 512), (512,)],\n",
       " [(3, 3, 512, 512), (512,)],\n",
       " [(3, 3, 512, 512), (512,)],\n",
       " [(3, 3, 512, 512), (512,)],\n",
       " [(3, 3, 512, 512), (512,)],\n",
       " [(3, 3, 512, 512), (512,)],\n",
       " [(25088, 4096), (4096,)],\n",
       " [(4096, 4096), (4096,)],\n",
       " [(4096, 1000), (1000,)]]"
      ]
     },
     "execution_count": 8,
     "metadata": {},
     "output_type": "execute_result"
    }
   ],
   "source": [
    "[[y.shape for y in x.values()] for x in vgg16_weights.values()]"
   ]
  },
  {
   "cell_type": "markdown",
   "metadata": {},
   "source": [
    "Now we should put the weights into their places:"
   ]
  },
  {
   "cell_type": "raw",
   "metadata": {},
   "source": [
    "model.set_weights(...)"
   ]
  },
  {
   "cell_type": "code",
   "execution_count": 9,
   "metadata": {},
   "outputs": [
    {
     "name": "stdout",
     "output_type": "stream",
     "text": [
      "ostrich, Struthio camelus\n"
     ]
    }
   ],
   "source": [
    "# classes' names are stored here\n",
    "with open(\"classes.txt\", \"r\") as f:\n",
    "    classes = f.read().splitlines()\n",
    "# for example, 10th class is ostrich:\n",
    "print(classes[9])"
   ]
  },
  {
   "cell_type": "markdown",
   "metadata": {},
   "source": [
    "### Sanity check\n",
    "Lets check that out pretrained network is working. We have sample image of a \"albatross\" and lets check that out network predicts it well."
   ]
  },
  {
   "cell_type": "code",
   "execution_count": 28,
   "metadata": {},
   "outputs": [
    {
     "data": {
      "image/png": "[encoded data removed]",
      "text/plain": [
       "<matplotlib.figure.Figure at 0x7f97844ca7b8>"
      ]
     },
     "metadata": {},
     "output_type": "display_data"
    },
    {
     "name": "stdout",
     "output_type": "stream",
     "text": [
      "note that image array type is uint8\n",
      "top-5 classes are:\n",
      "0.996280\talbatross\n",
      "0.003715\tgoose\n",
      "0.000001\tdrake\n",
      "0.000001\twhite stork\n",
      "0.000001\tspoonbill\n"
     ]
    }
   ],
   "source": [
    "img = imread('albatross.jpg')\n",
    "plt.imshow(img)\n",
    "plt.show()\n",
    "print(\"note that image array type is\", img.dtype)\n",
    "\n",
    "p = model.predict(<predict what???>)\n",
    "\n",
    "labels = p.ravel().argsort()[-1:-6:-1]\n",
    "print('top-5 classes are:')\n",
    "for l in labels:\n",
    "    print('%3f\\t%s' % (p.ravel()[l], classes[l].split(',')[0]))"
   ]
  },
  {
   "cell_type": "markdown",
   "metadata": {},
   "source": [
    "# Grand-quest: Dogs Vs Cats\n",
    "* original competition\n",
    "* https://www.kaggle.com/c/dogs-vs-cats\n",
    "* 25k JPEG images of various size, 2 classes (guess what)\n",
    "\n",
    "### Your main objective\n",
    "* In this seminar your goal is to fine-tune a pre-trained model to distinguish between the two rivaling animals\n",
    "* The first step is to just reuse some network layer as features"
   ]
  },
  {
   "cell_type": "code",
   "execution_count": null,
   "metadata": {},
   "outputs": [],
   "source": [
    "!wget https://www.dropbox.com/s/d61lupw909hc785/dogs_vs_cats.train.zip?dl=1 -O data.zip\n",
    "!unzip data.zip"
   ]
  },
  {
   "cell_type": "markdown",
   "metadata": {},
   "source": [
    "# for starters\n",
    "* Train sklearn model, evaluate validation accuracy (should be >80%"
   ]
  },
  {
   "cell_type": "code",
   "execution_count": null,
   "metadata": {},
   "outputs": [],
   "source": [
    "#extract features from images\n",
    "from tqdm import tqdm\n",
    "from scipy.misc import imresize\n",
    "import os\n",
    "X = []\n",
    "Y = []\n",
    "\n",
    "#this may be a tedious process. If so, store the results in some pickle and re-use them.\n",
    "for fname in tqdm(os.listdir('train/')):\n",
    "    y = fname.startswith(\"cat\")\n",
    "    img = imread(\"train/\"+fname)\n",
    "    img = preprocess(imresize(img,(IMAGE_W,IMAGE_W)))\n",
    "    features = <preprocess the image into features)\n",
    "    Y.append(y)\n",
    "    X.append(features)"
   ]
  },
  {
   "cell_type": "code",
   "execution_count": null,
   "metadata": {},
   "outputs": [],
   "source": [
    "\n",
    "X = np.concatenate(X) #stack all [1xfeature] matrices into one. \n",
    "assert X.ndim==2\n",
    "#WARNING! the concatenate works for [1xN] matrices. If you have other format, stack them yourself.\n",
    "\n",
    "#crop if we ended prematurely\n",
    "Y = Y[:len(X)]"
   ]
  },
  {
   "cell_type": "code",
   "execution_count": null,
   "metadata": {},
   "outputs": [],
   "source": [
    "from sklearn.cross_validation import train_test_split\n",
    "\n",
    "<split data either here or by cross-validation>"
   ]
  },
  {
   "cell_type": "markdown",
   "metadata": {},
   "source": [
    "__load our dakka__\n",
    "![img](https://s-media-cache-ak0.pinimg.com/564x/80/a1/81/80a1817a928744a934a7d32e7c03b242.jpg)"
   ]
  },
  {
   "cell_type": "code",
   "execution_count": null,
   "metadata": {},
   "outputs": [],
   "source": [
    "from sklearn.ensemble import RandomForestClassifier,ExtraTreesClassifier,GradientBoostingClassifier,AdaBoostClassifier\n",
    "from sklearn.linear_model import LogisticRegression, RidgeClassifier\n",
    "from sklearn.svm import SVC\n",
    "from sklearn.tree import DecisionTreeClassifier"
   ]
  },
  {
   "cell_type": "markdown",
   "metadata": {
    "collapsed": true
   },
   "source": [
    "# Main quest\n",
    "\n",
    "* Get the score improved!\n",
    "\n",
    "No methods are illegal: ensembling, data augmentation, NN hacks. \n",
    "Just don't let test data slip into training.\n",
    "\n",
    "The main requirement is that you implement the NN fine-tuning recipe:\n",
    "### Split the raw image data\n",
    "  * please do train/validation/test instead of just train/test\n",
    "  * reasonable but not optimal split is 20k/2.5k/2.5k or 15k/5k/5k\n",
    "### Choose which vgg layers are you going to use\n",
    "  * Anything but for prob is okay\n",
    "  * Do not forget that vgg16 uses dropout\n",
    "### Build a few layers on top of chosen \"neck\" layers.\n",
    "  * a good idea is to just stack more layers inside the same network\n",
    "  * alternative: stack on top of get_output\n",
    "### Train the newly added layers for some iterations\n",
    "  * you can selectively train some weights by only sending them to your optimizer\n",
    "      * `mysupermegaoptimizer.minimize(loss, var_list=<only_those_weights_i_wanna_train>)`\n",
    "  * it's cruicial to monitor the network performance at this and following steps\n",
    "### Fine-tune the network body\n",
    "  * probably a good idea to SAVE your new network weights now 'cuz it's easy to mess things up.\n",
    "  * Moreover, saving weights periodically is a no-nonsense idea\n",
    "  * even more cruicial to monitor validation performance\n",
    "  * main network body may need a separate, much lower learning rate\n",
    "      * You can have two optimizers: one for old network and one for new network\n",
    "      * `old_net_optimizer.minimize(loss, old_net_weigts)`\n",
    "      * `new_net_optimizer.minimize(loss, new_net_weigts)`\n",
    "### PROFIT!!!\n",
    "  * Evaluate the final score\n",
    "  * Submit to kaggle\n",
    "      * competition page https://www.kaggle.com/c/dogs-vs-cats-redux-kernels-edition\n",
    "      * get test data https://www.kaggle.com/c/dogs-vs-cats-redux-kernels-edition/data\n",
    "  \n",
    "## Some ways to get bonus points\n",
    "* explore other networks from the model zoo\n",
    "* play with architecture\n",
    "* 85%/90%/93%/95%/97% kaggle score (screenshot pls).\n",
    "* data augmentation, prediction-time data augmentation\n",
    "* use any more advanced fine-tuning technique you know/read anywhere\n",
    "* ml hacks that benefit the final score\n"
   ]
  },
  {
   "cell_type": "code",
   "execution_count": null,
   "metadata": {},
   "outputs": [],
   "source": [
    "print(\"I can do it!\")"
   ]
  },
  {
   "cell_type": "code",
   "execution_count": null,
   "metadata": {},
   "outputs": [],
   "source": []
  },
  {
   "cell_type": "code",
   "execution_count": null,
   "metadata": {},
   "outputs": [],
   "source": []
  },
  {
   "cell_type": "code",
   "execution_count": null,
   "metadata": {},
   "outputs": [],
   "source": []
  },
  {
   "cell_type": "code",
   "execution_count": null,
   "metadata": {},
   "outputs": [],
   "source": []
  },
  {
   "cell_type": "code",
   "execution_count": null,
   "metadata": {},
   "outputs": [],
   "source": []
  }
 ],
 "metadata": {
  "kernelspec": {
   "display_name": "Python 3",
   "language": "python",
   "name": "python3"
  },
  "language_info": {
   "codemirror_mode": {
    "name": "ipython",
    "version": 3
   },
   "file_extension": ".py",
   "mimetype": "text/x-python",
   "name": "python",
   "nbconvert_exporter": "python",
   "pygments_lexer": "ipython3",
   "version": "3.6.3"
  }
 },
 "nbformat": 4,
 "nbformat_minor": 1
}
