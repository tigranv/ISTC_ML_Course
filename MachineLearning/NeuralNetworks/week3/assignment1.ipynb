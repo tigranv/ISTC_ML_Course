{
 "cells": [
  {
   "cell_type": "markdown",
   "metadata": {},
   "source": [
    "# Text Classification: sentiment analysis."
   ]
  },
  {
   "cell_type": "markdown",
   "metadata": {},
   "source": [
    "### Data"
   ]
  },
  {
   "cell_type": "markdown",
   "metadata": {},
   "source": [
    "The dataset we will use of this problem is known as the Stanford Sentiment Treebank. Movie reviews with one sentence per review:\n",
    "* `sst.bin.*` with binary labels: negative or positive\n",
    "* `sst.fine.*` with fine-grained labels (very negative, negative, neutral, positive, very positive),"
   ]
  },
  {
   "cell_type": "code",
   "execution_count": 1,
   "metadata": {},
   "outputs": [
    {
     "name": "stderr",
     "output_type": "stream",
     "text": [
      "/home/ashmat98/.miniconda3/lib/python3.6/site-packages/h5py/__init__.py:36: FutureWarning: Conversion of the second argument of issubdtype from `float` to `np.floating` is deprecated. In future, it will be treated as `np.float64 == np.dtype(float).type`.\n",
      "  from ._conv import register_converters as _register_converters\n",
      "Using TensorFlow backend.\n"
     ]
    }
   ],
   "source": [
    "import keras\n",
    "import numpy as np\n",
    "from matplotlib import pyplot as plt"
   ]
  },
  {
   "cell_type": "code",
   "execution_count": 2,
   "metadata": {},
   "outputs": [
    {
     "name": "stdout",
     "output_type": "stream",
     "text": [
      "Train:      6920   Mean sentence length: 19.3\n",
      "Validation: 872\n",
      "Test:       1821\n"
     ]
    }
   ],
   "source": [
    "with open(\"data/sst.bin.train\", \"r\") as f:\n",
    "    train = [(int(x.split()[0]), x.split()[1:]) for x in f.readlines()]\n",
    "with open(\"data/sst.bin.val\", \"r\") as f:\n",
    "    val = [(int(x.split()[0]), x.split()[1:]) for x in f.readlines()]\n",
    "with open(\"data/sst.bin.test\", \"r\") as f:\n",
    "    test = [(x.split()[1:]) for x in f.readlines()]\n",
    "print(\"Train:     \", len(train), \"  Mean sentence length:\", np.mean([len(x[1]) for x in train]).round(2))\n",
    "print(\"Validation:\", len(val))\n",
    "print(\"Test:      \", len(test))"
   ]
  },
  {
   "cell_type": "code",
   "execution_count": 3,
   "metadata": {},
   "outputs": [],
   "source": [
    "from collections import Counter, defaultdict\n",
    "import itertools\n"
   ]
  },
  {
   "cell_type": "code",
   "execution_count": 4,
   "metadata": {},
   "outputs": [],
   "source": [
    "# calculate word frequencies\n",
    "word_frequencies = Counter(itertools.chain(\n",
    "    *((word for word in sample[1]) for sample in train)\n",
    "))"
   ]
  },
  {
   "cell_type": "code",
   "execution_count": 12,
   "metadata": {},
   "outputs": [
    {
     "name": "stdout",
     "output_type": "stream",
     "text": [
      "Vocabulary size: 14828\n"
     ]
    },
    {
     "data": {
      "image/png": "[encoded data removed]",
      "text/plain": [
       "<matplotlib.figure.Figure at 0x7fbacaa59710>"
      ]
     },
     "metadata": {},
     "output_type": "display_data"
    }
   ],
   "source": [
    "print(\"Vocabulary size:\", len(word_frequencies))\n",
    "\n",
    "plt.plot([x[1] for x in word_frequencies.most_common()[::-1]])\n",
    "plt.ylim(0, 20);"
   ]
  },
  {
   "cell_type": "code",
   "execution_count": 13,
   "metadata": {},
   "outputs": [
    {
     "data": {
      "text/plain": [
       "(3592, 3594)"
      ]
     },
     "execution_count": 13,
     "metadata": {},
     "output_type": "execute_result"
    }
   ],
   "source": [
    "# indexing words\n",
    "\n",
    "PAD = 0 # padding\n",
    "UNK = 1 # unknown word\n",
    "vocab = dict()\n",
    "\n",
    "word_index = 2\n",
    "for w, c in word_frequencies.items():\n",
    "    if c > 3:\n",
    "        vocab[w] = word_index\n",
    "        word_index += 1\n",
    "\n",
    "len(vocab), word_index"
   ]
  },
  {
   "cell_type": "code",
   "execution_count": 17,
   "metadata": {},
   "outputs": [],
   "source": [
    "# change words with indices\n",
    "\n",
    "train_X = [[vocab.get(x, UNK) for x in sample[1]]\n",
    "                    for sample in train]\n",
    "train_y = [sample[0] for sample in train]\n",
    "\n",
    "max_len = np.sort([len(x) for x in train_X])\n",
    "\n",
    "val_X = [[vocab.get(x, UNK) for x in sample[1]]\n",
    "                    for sample in val]\n",
    "val_y = [sample[0] for sample in val]\n"
   ]
  },
  {
   "cell_type": "code",
   "execution_count": 18,
   "metadata": {},
   "outputs": [],
   "source": [
    "train_X = keras.preprocessing.sequence.pad_sequences(train_X, value=PAD)\n",
    "train_y = np.array(train_y)\n",
    "\n",
    "val_X = keras.preprocessing.sequence.pad_sequences(val_X, value=PAD)\n",
    "val_y = np.array(val_y)\n",
    "\n"
   ]
  },
  {
   "cell_type": "code",
   "execution_count": 19,
   "metadata": {},
   "outputs": [
    {
     "data": {
      "text/plain": [
       "((6920, 52), (6920,), (872, 47), (872,))"
      ]
     },
     "execution_count": 19,
     "metadata": {},
     "output_type": "execute_result"
    }
   ],
   "source": [
    "train_X.shape, train_y.shape, val_X.shape, val_y.shape"
   ]
  },
  {
   "cell_type": "code",
   "execution_count": 20,
   "metadata": {},
   "outputs": [],
   "source": [
    "from keras import Sequential\n",
    "from keras.layers import Embedding\n",
    "from keras.layers import LSTM\n",
    "from keras.layers import Dense"
   ]
  },
  {
   "cell_type": "code",
   "execution_count": 21,
   "metadata": {},
   "outputs": [
    {
     "name": "stdout",
     "output_type": "stream",
     "text": [
      "_________________________________________________________________\n",
      "Layer (type)                 Output Shape              Param #   \n",
      "=================================================================\n",
      "embedding_1 (Embedding)      (None, None, 32)          115008    \n",
      "_________________________________________________________________\n",
      "lstm_1 (LSTM)                (None, 100)               53200     \n",
      "_________________________________________________________________\n",
      "dense_1 (Dense)              (None, 1)                 101       \n",
      "=================================================================\n",
      "Total params: 168,309\n",
      "Trainable params: 168,309\n",
      "Non-trainable params: 0\n",
      "_________________________________________________________________\n",
      "None\n"
     ]
    }
   ],
   "source": [
    "# create the model\n",
    "embedding_vecor_length = 32\n",
    "model = Sequential()\n",
    "model.add(Embedding(word_index, embedding_vecor_length))\n",
    "model.add(LSTM(100))\n",
    "model.add(Dense(1, activation='sigmoid'))\n",
    "model.compile(loss='binary_crossentropy', optimizer='adam', metrics=['accuracy'])\n",
    "print(model.summary())"
   ]
  },
  {
   "cell_type": "code",
   "execution_count": 22,
   "metadata": {
    "scrolled": false
   },
   "outputs": [
    {
     "name": "stdout",
     "output_type": "stream",
     "text": [
      "Train on 6920 samples, validate on 872 samples\n",
      "Epoch 1/10\n",
      "6920/6920 [==============================] - 9s 1ms/step - loss: 0.6823 - acc: 0.5873 - val_loss: 0.6569 - val_acc: 0.6239\n",
      "Epoch 2/10\n",
      "6920/6920 [==============================] - 6s 888us/step - loss: 0.6137 - acc: 0.6980 - val_loss: 0.5593 - val_acc: 0.7443\n",
      "Epoch 3/10\n",
      "6920/6920 [==============================] - 6s 905us/step - loss: 0.4506 - acc: 0.7997 - val_loss: 0.4819 - val_acc: 0.7695\n",
      "Epoch 4/10\n",
      "6920/6920 [==============================] - 6s 870us/step - loss: 0.3215 - acc: 0.8676 - val_loss: 0.5110 - val_acc: 0.7683\n",
      "Epoch 5/10\n",
      "6920/6920 [==============================] - 6s 875us/step - loss: 0.2551 - acc: 0.8974 - val_loss: 0.5461 - val_acc: 0.7615\n",
      "Epoch 6/10\n",
      "6920/6920 [==============================] - 6s 879us/step - loss: 0.2163 - acc: 0.9186 - val_loss: 0.6043 - val_acc: 0.7672\n",
      "Epoch 7/10\n",
      "6920/6920 [==============================] - 7s 1ms/step - loss: 0.1804 - acc: 0.9358 - val_loss: 0.6873 - val_acc: 0.7466\n",
      "Epoch 8/10\n",
      "6920/6920 [==============================] - 7s 1ms/step - loss: 0.1543 - acc: 0.9451 - val_loss: 0.7630 - val_acc: 0.7603\n",
      "Epoch 9/10\n",
      "6920/6920 [==============================] - 6s 881us/step - loss: 0.1238 - acc: 0.9588 - val_loss: 0.8421 - val_acc: 0.7580\n",
      "Epoch 10/10\n",
      "6920/6920 [==============================] - 7s 982us/step - loss: 0.1077 - acc: 0.9633 - val_loss: 0.9065 - val_acc: 0.7603\n"
     ]
    },
    {
     "data": {
      "text/plain": [
       "<keras.callbacks.History at 0x7fbacec435f8>"
      ]
     },
     "execution_count": 22,
     "metadata": {},
     "output_type": "execute_result"
    }
   ],
   "source": [
    "model.fit(train_X, train_y, validation_data=(val_X, val_y), epochs=10, batch_size=64)"
   ]
  },
  {
   "cell_type": "markdown",
   "metadata": {},
   "source": [
    "<img src=\"img/rnn_converge.jpg\" style=\"height: 400px;\"/>"
   ]
  },
  {
   "cell_type": "markdown",
   "metadata": {},
   "source": [
    "## Assignment\n",
    "\n",
    "Now it is your turn to build the models.\n",
    "I ask that you construct the following models:\n",
    "\n",
    "1. A naive Bayes unigram classifer (follow Wang and Manning http://www.aclweb.org/anthology/P/P12/P12-2.pdf#page=118: you should only implement Naive Bayes, not the combined classifer with SVM).\n",
    "2. A logistic regression model over word types (you can implement this as $y = \\sigma(\\sum_i W x_i + b)$) \n",
    "3. A continuous bag-of-word neural network with embeddings (similar to CBOW in Mikolov et al https://arxiv.org/pdf/1301.3781.pdf).\n",
    "4. A simple convolutional neural network (any variant of CNN as described in Kim http://aclweb.org/anthology/D/D14/D14-1181.pdf).\n",
    "5. Your own extensions to these models...\n",
    "\n",
    "[this](https://machinelearningmastery.com/sequence-classification-lstm-recurrent-neural-networks-python-keras/) will be useful\n",
    "<br>\n",
    "You can also use pretrained word vectors (https://s3-us-west-1.amazonaws.com/fasttext-vectors/wiki.simple.vec)\n",
    "\n",
    "\n",
    "Consult the papers provided for hyperparameters. "
   ]
  }
 ],
 "metadata": {
  "kernelspec": {
   "display_name": "Python 3",
   "language": "python",
   "name": "python3"
  },
  "language_info": {
   "codemirror_mode": {
    "name": "ipython",
    "version": 3
   },
   "file_extension": ".py",
   "mimetype": "text/x-python",
   "name": "python",
   "nbconvert_exporter": "python",
   "pygments_lexer": "ipython3",
   "version": "3.6.3"
  }
 },
 "nbformat": 4,
 "nbformat_minor": 2
}
