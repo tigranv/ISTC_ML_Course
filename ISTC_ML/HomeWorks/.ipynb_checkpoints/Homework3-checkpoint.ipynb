{
 "cells": [
  {
   "cell_type": "code",
   "execution_count": 74,
   "metadata": {
    "collapsed": true
   },
   "outputs": [],
   "source": [
    "import math\n",
    "import random\n",
    "from mpl_toolkits.mplot3d import Axes3D\n",
    "\n",
    "def f(x, y):\n",
    "    return x * y"
   ]
  },
  {
   "cell_type": "code",
   "execution_count": 75,
   "metadata": {},
   "outputs": [
    {
     "name": "stdout",
     "output_type": "stream",
     "text": [
      "{0.0, 0.25, 1.0, 0.5, 0.75, 1.25, 1.5, 1.75, 2.0, 2.25, 2.5, 2.75, 3.0, 4.0, 3.25, 3.5, 3.75, 4.25, 4.5, 4.75}\n"
     ]
    }
   ],
   "source": [
    "values =set()\n",
    "for i in np.arange(0.0, 10.0, 0.5):\n",
    "    for j in np.arange(0.0, 1.0, 0.5):\n",
    "        values.add(f(i, j))\n",
    "print(values)    "
   ]
  },
  {
   "cell_type": "code",
   "execution_count": 76,
   "metadata": {},
   "outputs": [
    {
     "name": "stdout",
     "output_type": "stream",
     "text": [
      "[[0.0, 0.0, 0.0, 0.0, 0.0, 0.0, 0.0, 0.0, 0.0, 0.0, 0.10000000000000001, 0.20000000000000001, 0.30000000000000004, 0.40000000000000002, 0.5, 0.60000000000000009, 0.70000000000000007, 0.80000000000000004, 0.90000000000000002, 1.0, 1.1000000000000001, 1.2000000000000002, 1.3, 1.4000000000000001, 1.5, 1.6000000000000001, 1.7000000000000002, 1.8, 1.9000000000000001, 2.0, 2.1000000000000001, 2.2000000000000002, 2.3000000000000003, 2.4000000000000004, 2.5, 2.6000000000000001, 2.7000000000000002, 2.8000000000000003, 2.9000000000000004, 3.0, 3.1000000000000001, 3.2000000000000002, 3.3000000000000003, 3.4000000000000004, 3.5, 3.6000000000000001, 3.7000000000000002, 3.8000000000000003, 3.9000000000000004, 4.0, 4.1000000000000005, 4.2000000000000002, 4.2999999999999998, 4.4000000000000004, 4.5, 4.6000000000000005, 4.7000000000000002, 4.8000000000000007, 4.9000000000000004, 5.0, 5.1000000000000005, 5.2000000000000002, 5.3000000000000007, 5.4000000000000004, 5.5, 5.6000000000000005, 5.7000000000000002, 5.8000000000000007, 5.9000000000000004, 6.0, 6.1000000000000005, 6.2000000000000002, 6.3000000000000007, 6.4000000000000004, 6.5, 6.6000000000000005, 6.7000000000000002, 6.8000000000000007, 6.9000000000000004, 7.0, 7.1000000000000005, 7.2000000000000002, 7.3000000000000007, 7.4000000000000004, 7.5, 7.6000000000000005, 7.7000000000000002, 7.8000000000000007, 7.9000000000000004, 8.0, 8.0999999999999996, 8.2000000000000011, 8.3000000000000007, 8.4000000000000004, 8.5, 8.5999999999999996, 8.7000000000000011, 8.8000000000000007, 8.9000000000000004, 9.0, 9.0999999999999996, 9.2000000000000011, 9.3000000000000007, 9.4000000000000004, 9.5, 9.6000000000000014, 9.7000000000000011, 9.8000000000000007, 9.9000000000000004], [0.0, 0.10000000000000001, 0.20000000000000001, 0.30000000000000004, 0.40000000000000002, 0.5, 0.60000000000000009, 0.70000000000000007, 0.80000000000000004, 0.90000000000000002, 0.0, 0.0, 0.0, 0.0, 0.0, 0.0, 0.0, 0.0, 0.0, 0.0, 0.0, 0.0, 0.0, 0.0, 0.0, 0.0, 0.0, 0.0, 0.0, 0.0, 0.0, 0.0, 0.0, 0.0, 0.0, 0.0, 0.0, 0.0, 0.0, 0.0, 0.0, 0.0, 0.0, 0.0, 0.0, 0.0, 0.0, 0.0, 0.0, 0.0, 0.0, 0.0, 0.0, 0.0, 0.0, 0.0, 0.0, 0.0, 0.0, 0.0, 0.0, 0.0, 0.0, 0.0, 0.0, 0.0, 0.0, 0.0, 0.0, 0.0, 0.0, 0.0, 0.0, 0.0, 0.0, 0.0, 0.0, 0.0, 0.0, 0.0, 0.0, 0.0, 0.0, 0.0, 0.0, 0.0, 0.0, 0.0, 0.0, 0.0, 0.0, 0.0, 0.0, 0.0, 0.0, 0.0, 0.0, 0.0, 0.0, 0.0, 0.0, 0.0, 0.0, 0.0, 0.0, 0.0, 0.0, 0.0, 0.0]]\n"
     ]
    }
   ],
   "source": [
    "dict_arr = {}\n",
    "for v in values:\n",
    "    temp_arrX = []\n",
    "    temp_arrY = []\n",
    "    for i in np.arange(0.0, 10.0, 0.1):\n",
    "        for j in np.arange(0.0, 1.0, 0.1):\n",
    "            if f(i, j) == v:\n",
    "                temp_arrX.append(i)\n",
    "                temp_arrY.append(j)\n",
    "    dict_arr[v] = [temp_arrX, temp_arrY]\n",
    "print(dict_arr[0])"
   ]
  },
  {
   "cell_type": "code",
   "execution_count": 80,
   "metadata": {},
   "outputs": [
    {
     "data": {
      "image/png": "[encoded data removed]",
      "text/plain": [
       "<matplotlib.figure.Figure at 0x18fb506d390>"
      ]
     },
     "metadata": {},
     "output_type": "display_data"
    }
   ],
   "source": [
    "import numpy as np\n",
    "import matplotlib.pyplot as plt\n",
    "X = np.array(dict_arr[0][0])\n",
    "Y = np.array(dict_arr[0][1])\n",
    "Z = np.array(list(values))\n",
    "plt.plot(X, Y)\n",
    "plt.show()\n"
   ]
  },
  {
   "cell_type": "code",
   "execution_count": null,
   "metadata": {
    "collapsed": true
   },
   "outputs": [],
   "source": []
  },
  {
   "cell_type": "code",
   "execution_count": null,
   "metadata": {
    "collapsed": true
   },
   "outputs": [],
   "source": []
  }
 ],
 "metadata": {
  "kernelspec": {
   "display_name": "Python 3",
   "language": "python",
   "name": "python3"
  },
  "language_info": {
   "codemirror_mode": {
    "name": "ipython",
    "version": 3
   },
   "file_extension": ".py",
   "mimetype": "text/x-python",
   "name": "python",
   "nbconvert_exporter": "python",
   "pygments_lexer": "ipython3",
   "version": "3.6.2"
  }
 },
 "nbformat": 4,
 "nbformat_minor": 2
}
