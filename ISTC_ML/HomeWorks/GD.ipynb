{
 "cells": [
  {
   "cell_type": "markdown",
   "metadata": {},
   "source": [
    "### Function\n"
   ]
  },
  {
   "cell_type": "markdown",
   "metadata": {},
   "source": [
    "$$ f(x_1, x_2) = e^{x_1 + 3x_2 - 0.1} + e^{x_1 - 3x_2 + 0.2} + e^{-x_1 - 0.1} $$"
   ]
  },
  {
   "cell_type": "code",
   "execution_count": 38,
   "metadata": {
    "collapsed": true
   },
   "outputs": [],
   "source": [
    "import math\n",
    "def f(x, y):\n",
    "    return math.exp(x + 3*y - 0.1) + math.exp(x - 3*y + 0.2) + math.exp(- x - 0.1)"
   ]
  },
  {
   "cell_type": "markdown",
   "metadata": {},
   "source": [
    "### Partial derivatives"
   ]
  },
  {
   "cell_type": "markdown",
   "metadata": {},
   "source": [
    "$$ \\frac{{d}f(x_1, x_2)}{{d}x_1} = e^{x_1 + 3x_2 - 0.1} + e^{x_1 - 3x_2 + 0.2} - e^{-x_1 - 0.1} $$"
   ]
  },
  {
   "cell_type": "markdown",
   "metadata": {},
   "source": [
    "$$ \\frac{{d}f(x_1, x_2)}{{d}x_2} = 3e^{x_1 + 3x_2 - 0.1} - 3e^{x_1 - 3x_2 + 0.2} $$"
   ]
  },
  {
   "cell_type": "code",
   "execution_count": 39,
   "metadata": {
    "collapsed": true
   },
   "outputs": [],
   "source": [
    "def fx(x, y):\n",
    "    return math.exp(x + 3*y - 0.1) + math.exp(x - 3*y + 0.2) - math.exp(- x - 0.1)\n",
    "\n",
    "def fy(x, y):\n",
    "    return 3*math.exp(x + 3*y - 0.1) - 3*math.exp(x - 3*y + 0.2)"
   ]
  },
  {
   "cell_type": "markdown",
   "metadata": {},
   "source": [
    "### Gradient descent"
   ]
  },
  {
   "cell_type": "code",
   "execution_count": 53,
   "metadata": {},
   "outputs": [],
   "source": [
    "def GD(f, learning_rate):\n",
    "    x = 10\n",
    "    y = 10\n",
    "    l = 1;\n",
    "    while l >= 0.0001:\n",
    "        x_temp = x - learning_rate * fx(x, y)\n",
    "        y_temp = y - learning_rate * fy(x, y)\n",
    "        l = f(x, y) - f(x_temp, y_temp) \n",
    "        x = x_temp\n",
    "        y = y_temp       \n",
    "    print(x, y)\n",
    "        "
   ]
  },
  {
   "cell_type": "code",
   "execution_count": 49,
   "metadata": {},
   "outputs": [
    {
     "name": "stdout",
     "output_type": "stream",
     "text": [
      "-0.3075992376179088 0.04997050789539588\n"
     ]
    }
   ],
   "source": [
    "GD(f, 0.001)\n"
   ]
  },
  {
   "cell_type": "code",
   "execution_count": null,
   "metadata": {
    "collapsed": true
   },
   "outputs": [],
   "source": []
  },
  {
   "cell_type": "code",
   "execution_count": null,
   "metadata": {
    "collapsed": true
   },
   "outputs": [],
   "source": []
  },
  {
   "cell_type": "code",
   "execution_count": null,
   "metadata": {
    "collapsed": true
   },
   "outputs": [],
   "source": []
  }
 ],
 "metadata": {
  "kernelspec": {
   "display_name": "Python 3",
   "language": "python",
   "name": "python3"
  },
  "language_info": {
   "codemirror_mode": {
    "name": "ipython",
    "version": 3
   },
   "file_extension": ".py",
   "mimetype": "text/x-python",
   "name": "python",
   "nbconvert_exporter": "python",
   "pygments_lexer": "ipython3",
   "version": "3.6.2"
  }
 },
 "nbformat": 4,
 "nbformat_minor": 2
}
